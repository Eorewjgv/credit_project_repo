{
 "cells": [
  {
   "cell_type": "markdown",
   "metadata": {},
   "source": [
    "# Исследование надёжности заёмщиков\n",
    "\n",
    "Заказчик — кредитный отдел банка. Нужно разобраться, влияет ли семейное положение и количество детей клиента на факт погашения кредита в срок. Входные данные от банка — статистика о платёжеспособности клиентов.\n",
    "\n",
    "Результаты исследования будут учтены при построении модели **кредитного скоринга** — специальной системы, которая оценивает способность потенциального заёмщика вернуть кредит банку."
   ]
  },
  {
   "cell_type": "markdown",
   "metadata": {},
   "source": [
    "## Шаг 1. Откройте файл с данными и изучите общую информацию"
   ]
  },
  {
   "cell_type": "code",
   "execution_count": 2,
   "metadata": {
    "scrolled": false
   },
   "outputs": [],
   "source": [
    "import pandas as pd"
   ]
  },
  {
   "cell_type": "code",
   "execution_count": 3,
   "metadata": {},
   "outputs": [],
   "source": [
    "try:\n",
    "    data = pd.read_csv('/datasets/data.csv') \n",
    "except:\n",
    "    data = pd.read_csv('data.csv')"
   ]
  },
  {
   "cell_type": "code",
   "execution_count": 4,
   "metadata": {},
   "outputs": [
    {
     "name": "stdout",
     "output_type": "stream",
     "text": [
      "<class 'pandas.core.frame.DataFrame'>\n",
      "RangeIndex: 21525 entries, 0 to 21524\n",
      "Data columns (total 12 columns):\n",
      "children            21525 non-null int64\n",
      "days_employed       19351 non-null float64\n",
      "dob_years           21525 non-null int64\n",
      "education           21525 non-null object\n",
      "education_id        21525 non-null int64\n",
      "family_status       21525 non-null object\n",
      "family_status_id    21525 non-null int64\n",
      "gender              21525 non-null object\n",
      "income_type         21525 non-null object\n",
      "debt                21525 non-null int64\n",
      "total_income        19351 non-null float64\n",
      "purpose             21525 non-null object\n",
      "dtypes: float64(2), int64(5), object(5)\n",
      "memory usage: 2.0+ MB\n"
     ]
    }
   ],
   "source": [
    "data.info()"
   ]
  },
  {
   "cell_type": "code",
   "execution_count": 5,
   "metadata": {
    "scrolled": false
   },
   "outputs": [],
   "source": [
    "data['days_employed'] = data['days_employed'].abs()"
   ]
  },
  {
   "cell_type": "code",
   "execution_count": 6,
   "metadata": {
    "scrolled": false
   },
   "outputs": [
    {
     "data": {
      "text/plain": [
       "children               0\n",
       "days_employed       2174\n",
       "dob_years              0\n",
       "education              0\n",
       "education_id           0\n",
       "family_status          0\n",
       "family_status_id       0\n",
       "gender                 0\n",
       "income_type            0\n",
       "debt                   0\n",
       "total_income        2174\n",
       "purpose                0\n",
       "dtype: int64"
      ]
     },
     "execution_count": 6,
     "metadata": {},
     "output_type": "execute_result"
    }
   ],
   "source": [
    "data['education'] = data['education'].str.lower()\n",
    "data.isna().sum() # пропуска выявил методом isna()"
   ]
  },
  {
   "cell_type": "markdown",
   "metadata": {},
   "source": [
    "**Вывод**"
   ]
  },
  {
   "cell_type": "markdown",
   "metadata": {},
   "source": [
    "В данной таблице присутствуют пропуски в колонках \"days_employed\" и \"total_income\" \n",
    "Пропуски обозначены как : NaN\n",
    "\n",
    "Преобразовал все минусовые значения в столбце 'days_employed', потому что не корректно работать с минусовым стажем работы\n",
    "\n",
    "Изменил регистр в колонке 'education'"
   ]
  },
  {
   "cell_type": "markdown",
   "metadata": {},
   "source": [
    "## Шаг 2. Предобработка данных"
   ]
  },
  {
   "cell_type": "markdown",
   "metadata": {},
   "source": [
    "### Обработка пропусков"
   ]
  },
  {
   "cell_type": "code",
   "execution_count": 7,
   "metadata": {},
   "outputs": [
    {
     "data": {
      "text/plain": [
       "21340    397408.466072\n",
       "7908     338989.550143\n",
       "12758    352899.571175\n",
       "16448              NaN\n",
       "8781     396641.810893\n",
       "Name: days_employed, dtype: float64"
      ]
     },
     "execution_count": 7,
     "metadata": {},
     "output_type": "execute_result"
    }
   ],
   "source": [
    "data_pension = data[data['income_type'] == 'пенсионер']['days_employed']\n",
    "data_employee = data[data['income_type'] == 'сотрудник']['days_employed']\n",
    "data_companion = data[data['income_type'] == 'компаньон']['days_employed']\n",
    "data_servant = data[data['income_type'] == 'госслужащий']['days_employed']\n",
    "\n",
    "data_pension.sample(5)"
   ]
  },
  {
   "cell_type": "code",
   "execution_count": 8,
   "metadata": {},
   "outputs": [],
   "source": [
    "data.loc[data['income_type'] == 'пенсионер','days_employed'] = data.loc[data['income_type'] == 'пенсионер','days_employed'] // 24 "
   ]
  },
  {
   "cell_type": "markdown",
   "metadata": {},
   "source": [
    "При проверке многочисленных категорий типов занятости, было выявлено что у пенсионеров указан сверх большой стаж. \n",
    "У нас в таблице данные указаны в днях, если перевести стаж пенсионеров в года, то получатся нереальные значения, люди столько не живут.\n",
    "Скорее всего стаж у пенсионеров указан в часах и я решил их стаж в часах перевести в дни."
   ]
  },
  {
   "cell_type": "code",
   "execution_count": 9,
   "metadata": {
    "scrolled": false
   },
   "outputs": [],
   "source": [
    "medi_pens_day = data.loc[data['income_type'] == 'пенсионер', 'days_employed'].median()\n",
    "data.loc[data['income_type'] == 'пенсионер', 'days_employed'] = data.loc[data['income_type'] == 'пенсионер', 'days_employed'].fillna(value=medi_pens_day)\n",
    "\n",
    "medi_employ_day = data.loc[data['income_type'] == 'сотрудник', 'days_employed'].median()\n",
    "data.loc[data['income_type'] == 'сотрудник', 'days_employed'] = data.loc[data['income_type'] == 'сотрудник', 'days_employed'].fillna(value=medi_employ_day)\n",
    "\n",
    "medi_serv_day =  data.loc[data['income_type'] == 'госслужащий', 'days_employed'].median()\n",
    "data.loc[data['income_type'] == 'госслужащий', 'days_employed'] = data.loc[data['income_type'] == 'госслужащий', 'days_employed'].fillna(value=medi_serv_day)\n",
    "\n",
    "medi_comp_day = data.loc[data['income_type'] == 'компаньон', 'days_employed'].median()\n",
    "data.loc[data['income_type'] == 'компаньон', 'days_employed'] = data.loc[data['income_type'] == 'компаньон', 'days_employed'].fillna(value=medi_comp_day)"
   ]
  },
  {
   "cell_type": "code",
   "execution_count": 10,
   "metadata": {},
   "outputs": [],
   "source": [
    "medi_pens_income = data.loc[data['income_type'] == 'пенсионер', 'total_income'].median()\n",
    "data.loc[data['income_type'] == 'пенсионер', 'total_income'] = data.loc[data['income_type'] == 'пенсионер', 'total_income'].fillna(value=medi_pens_income)\n",
    "\n",
    "medi_employ_income = data.loc[data['income_type'] == 'сотрудник', 'total_income'].median()\n",
    "data.loc[data['income_type'] == 'сотрудник', 'total_income'] = data.loc[data['income_type'] == 'сотрудник', 'total_income'].fillna(value=medi_employ_income)\n",
    "\n",
    "medi_serv_income =  data.loc[data['income_type'] == 'госслужащий', 'total_income'].median()\n",
    "data.loc[data['income_type'] == 'госслужащий', 'total_income'] = data.loc[data['income_type'] == 'госслужащий', 'total_income'].fillna(value=medi_serv_income)\n",
    "\n",
    "medi_comp_income = data.loc[data['income_type'] == 'компаньон', 'total_income'].median()\n",
    "data.loc[data['income_type'] == 'компаньон', 'total_income'] = data.loc[data['income_type'] == 'компаньон', 'total_income'].fillna(value=medi_comp_income)"
   ]
  },
  {
   "cell_type": "markdown",
   "metadata": {},
   "source": [
    "Заменил пропуски на медианные значения, по категории занятости."
   ]
  },
  {
   "cell_type": "code",
   "execution_count": 11,
   "metadata": {},
   "outputs": [
    {
     "data": {
      "text/plain": [
       "children            0\n",
       "days_employed       1\n",
       "dob_years           0\n",
       "education           0\n",
       "education_id        0\n",
       "family_status       0\n",
       "family_status_id    0\n",
       "gender              0\n",
       "income_type         0\n",
       "debt                0\n",
       "total_income        1\n",
       "purpose             0\n",
       "dtype: int64"
      ]
     },
     "execution_count": 11,
     "metadata": {},
     "output_type": "execute_result"
    }
   ],
   "source": [
    "data.isna().sum()"
   ]
  },
  {
   "cell_type": "markdown",
   "metadata": {},
   "source": [
    "Все остальные пропуски заменил на 0, так как эти показатели не повлияют на результат исследования."
   ]
  },
  {
   "cell_type": "code",
   "execution_count": null,
   "metadata": {},
   "outputs": [],
   "source": [
    "data.isna().sum()\n",
    "data['days_employed'] = data['days_employed'].fillna(0)\n",
    "data['total_income'] = data['total_income'].fillna(0)"
   ]
  },
  {
   "cell_type": "markdown",
   "metadata": {},
   "source": [
    "**Вывод**"
   ]
  },
  {
   "cell_type": "markdown",
   "metadata": {},
   "source": [
    "В столбцах 'days_employed' и 'total_income' были пропуски NaN.\n",
    "Решил их заменить на медианные значения, по категориям занятости.\n",
    "Предварительно перевел некорректные данные в столбце 'days_employed' "
   ]
  },
  {
   "cell_type": "markdown",
   "metadata": {},
   "source": [
    "### Замена типа данных"
   ]
  },
  {
   "cell_type": "code",
   "execution_count": null,
   "metadata": {
    "scrolled": false
   },
   "outputs": [],
   "source": [
    "data['total_income'] = data['total_income'].astype('int')\n",
    "data['days_employed'] = data['days_employed'].astype('int')"
   ]
  },
  {
   "cell_type": "code",
   "execution_count": null,
   "metadata": {
    "scrolled": true
   },
   "outputs": [],
   "source": [
    "data.info()"
   ]
  },
  {
   "cell_type": "markdown",
   "metadata": {},
   "source": [
    "**Вывод**"
   ]
  },
  {
   "cell_type": "markdown",
   "metadata": {},
   "source": [
    "Также заменил типы данных в столбце 'days_employed' и 'total_income' c вещественного на колличественный (float на int)"
   ]
  },
  {
   "cell_type": "markdown",
   "metadata": {},
   "source": [
    "### Обработка дубликатов"
   ]
  },
  {
   "cell_type": "code",
   "execution_count": null,
   "metadata": {
    "scrolled": true
   },
   "outputs": [],
   "source": [
    "data = data.drop_duplicates().reset_index(drop=True)"
   ]
  },
  {
   "cell_type": "code",
   "execution_count": null,
   "metadata": {},
   "outputs": [],
   "source": [
    "data.loc[data['children'] == 20, 'children'] = data.loc[data['children'] == 20, 'children'] / 10"
   ]
  },
  {
   "cell_type": "code",
   "execution_count": null,
   "metadata": {},
   "outputs": [],
   "source": [
    "data['children'] = data['children'].abs().astype('int')"
   ]
  },
  {
   "cell_type": "code",
   "execution_count": null,
   "metadata": {
    "scrolled": true
   },
   "outputs": [],
   "source": [
    "data['children'].value_counts()"
   ]
  },
  {
   "cell_type": "code",
   "execution_count": null,
   "metadata": {
    "scrolled": true
   },
   "outputs": [],
   "source": [
    "data.duplicated().sum()"
   ]
  },
  {
   "cell_type": "markdown",
   "metadata": {},
   "source": [
    "**Вывод**"
   ]
  },
  {
   "cell_type": "markdown",
   "metadata": {},
   "source": [
    "Дубликаты из таблицы удалены.\n",
    "Также преобразовал колличество детей с минусовых значений в плюсовые\n",
    "Колличество 20 детей изменил на колличество 2. 20 детей в семье встречается очень редко в мире, а вот 2 в полне часто. Скорее всего это опечатка."
   ]
  },
  {
   "cell_type": "markdown",
   "metadata": {},
   "source": [
    "### Лемматизация"
   ]
  },
  {
   "cell_type": "code",
   "execution_count": null,
   "metadata": {
    "scrolled": false
   },
   "outputs": [],
   "source": [
    "from pymystem3 import Mystem\n",
    "from collections import Counter\n",
    "m = Mystem()\n",
    "def lemmatize(text):\n",
    "    lemmas = m.lemmatize(text)\n",
    "    return (Counter(lemmas))\n",
    "\n",
    "\n",
    "data['lemms'] = data['purpose'].apply(lemmatize)\n",
    "lems_sum = data['lemms'].drop_duplicates().reset_index(drop=True).sum()"
   ]
  },
  {
   "cell_type": "markdown",
   "metadata": {},
   "source": [
    "**Вывод**"
   ]
  },
  {
   "cell_type": "markdown",
   "metadata": {},
   "source": [
    "Лемматизировал столбец 'purpose', для легкого поиска целей кредита по леммам."
   ]
  },
  {
   "cell_type": "markdown",
   "metadata": {},
   "source": [
    "### Категоризация данных"
   ]
  },
  {
   "cell_type": "code",
   "execution_count": null,
   "metadata": {},
   "outputs": [],
   "source": [
    "lems_sum = data['lemms'].reset_index(drop=True).sum()\n",
    "lems_sum"
   ]
  },
  {
   "cell_type": "markdown",
   "metadata": {},
   "source": [
    "Наиболее повторяющиеся леммы это: недвижимость, образование, жилье, автомобиль, свадьба\n",
    "По ним  и делаем категоризацию."
   ]
  },
  {
   "cell_type": "code",
   "execution_count": null,
   "metadata": {
    "scrolled": true
   },
   "outputs": [],
   "source": [
    "def target_credit(lemma):\n",
    "    \n",
    "    if 'свадьба' in lemma:\n",
    "        return 'свадьба'\n",
    "    if 'недвижимость' in lemma:\n",
    "        return 'недвижимость'\n",
    "    if 'автомобиль' in lemma:\n",
    "        return 'автомобиль'\n",
    "    if 'жилье' in lemma:\n",
    "        return 'недвижимость'\n",
    "    if 'образование' in lemma:\n",
    "        return 'образование'\n",
    "data['target'] = data['lemms'].apply(target_credit)\n",
    "data.sample(5)\n"
   ]
  },
  {
   "cell_type": "code",
   "execution_count": null,
   "metadata": {},
   "outputs": [],
   "source": [
    "edu_dict = data[['education_id','education']]\n",
    "\n",
    "fam_dict = data[['family_status_id', 'family_status']]"
   ]
  },
  {
   "cell_type": "code",
   "execution_count": null,
   "metadata": {},
   "outputs": [],
   "source": [
    "edu_dict.drop_duplicates().reset_index()"
   ]
  },
  {
   "cell_type": "code",
   "execution_count": null,
   "metadata": {},
   "outputs": [],
   "source": [
    "data['total_income'].quantile(.25)"
   ]
  },
  {
   "cell_type": "code",
   "execution_count": null,
   "metadata": {},
   "outputs": [],
   "source": [
    "data['total_income'].quantile(.5)"
   ]
  },
  {
   "cell_type": "code",
   "execution_count": null,
   "metadata": {},
   "outputs": [],
   "source": [
    "data['total_income'].quantile(.75)"
   ]
  },
  {
   "cell_type": "code",
   "execution_count": null,
   "metadata": {},
   "outputs": [],
   "source": [
    "def income_category(q):\n",
    "        if 0 <= q <= 107584:\n",
    "            return 'очень низкий'\n",
    "        if 107585 <= q <= 142593:\n",
    "            return 'низкий'\n",
    "        if 142594 <= q <= 195813:\n",
    "            return 'средний'\n",
    "        if 195814 <= q <= 10000000:\n",
    "            return 'высокий'\n",
    "\n",
    "data['category_income'] = data['total_income'].apply(income_category)"
   ]
  },
  {
   "cell_type": "code",
   "execution_count": null,
   "metadata": {},
   "outputs": [],
   "source": [
    "data['category_income']"
   ]
  },
  {
   "cell_type": "markdown",
   "metadata": {},
   "source": [
    "**Вывод**"
   ]
  },
  {
   "cell_type": "markdown",
   "metadata": {},
   "source": [
    "Сделал категоризацию по леммам, чтоб цель кредита была яснее выражена.\n",
    "Выделил четыре словаря для исследования."
   ]
  },
  {
   "cell_type": "markdown",
   "metadata": {},
   "source": [
    "## Шаг 3. Ответьте на вопросы"
   ]
  },
  {
   "cell_type": "markdown",
   "metadata": {},
   "source": [
    "- Есть ли зависимость между наличием детей и возвратом кредита в срок?"
   ]
  },
  {
   "cell_type": "code",
   "execution_count": null,
   "metadata": {},
   "outputs": [],
   "source": [
    "data.pivot_table(index ='children', values = 'debt', aggfunc = ['count', 'sum', 'mean'])\n"
   ]
  },
  {
   "cell_type": "markdown",
   "metadata": {},
   "source": [
    "**Вывод**"
   ]
  },
  {
   "cell_type": "markdown",
   "metadata": {},
   "source": [
    "По таблице видно что больше всего семей, которые не имеют детей и колличество должников из них больше всего, но часть должников из общего колличества меньше, чем у семей у кого есть дети.\n",
    "Особенно это видно там где семьи или люди имеют по одному, двум и четырем детям. \n",
    "\n",
    "Делаю вывод что дети это отдельная статья расходов, что создает дополнительную нагрузку на семейный бюджет. \n",
    "\n",
    "Поэтому в семье где есть дети, больше должников."
   ]
  },
  {
   "cell_type": "markdown",
   "metadata": {},
   "source": [
    "- Есть ли зависимость между семейным положением и возвратом кредита в срок?"
   ]
  },
  {
   "cell_type": "code",
   "execution_count": null,
   "metadata": {
    "scrolled": true
   },
   "outputs": [],
   "source": [
    "data.pivot_table(index ='family_status', values = 'debt', aggfunc = ['count', 'sum', 'mean'])"
   ]
  },
  {
   "cell_type": "markdown",
   "metadata": {},
   "source": [
    "**Вывод**"
   ]
  },
  {
   "cell_type": "markdown",
   "metadata": {},
   "source": [
    "По данной таблице видно, что большую часть должников составляют те кто \"не женат / не замужем\" и те кто в \"гражданском браке'. \n",
    "\n"
   ]
  },
  {
   "cell_type": "markdown",
   "metadata": {},
   "source": [
    "- Есть ли зависимость между уровнем дохода и возвратом кредита в срок?"
   ]
  },
  {
   "cell_type": "code",
   "execution_count": null,
   "metadata": {},
   "outputs": [],
   "source": [
    "data.pivot_table(index='category_income', values='debt', aggfunc=['sum', 'mean'])"
   ]
  },
  {
   "cell_type": "markdown",
   "metadata": {},
   "source": [
    "**Вывод**"
   ]
  },
  {
   "cell_type": "markdown",
   "metadata": {},
   "source": [
    "По данным в этой таблицы, видно что больше всего должников из тех, у кого доход низкий и средний."
   ]
  },
  {
   "cell_type": "markdown",
   "metadata": {},
   "source": [
    "- Как разные цели кредита влияют на его возврат в срок?"
   ]
  },
  {
   "cell_type": "code",
   "execution_count": null,
   "metadata": {
    "scrolled": true
   },
   "outputs": [],
   "source": [
    "data.pivot_table(index ='target', values = 'debt', aggfunc = ['count', 'sum', 'mean'])"
   ]
  },
  {
   "cell_type": "markdown",
   "metadata": {},
   "source": [
    "**Вывод**"
   ]
  },
  {
   "cell_type": "markdown",
   "metadata": {},
   "source": [
    "В этой таблице видно, что люди, которые  покупают недвижимость , более ответственно подходят к выплате долга ежели те, кто покупает машину в кредит или берет на образование.\n"
   ]
  },
  {
   "cell_type": "markdown",
   "metadata": {},
   "source": [
    "## Шаг 4. Общий вывод"
   ]
  },
  {
   "cell_type": "markdown",
   "metadata": {},
   "source": [
    "**Вывод**"
   ]
  },
  {
   "cell_type": "markdown",
   "metadata": {},
   "source": [
    "1. Больше всего должников из семей с одним, двумя и четыремя детьми.\n",
    "Делаю вывод что дети это отдельная статья расходов и это создает дополнительную нагрузку на семейный бюджет.\n",
    "Поэтому в семье где есть дети, больше должников.\n",
    "\n",
    "2. Большую часть должников составляют те кто \"не женат / не замужем\" и те кто в \"гражданском браке'.\n",
    "\n",
    "3. Больше всего должников из тех, у кого доход низкий и средний доход.\n",
    "\n",
    "4. Люди, которые покупают недвижимость , более ответственно подходят к выплате долга ежели те, кто покупает машину в кредит или берет на образование.\n",
    "\n",
    "\n",
    "\n",
    "При работе с данными были исправлены ошибки, выявлены пропуски и заменены на медианные значения, удалены дубликаты, выделены категории целей кредита с помощью лемматизации и категоризации. \n",
    "\n",
    "При помощи сводных таблиц я оценил какие критерии влияют на возврат кредита в срок."
   ]
  }
 ],
 "metadata": {
  "ExecuteTimeLog": [
   {
    "duration": 1035,
    "start_time": "2021-09-13T14:18:12.032Z"
   },
   {
    "duration": 1795,
    "start_time": "2021-09-13T14:21:02.658Z"
   },
   {
    "duration": 501,
    "start_time": "2021-09-13T14:21:11.561Z"
   },
   {
    "duration": 428,
    "start_time": "2021-09-13T14:21:17.322Z"
   },
   {
    "duration": 461,
    "start_time": "2021-09-13T14:22:19.453Z"
   },
   {
    "duration": 358,
    "start_time": "2021-09-13T14:22:59.252Z"
   },
   {
    "duration": 1603,
    "start_time": "2021-09-13T14:23:12.836Z"
   },
   {
    "duration": 1126,
    "start_time": "2021-09-13T14:24:21.586Z"
   },
   {
    "duration": 3,
    "start_time": "2021-09-13T14:24:46.508Z"
   },
   {
    "duration": 136,
    "start_time": "2021-09-13T14:24:58.084Z"
   },
   {
    "duration": 1478,
    "start_time": "2021-09-13T14:25:22.756Z"
   },
   {
    "duration": 2819,
    "start_time": "2021-09-13T14:25:34.012Z"
   },
   {
    "duration": 2995,
    "start_time": "2021-09-13T14:27:20.129Z"
   },
   {
    "duration": 2575,
    "start_time": "2021-09-13T14:27:31.846Z"
   },
   {
    "duration": 3254,
    "start_time": "2021-09-13T14:28:27.983Z"
   },
   {
    "duration": 2835,
    "start_time": "2021-09-13T14:28:38.103Z"
   },
   {
    "duration": 56,
    "start_time": "2021-09-13T14:29:00.728Z"
   },
   {
    "duration": 54,
    "start_time": "2021-09-13T14:29:10.743Z"
   },
   {
    "duration": 76,
    "start_time": "2021-09-13T14:29:16.271Z"
   },
   {
    "duration": 68,
    "start_time": "2021-09-13T14:40:19.989Z"
   },
   {
    "duration": 62,
    "start_time": "2021-09-13T14:42:02.567Z"
   },
   {
    "duration": 69,
    "start_time": "2021-09-13T14:45:34.960Z"
   },
   {
    "duration": 12,
    "start_time": "2021-09-13T14:45:53.057Z"
   },
   {
    "duration": 71,
    "start_time": "2021-09-13T14:46:16.529Z"
   },
   {
    "duration": 63,
    "start_time": "2021-09-13T14:53:52.861Z"
   },
   {
    "duration": 411,
    "start_time": "2021-09-13T14:54:03.013Z"
   },
   {
    "duration": 61,
    "start_time": "2021-09-13T14:54:08.829Z"
   },
   {
    "duration": 62,
    "start_time": "2021-09-13T14:58:45.314Z"
   },
   {
    "duration": 9,
    "start_time": "2021-09-13T15:02:27.691Z"
   },
   {
    "duration": 11,
    "start_time": "2021-09-13T15:04:32.684Z"
   },
   {
    "duration": 8,
    "start_time": "2021-09-13T15:06:57.629Z"
   },
   {
    "duration": 4,
    "start_time": "2021-09-13T15:07:22.654Z"
   },
   {
    "duration": 11,
    "start_time": "2021-09-13T15:07:45.741Z"
   },
   {
    "duration": 11,
    "start_time": "2021-09-13T15:10:51.351Z"
   },
   {
    "duration": 62,
    "start_time": "2021-09-13T15:13:43.513Z"
   },
   {
    "duration": 11,
    "start_time": "2021-09-13T15:13:49.344Z"
   },
   {
    "duration": 20,
    "start_time": "2021-09-13T15:13:58.513Z"
   },
   {
    "duration": 17,
    "start_time": "2021-09-13T15:14:09.058Z"
   },
   {
    "duration": 10,
    "start_time": "2021-09-13T15:14:53.690Z"
   },
   {
    "duration": 705,
    "start_time": "2021-09-13T15:16:14.158Z"
   },
   {
    "duration": 13,
    "start_time": "2021-09-13T15:16:14.866Z"
   },
   {
    "duration": 11,
    "start_time": "2021-09-13T15:16:14.883Z"
   },
   {
    "duration": 10,
    "start_time": "2021-09-13T15:16:14.896Z"
   },
   {
    "duration": 62,
    "start_time": "2021-09-13T15:16:37.656Z"
   },
   {
    "duration": 56,
    "start_time": "2021-09-13T15:16:41.604Z"
   },
   {
    "duration": 376,
    "start_time": "2021-09-13T15:26:40.772Z"
   },
   {
    "duration": 320,
    "start_time": "2021-09-13T15:26:40.830Z"
   },
   {
    "duration": 374,
    "start_time": "2021-09-13T15:39:11.671Z"
   },
   {
    "duration": 340,
    "start_time": "2021-09-13T15:39:11.707Z"
   },
   {
    "duration": 358,
    "start_time": "2021-09-13T15:39:51.148Z"
   },
   {
    "duration": 660,
    "start_time": "2021-09-13T15:40:45.116Z"
   },
   {
    "duration": 59,
    "start_time": "2021-09-13T15:41:46.157Z"
   },
   {
    "duration": 12,
    "start_time": "2021-09-13T15:41:56.990Z"
   },
   {
    "duration": 13,
    "start_time": "2021-09-13T15:42:01.351Z"
   },
   {
    "duration": 11,
    "start_time": "2021-09-13T15:42:21.904Z"
   },
   {
    "duration": 3,
    "start_time": "2021-09-13T15:43:10.186Z"
   },
   {
    "duration": 3,
    "start_time": "2021-09-13T15:43:12.738Z"
   },
   {
    "duration": 2,
    "start_time": "2021-09-13T15:43:21.595Z"
   },
   {
    "duration": 19,
    "start_time": "2021-09-13T15:44:29.933Z"
   },
   {
    "duration": 18,
    "start_time": "2021-09-13T15:44:35.693Z"
   },
   {
    "duration": 16,
    "start_time": "2021-09-13T15:46:19.217Z"
   },
   {
    "duration": 17,
    "start_time": "2021-09-13T15:46:28.401Z"
   },
   {
    "duration": 22,
    "start_time": "2021-09-13T15:46:32.313Z"
   },
   {
    "duration": 66,
    "start_time": "2021-09-13T15:46:47.034Z"
   },
   {
    "duration": 18,
    "start_time": "2021-09-13T15:47:21.961Z"
   },
   {
    "duration": 15,
    "start_time": "2021-09-13T15:53:58.024Z"
   },
   {
    "duration": 20,
    "start_time": "2021-09-13T16:27:47.240Z"
   },
   {
    "duration": 17,
    "start_time": "2021-09-13T16:27:59.834Z"
   },
   {
    "duration": 20,
    "start_time": "2021-09-13T16:28:30.689Z"
   },
   {
    "duration": 26,
    "start_time": "2021-09-13T16:28:42.610Z"
   },
   {
    "duration": 21,
    "start_time": "2021-09-13T16:29:01.387Z"
   },
   {
    "duration": 20,
    "start_time": "2021-09-13T16:29:20.702Z"
   },
   {
    "duration": 15,
    "start_time": "2021-09-13T16:29:20.977Z"
   },
   {
    "duration": 7,
    "start_time": "2021-09-13T16:29:27.913Z"
   },
   {
    "duration": 5,
    "start_time": "2021-09-13T16:29:40.224Z"
   },
   {
    "duration": 4,
    "start_time": "2021-09-13T16:29:41.464Z"
   },
   {
    "duration": 66,
    "start_time": "2021-09-13T16:29:47.337Z"
   },
   {
    "duration": 11,
    "start_time": "2021-09-13T16:29:50.017Z"
   },
   {
    "duration": 10,
    "start_time": "2021-09-13T16:29:53.152Z"
   },
   {
    "duration": 11,
    "start_time": "2021-09-13T16:30:00.401Z"
   },
   {
    "duration": 11,
    "start_time": "2021-09-13T16:30:12.760Z"
   },
   {
    "duration": 8,
    "start_time": "2021-09-13T16:39:42.546Z"
   },
   {
    "duration": 11,
    "start_time": "2021-09-13T16:49:20.001Z"
   },
   {
    "duration": 60,
    "start_time": "2021-09-13T16:49:56.765Z"
   },
   {
    "duration": 664,
    "start_time": "2021-09-13T19:13:45.368Z"
   },
   {
    "duration": 9,
    "start_time": "2021-09-13T19:14:09.455Z"
   },
   {
    "duration": 16,
    "start_time": "2021-09-13T19:14:55.419Z"
   },
   {
    "duration": 5,
    "start_time": "2021-09-13T19:19:01.020Z"
   },
   {
    "duration": 2401,
    "start_time": "2021-09-14T07:37:43.317Z"
   },
   {
    "duration": 1519,
    "start_time": "2021-09-14T07:37:46.039Z"
   },
   {
    "duration": 1544,
    "start_time": "2021-09-14T07:38:02.441Z"
   },
   {
    "duration": 15,
    "start_time": "2021-09-14T07:38:03.988Z"
   },
   {
    "duration": 14,
    "start_time": "2021-09-14T07:38:04.011Z"
   },
   {
    "duration": 46,
    "start_time": "2021-09-14T07:38:04.028Z"
   },
   {
    "duration": 36,
    "start_time": "2021-09-14T07:38:04.076Z"
   },
   {
    "duration": 22,
    "start_time": "2021-09-14T07:38:04.115Z"
   },
   {
    "duration": 55,
    "start_time": "2021-09-14T07:38:04.141Z"
   },
   {
    "duration": 378,
    "start_time": "2021-09-14T07:49:58.256Z"
   },
   {
    "duration": 259,
    "start_time": "2021-09-14T07:51:08.376Z"
   },
   {
    "duration": 12,
    "start_time": "2021-09-14T08:01:19.572Z"
   },
   {
    "duration": 30,
    "start_time": "2021-09-14T08:01:24.785Z"
   },
   {
    "duration": 36,
    "start_time": "2021-09-14T08:02:25.606Z"
   },
   {
    "duration": 37,
    "start_time": "2021-09-14T08:02:36.530Z"
   },
   {
    "duration": 5,
    "start_time": "2021-09-14T08:04:14.289Z"
   },
   {
    "duration": 37,
    "start_time": "2021-09-14T08:04:16.533Z"
   },
   {
    "duration": 38,
    "start_time": "2021-09-14T08:04:18.584Z"
   },
   {
    "duration": 39,
    "start_time": "2021-09-14T08:04:19.929Z"
   },
   {
    "duration": 5,
    "start_time": "2021-09-14T08:04:24.896Z"
   },
   {
    "duration": 38,
    "start_time": "2021-09-14T08:04:27.314Z"
   },
   {
    "duration": 840,
    "start_time": "2021-09-14T08:04:34.060Z"
   },
   {
    "duration": 16,
    "start_time": "2021-09-14T08:04:34.902Z"
   },
   {
    "duration": 21,
    "start_time": "2021-09-14T08:04:34.921Z"
   },
   {
    "duration": 33,
    "start_time": "2021-09-14T08:04:34.944Z"
   },
   {
    "duration": 24,
    "start_time": "2021-09-14T08:04:34.979Z"
   },
   {
    "duration": 52,
    "start_time": "2021-09-14T08:04:35.006Z"
   },
   {
    "duration": 6,
    "start_time": "2021-09-14T08:05:00.113Z"
   },
   {
    "duration": 486,
    "start_time": "2021-09-14T08:05:38.671Z"
   },
   {
    "duration": 37,
    "start_time": "2021-09-14T08:09:11.353Z"
   },
   {
    "duration": 17,
    "start_time": "2021-09-14T08:09:31.370Z"
   },
   {
    "duration": 12,
    "start_time": "2021-09-14T08:10:07.729Z"
   },
   {
    "duration": 12,
    "start_time": "2021-09-14T08:16:38.197Z"
   },
   {
    "duration": 27,
    "start_time": "2021-09-14T08:17:21.317Z"
   },
   {
    "duration": 28,
    "start_time": "2021-09-14T08:17:25.167Z"
   },
   {
    "duration": 6,
    "start_time": "2021-09-14T08:18:46.987Z"
   },
   {
    "duration": 6,
    "start_time": "2021-09-14T08:18:55.623Z"
   },
   {
    "duration": 6,
    "start_time": "2021-09-14T08:18:57.535Z"
   },
   {
    "duration": 14,
    "start_time": "2021-09-14T08:35:45.773Z"
   },
   {
    "duration": 14,
    "start_time": "2021-09-14T08:36:08.377Z"
   },
   {
    "duration": 14,
    "start_time": "2021-09-14T08:36:25.240Z"
   },
   {
    "duration": 17,
    "start_time": "2021-09-14T08:37:19.026Z"
   },
   {
    "duration": 322,
    "start_time": "2021-09-14T09:02:09.824Z"
   },
   {
    "duration": 25,
    "start_time": "2021-09-14T09:02:15.664Z"
   },
   {
    "duration": 50,
    "start_time": "2021-09-14T09:04:36.633Z"
   },
   {
    "duration": 334,
    "start_time": "2021-09-14T09:05:09.889Z"
   },
   {
    "duration": 23,
    "start_time": "2021-09-14T09:05:17.642Z"
   },
   {
    "duration": 49,
    "start_time": "2021-09-14T09:05:25.913Z"
   },
   {
    "duration": 23,
    "start_time": "2021-09-14T09:05:31.010Z"
   },
   {
    "duration": 14,
    "start_time": "2021-09-14T09:05:42.922Z"
   },
   {
    "duration": 44,
    "start_time": "2021-09-14T09:41:49.536Z"
   },
   {
    "duration": 27,
    "start_time": "2021-09-14T09:41:57.352Z"
   },
   {
    "duration": 14,
    "start_time": "2021-09-14T09:42:15.464Z"
   },
   {
    "duration": 28,
    "start_time": "2021-09-14T09:42:28.744Z"
   },
   {
    "duration": 25,
    "start_time": "2021-09-14T09:42:42.472Z"
   },
   {
    "duration": 25,
    "start_time": "2021-09-14T09:42:48.296Z"
   },
   {
    "duration": 26,
    "start_time": "2021-09-14T09:43:01.175Z"
   },
   {
    "duration": 242,
    "start_time": "2021-09-14T09:44:17.993Z"
   },
   {
    "duration": 24,
    "start_time": "2021-09-14T09:44:23.817Z"
   },
   {
    "duration": 23,
    "start_time": "2021-09-14T09:44:30.844Z"
   },
   {
    "duration": 24,
    "start_time": "2021-09-14T09:48:13.891Z"
   },
   {
    "duration": 26,
    "start_time": "2021-09-14T09:48:15.514Z"
   },
   {
    "duration": 26,
    "start_time": "2021-09-14T09:48:31.402Z"
   },
   {
    "duration": 14,
    "start_time": "2021-09-14T09:51:12.939Z"
   },
   {
    "duration": 17,
    "start_time": "2021-09-14T10:49:12.862Z"
   },
   {
    "duration": 26,
    "start_time": "2021-09-14T11:00:33.221Z"
   },
   {
    "duration": 13,
    "start_time": "2021-09-14T11:03:42.505Z"
   },
   {
    "duration": 6,
    "start_time": "2021-09-14T11:03:49.703Z"
   },
   {
    "duration": 15,
    "start_time": "2021-09-14T11:03:51.566Z"
   },
   {
    "duration": 19,
    "start_time": "2021-09-14T11:03:56.087Z"
   },
   {
    "duration": 32,
    "start_time": "2021-09-14T11:03:59.875Z"
   },
   {
    "duration": 7,
    "start_time": "2021-09-14T11:07:09.786Z"
   },
   {
    "duration": 15,
    "start_time": "2021-09-14T11:07:10.681Z"
   },
   {
    "duration": 17,
    "start_time": "2021-09-14T11:07:12.720Z"
   },
   {
    "duration": 26,
    "start_time": "2021-09-14T11:07:14.909Z"
   },
   {
    "duration": 33,
    "start_time": "2021-09-14T11:07:21.947Z"
   },
   {
    "duration": 854,
    "start_time": "2021-09-14T11:07:29.462Z"
   },
   {
    "duration": 16,
    "start_time": "2021-09-14T11:07:30.319Z"
   },
   {
    "duration": 13,
    "start_time": "2021-09-14T11:07:30.339Z"
   },
   {
    "duration": 15,
    "start_time": "2021-09-14T11:07:30.367Z"
   },
   {
    "duration": 32,
    "start_time": "2021-09-14T11:07:30.384Z"
   },
   {
    "duration": 28,
    "start_time": "2021-09-14T11:07:30.418Z"
   },
   {
    "duration": 13,
    "start_time": "2021-09-14T11:08:53.481Z"
   },
   {
    "duration": 26,
    "start_time": "2021-09-14T11:08:54.242Z"
   },
   {
    "duration": 330,
    "start_time": "2021-09-14T11:09:09.010Z"
   },
   {
    "duration": 26,
    "start_time": "2021-09-14T11:09:10.530Z"
   },
   {
    "duration": 307,
    "start_time": "2021-09-14T11:09:49.537Z"
   },
   {
    "duration": 27,
    "start_time": "2021-09-14T11:09:55.018Z"
   },
   {
    "duration": 7,
    "start_time": "2021-09-14T11:10:05.482Z"
   },
   {
    "duration": 27,
    "start_time": "2021-09-14T11:10:06.052Z"
   },
   {
    "duration": 6,
    "start_time": "2021-09-14T11:10:14.377Z"
   },
   {
    "duration": 29,
    "start_time": "2021-09-14T11:10:14.858Z"
   },
   {
    "duration": 6,
    "start_time": "2021-09-14T11:10:17.744Z"
   },
   {
    "duration": 6,
    "start_time": "2021-09-14T11:10:21.097Z"
   },
   {
    "duration": 17,
    "start_time": "2021-09-14T11:10:22.753Z"
   },
   {
    "duration": 834,
    "start_time": "2021-09-14T11:10:28.067Z"
   },
   {
    "duration": 16,
    "start_time": "2021-09-14T11:10:28.903Z"
   },
   {
    "duration": 7,
    "start_time": "2021-09-14T11:10:28.922Z"
   },
   {
    "duration": 45,
    "start_time": "2021-09-14T11:10:28.931Z"
   },
   {
    "duration": 6,
    "start_time": "2021-09-14T11:10:28.978Z"
   },
   {
    "duration": 28,
    "start_time": "2021-09-14T11:10:28.986Z"
   },
   {
    "duration": 4,
    "start_time": "2021-09-14T11:10:56.537Z"
   },
   {
    "duration": 25,
    "start_time": "2021-09-14T11:10:57.075Z"
   },
   {
    "duration": 5,
    "start_time": "2021-09-14T11:11:12.889Z"
   },
   {
    "duration": 16,
    "start_time": "2021-09-14T11:11:13.730Z"
   },
   {
    "duration": 3,
    "start_time": "2021-09-14T11:11:15.609Z"
   },
   {
    "duration": 27,
    "start_time": "2021-09-14T11:11:16.548Z"
   },
   {
    "duration": 27,
    "start_time": "2021-09-14T11:11:18.506Z"
   },
   {
    "duration": 26,
    "start_time": "2021-09-14T11:11:19.620Z"
   },
   {
    "duration": 855,
    "start_time": "2021-09-14T11:11:28.481Z"
   },
   {
    "duration": 32,
    "start_time": "2021-09-14T11:11:29.339Z"
   },
   {
    "duration": 5,
    "start_time": "2021-09-14T11:11:29.374Z"
   },
   {
    "duration": 16,
    "start_time": "2021-09-14T11:11:29.382Z"
   },
   {
    "duration": 3,
    "start_time": "2021-09-14T11:11:29.401Z"
   },
   {
    "duration": 63,
    "start_time": "2021-09-14T11:11:29.406Z"
   },
   {
    "duration": 390,
    "start_time": "2021-09-14T11:11:58.793Z"
   },
   {
    "duration": 27,
    "start_time": "2021-09-14T11:11:59.231Z"
   },
   {
    "duration": 901,
    "start_time": "2021-09-14T11:12:04.448Z"
   },
   {
    "duration": 22,
    "start_time": "2021-09-14T11:12:05.352Z"
   },
   {
    "duration": 11,
    "start_time": "2021-09-14T11:12:05.379Z"
   },
   {
    "duration": 25,
    "start_time": "2021-09-14T11:12:05.393Z"
   },
   {
    "duration": 379,
    "start_time": "2021-09-14T11:12:05.421Z"
   },
   {
    "duration": -181,
    "start_time": "2021-09-14T11:12:05.983Z"
   },
   {
    "duration": 264,
    "start_time": "2021-09-14T11:12:26.630Z"
   },
   {
    "duration": 6,
    "start_time": "2021-09-14T11:12:52.958Z"
   },
   {
    "duration": 16,
    "start_time": "2021-09-14T11:12:53.389Z"
   },
   {
    "duration": 6,
    "start_time": "2021-09-14T11:12:55.101Z"
   },
   {
    "duration": 36,
    "start_time": "2021-09-14T11:13:00.165Z"
   },
   {
    "duration": 21,
    "start_time": "2021-09-14T11:13:10.598Z"
   },
   {
    "duration": -185,
    "start_time": "2021-09-14T11:15:56.323Z"
   },
   {
    "duration": -168,
    "start_time": "2021-09-14T11:16:10.485Z"
   },
   {
    "duration": -176,
    "start_time": "2021-09-14T11:16:25.489Z"
   },
   {
    "duration": 8,
    "start_time": "2021-09-14T11:16:45.608Z"
   },
   {
    "duration": 8,
    "start_time": "2021-09-14T11:17:07.015Z"
   },
   {
    "duration": 9,
    "start_time": "2021-09-14T11:17:26.344Z"
   },
   {
    "duration": 90,
    "start_time": "2021-09-14T11:17:35.498Z"
   },
   {
    "duration": 105,
    "start_time": "2021-09-14T11:17:36.712Z"
   },
   {
    "duration": 96,
    "start_time": "2021-09-14T11:17:45.752Z"
   },
   {
    "duration": 8,
    "start_time": "2021-09-14T11:18:00.657Z"
   },
   {
    "duration": 35,
    "start_time": "2021-09-14T11:18:05.832Z"
   },
   {
    "duration": 35,
    "start_time": "2021-09-14T11:18:36.833Z"
   },
   {
    "duration": 13,
    "start_time": "2021-09-14T11:38:27.653Z"
   },
   {
    "duration": 11,
    "start_time": "2021-09-14T11:38:36.567Z"
   },
   {
    "duration": 12,
    "start_time": "2021-09-14T11:38:55.277Z"
   },
   {
    "duration": 103,
    "start_time": "2021-09-14T11:41:58.183Z"
   },
   {
    "duration": -147,
    "start_time": "2021-09-14T11:42:11.180Z"
   },
   {
    "duration": 442,
    "start_time": "2021-09-14T11:42:11.508Z"
   },
   {
    "duration": 9,
    "start_time": "2021-09-14T11:42:17.783Z"
   },
   {
    "duration": -143,
    "start_time": "2021-09-14T11:42:27.712Z"
   },
   {
    "duration": -144,
    "start_time": "2021-09-14T11:42:27.715Z"
   },
   {
    "duration": -145,
    "start_time": "2021-09-14T11:42:27.718Z"
   },
   {
    "duration": -144,
    "start_time": "2021-09-14T11:42:27.719Z"
   },
   {
    "duration": -151,
    "start_time": "2021-09-14T11:42:27.728Z"
   },
   {
    "duration": 265,
    "start_time": "2021-09-14T11:42:34.792Z"
   },
   {
    "duration": 278,
    "start_time": "2021-09-14T11:43:54.418Z"
   },
   {
    "duration": 280,
    "start_time": "2021-09-14T11:43:58.041Z"
   },
   {
    "duration": 292,
    "start_time": "2021-09-14T11:43:59.275Z"
   },
   {
    "duration": 921,
    "start_time": "2021-09-14T11:44:01.561Z"
   },
   {
    "duration": 16,
    "start_time": "2021-09-14T11:44:02.541Z"
   },
   {
    "duration": 13,
    "start_time": "2021-09-14T11:44:04.842Z"
   },
   {
    "duration": 15,
    "start_time": "2021-09-14T11:44:05.321Z"
   },
   {
    "duration": 6,
    "start_time": "2021-09-14T11:44:54.298Z"
   },
   {
    "duration": 22,
    "start_time": "2021-09-14T11:44:55.402Z"
   },
   {
    "duration": 35,
    "start_time": "2021-09-14T11:45:00.691Z"
   },
   {
    "duration": 6,
    "start_time": "2021-09-14T11:45:15.067Z"
   },
   {
    "duration": 31,
    "start_time": "2021-09-14T11:45:18.307Z"
   },
   {
    "duration": 289,
    "start_time": "2021-09-14T11:45:35.019Z"
   },
   {
    "duration": 32,
    "start_time": "2021-09-14T11:45:40.442Z"
   },
   {
    "duration": 28,
    "start_time": "2021-09-14T11:45:54.635Z"
   },
   {
    "duration": 29,
    "start_time": "2021-09-14T11:46:00.908Z"
   },
   {
    "duration": 861,
    "start_time": "2021-09-14T11:46:07.269Z"
   },
   {
    "duration": 15,
    "start_time": "2021-09-14T11:46:08.133Z"
   },
   {
    "duration": 41,
    "start_time": "2021-09-14T11:46:08.168Z"
   },
   {
    "duration": 19,
    "start_time": "2021-09-14T11:46:08.212Z"
   },
   {
    "duration": 70,
    "start_time": "2021-09-14T11:46:08.235Z"
   },
   {
    "duration": 6,
    "start_time": "2021-09-14T11:51:15.250Z"
   },
   {
    "duration": 22,
    "start_time": "2021-09-14T11:51:16.736Z"
   },
   {
    "duration": 27,
    "start_time": "2021-09-14T11:51:19.586Z"
   },
   {
    "duration": 35,
    "start_time": "2021-09-14T11:52:34.219Z"
   },
   {
    "duration": 831,
    "start_time": "2021-09-14T11:52:43.468Z"
   },
   {
    "duration": 17,
    "start_time": "2021-09-14T11:52:44.302Z"
   },
   {
    "duration": 12,
    "start_time": "2021-09-14T11:52:44.323Z"
   },
   {
    "duration": 38,
    "start_time": "2021-09-14T11:52:44.338Z"
   },
   {
    "duration": 34,
    "start_time": "2021-09-14T11:52:44.379Z"
   },
   {
    "duration": 33,
    "start_time": "2021-09-14T11:53:00.784Z"
   },
   {
    "duration": 1009,
    "start_time": "2021-09-14T11:53:09.458Z"
   },
   {
    "duration": 859,
    "start_time": "2021-09-14T11:53:21.501Z"
   },
   {
    "duration": 15,
    "start_time": "2021-09-14T11:53:22.363Z"
   },
   {
    "duration": 10,
    "start_time": "2021-09-14T11:53:22.385Z"
   },
   {
    "duration": 17,
    "start_time": "2021-09-14T11:53:22.397Z"
   },
   {
    "duration": 435,
    "start_time": "2021-09-14T11:53:22.417Z"
   },
   {
    "duration": 31,
    "start_time": "2021-09-14T11:53:29.007Z"
   },
   {
    "duration": 283,
    "start_time": "2021-09-14T12:10:26.224Z"
   },
   {
    "duration": 8,
    "start_time": "2021-09-14T12:10:32.091Z"
   },
   {
    "duration": 35,
    "start_time": "2021-09-14T12:10:40.597Z"
   },
   {
    "duration": 266,
    "start_time": "2021-09-14T12:11:02.637Z"
   },
   {
    "duration": 34,
    "start_time": "2021-09-14T12:11:21.156Z"
   },
   {
    "duration": 32,
    "start_time": "2021-09-14T12:11:34.508Z"
   },
   {
    "duration": 877,
    "start_time": "2021-09-14T12:11:42.958Z"
   },
   {
    "duration": 15,
    "start_time": "2021-09-14T12:11:43.837Z"
   },
   {
    "duration": 35,
    "start_time": "2021-09-14T12:11:43.868Z"
   },
   {
    "duration": 35,
    "start_time": "2021-09-14T12:11:43.905Z"
   },
   {
    "duration": 32,
    "start_time": "2021-09-14T12:12:19.834Z"
   },
   {
    "duration": 880,
    "start_time": "2021-09-14T12:12:41.137Z"
   },
   {
    "duration": 16,
    "start_time": "2021-09-14T12:12:42.020Z"
   },
   {
    "duration": 55,
    "start_time": "2021-09-14T12:12:42.039Z"
   },
   {
    "duration": 38,
    "start_time": "2021-09-14T12:12:42.097Z"
   },
   {
    "duration": 363,
    "start_time": "2021-09-14T12:13:28.340Z"
   },
   {
    "duration": 824,
    "start_time": "2021-09-14T12:13:44.900Z"
   },
   {
    "duration": 15,
    "start_time": "2021-09-14T12:13:45.727Z"
   },
   {
    "duration": 50,
    "start_time": "2021-09-14T12:13:45.744Z"
   },
   {
    "duration": 36,
    "start_time": "2021-09-14T12:13:45.796Z"
   },
   {
    "duration": 29,
    "start_time": "2021-09-14T12:14:53.580Z"
   },
   {
    "duration": 852,
    "start_time": "2021-09-14T12:15:11.360Z"
   },
   {
    "duration": 15,
    "start_time": "2021-09-14T12:15:12.215Z"
   },
   {
    "duration": 47,
    "start_time": "2021-09-14T12:15:12.233Z"
   },
   {
    "duration": 27,
    "start_time": "2021-09-14T12:15:12.283Z"
   },
   {
    "duration": 7,
    "start_time": "2021-09-14T12:15:55.458Z"
   },
   {
    "duration": 12,
    "start_time": "2021-09-14T12:18:57.732Z"
   },
   {
    "duration": 362,
    "start_time": "2021-09-14T12:19:58.290Z"
   },
   {
    "duration": 285,
    "start_time": "2021-09-14T12:20:22.139Z"
   },
   {
    "duration": 13,
    "start_time": "2021-09-14T12:21:04.307Z"
   },
   {
    "duration": 9,
    "start_time": "2021-09-14T12:21:20.740Z"
   },
   {
    "duration": 12,
    "start_time": "2021-09-14T12:22:35.380Z"
   },
   {
    "duration": 15,
    "start_time": "2021-09-14T12:23:00.324Z"
   },
   {
    "duration": 14,
    "start_time": "2021-09-14T12:23:17.469Z"
   },
   {
    "duration": 335,
    "start_time": "2021-09-14T12:23:51.692Z"
   },
   {
    "duration": 264,
    "start_time": "2021-09-14T12:24:03.893Z"
   },
   {
    "duration": 81,
    "start_time": "2021-09-14T12:24:17.790Z"
   },
   {
    "duration": 14,
    "start_time": "2021-09-14T12:24:20.268Z"
   },
   {
    "duration": 35,
    "start_time": "2021-09-14T12:24:28.313Z"
   },
   {
    "duration": 840,
    "start_time": "2021-09-14T12:24:41.679Z"
   },
   {
    "duration": 20,
    "start_time": "2021-09-14T12:24:42.521Z"
   },
   {
    "duration": 26,
    "start_time": "2021-09-14T12:24:42.545Z"
   },
   {
    "duration": 60,
    "start_time": "2021-09-14T12:24:42.573Z"
   },
   {
    "duration": 40,
    "start_time": "2021-09-14T12:25:11.358Z"
   },
   {
    "duration": 1104,
    "start_time": "2021-09-14T12:25:59.582Z"
   },
   {
    "duration": 16,
    "start_time": "2021-09-14T12:26:08.485Z"
   },
   {
    "duration": 852,
    "start_time": "2021-09-14T12:26:17.487Z"
   },
   {
    "duration": 26,
    "start_time": "2021-09-14T12:26:18.342Z"
   },
   {
    "duration": 21,
    "start_time": "2021-09-14T12:26:18.371Z"
   },
   {
    "duration": 365,
    "start_time": "2021-09-14T12:26:18.395Z"
   },
   {
    "duration": 13,
    "start_time": "2021-09-14T12:26:25.769Z"
   },
   {
    "duration": 355,
    "start_time": "2021-09-14T12:26:27.889Z"
   },
   {
    "duration": 10,
    "start_time": "2021-09-14T12:26:39.592Z"
   },
   {
    "duration": 267,
    "start_time": "2021-09-14T12:26:41.137Z"
   },
   {
    "duration": 821,
    "start_time": "2021-09-14T12:26:46.784Z"
   },
   {
    "duration": 15,
    "start_time": "2021-09-14T12:26:47.608Z"
   },
   {
    "duration": 361,
    "start_time": "2021-09-14T12:26:47.626Z"
   },
   {
    "duration": -121,
    "start_time": "2021-09-14T12:26:48.110Z"
   },
   {
    "duration": 8,
    "start_time": "2021-09-14T12:27:03.598Z"
   },
   {
    "duration": 34,
    "start_time": "2021-09-14T12:27:05.725Z"
   },
   {
    "duration": -131,
    "start_time": "2021-09-14T12:27:48.529Z"
   },
   {
    "duration": 8335,
    "start_time": "2021-09-14T12:27:53.430Z"
   },
   {
    "duration": 794,
    "start_time": "2021-09-14T12:28:14.819Z"
   },
   {
    "duration": 16,
    "start_time": "2021-09-14T12:28:15.615Z"
   },
   {
    "duration": 33,
    "start_time": "2021-09-14T12:28:15.634Z"
   },
   {
    "duration": 7939,
    "start_time": "2021-09-14T12:28:15.669Z"
   },
   {
    "duration": 415,
    "start_time": "2021-09-14T12:29:38.471Z"
   },
   {
    "duration": 839,
    "start_time": "2021-09-14T12:29:41.271Z"
   },
   {
    "duration": 15,
    "start_time": "2021-09-14T12:29:42.113Z"
   },
   {
    "duration": 9,
    "start_time": "2021-09-14T12:29:44.328Z"
   },
   {
    "duration": -122,
    "start_time": "2021-09-14T12:29:59.645Z"
   },
   {
    "duration": 1028,
    "start_time": "2021-09-14T12:30:07.349Z"
   },
   {
    "duration": 18,
    "start_time": "2021-09-14T12:30:08.380Z"
   },
   {
    "duration": 9,
    "start_time": "2021-09-14T12:30:08.402Z"
   },
   {
    "duration": 67,
    "start_time": "2021-09-14T12:30:08.414Z"
   },
   {
    "duration": 16,
    "start_time": "2021-09-14T12:31:13.981Z"
   },
   {
    "duration": 1522,
    "start_time": "2021-09-14T12:31:26.991Z"
   },
   {
    "duration": 16,
    "start_time": "2021-09-14T12:31:28.516Z"
   },
   {
    "duration": 8,
    "start_time": "2021-09-14T12:31:28.535Z"
   },
   {
    "duration": 8,
    "start_time": "2021-09-14T12:31:28.567Z"
   },
   {
    "duration": 32,
    "start_time": "2021-09-14T12:31:32.011Z"
   },
   {
    "duration": 33,
    "start_time": "2021-09-14T12:31:57.708Z"
   },
   {
    "duration": 4316,
    "start_time": "2021-09-14T12:32:13.869Z"
   },
   {
    "duration": 16,
    "start_time": "2021-09-14T12:32:18.188Z"
   },
   {
    "duration": 14,
    "start_time": "2021-09-14T12:32:18.207Z"
   },
   {
    "duration": 52,
    "start_time": "2021-09-14T12:32:18.223Z"
   },
   {
    "duration": 11,
    "start_time": "2021-09-14T12:34:44.209Z"
   },
   {
    "duration": 2041,
    "start_time": "2021-09-14T12:35:11.365Z"
   },
   {
    "duration": 15,
    "start_time": "2021-09-14T12:35:13.409Z"
   },
   {
    "duration": 7,
    "start_time": "2021-09-14T12:35:13.427Z"
   },
   {
    "duration": 1773,
    "start_time": "2021-09-14T12:35:13.436Z"
   },
   {
    "duration": 32,
    "start_time": "2021-09-14T12:35:38.383Z"
   },
   {
    "duration": 1325,
    "start_time": "2021-09-14T12:37:11.910Z"
   },
   {
    "duration": 28,
    "start_time": "2021-09-14T12:37:13.239Z"
   },
   {
    "duration": 8,
    "start_time": "2021-09-14T12:37:13.270Z"
   },
   {
    "duration": 2472,
    "start_time": "2021-09-14T12:37:13.280Z"
   },
   {
    "duration": 12,
    "start_time": "2021-09-14T12:39:02.288Z"
   },
   {
    "duration": 34,
    "start_time": "2021-09-14T12:39:11.129Z"
   },
   {
    "duration": 36,
    "start_time": "2021-09-14T12:39:20.114Z"
   },
   {
    "duration": 38,
    "start_time": "2021-09-14T12:39:24.327Z"
   },
   {
    "duration": 1615,
    "start_time": "2021-09-14T12:39:57.129Z"
   },
   {
    "duration": 27,
    "start_time": "2021-09-14T12:39:58.747Z"
   },
   {
    "duration": 8,
    "start_time": "2021-09-14T12:39:58.776Z"
   },
   {
    "duration": 48,
    "start_time": "2021-09-14T12:39:58.786Z"
   },
   {
    "duration": 3637,
    "start_time": "2021-09-14T12:40:02.938Z"
   },
   {
    "duration": 991,
    "start_time": "2021-09-14T12:40:57.603Z"
   },
   {
    "duration": 16,
    "start_time": "2021-09-14T12:40:58.597Z"
   },
   {
    "duration": 5,
    "start_time": "2021-09-14T12:40:58.616Z"
   },
   {
    "duration": 11,
    "start_time": "2021-09-14T12:40:58.623Z"
   },
   {
    "duration": 35,
    "start_time": "2021-09-14T12:41:07.884Z"
   },
   {
    "duration": 21,
    "start_time": "2021-09-14T12:41:36.015Z"
   },
   {
    "duration": 12,
    "start_time": "2021-09-14T12:44:25.340Z"
   },
   {
    "duration": 11,
    "start_time": "2021-09-14T12:44:42.806Z"
   },
   {
    "duration": 19,
    "start_time": "2021-09-14T12:45:15.358Z"
   },
   {
    "duration": 11,
    "start_time": "2021-09-14T12:46:01.864Z"
   },
   {
    "duration": 37,
    "start_time": "2021-09-14T12:46:07.341Z"
   },
   {
    "duration": 36,
    "start_time": "2021-09-14T12:46:18.480Z"
   },
   {
    "duration": 1056,
    "start_time": "2021-09-14T12:46:26.251Z"
   },
   {
    "duration": 18,
    "start_time": "2021-09-14T12:46:27.315Z"
   },
   {
    "duration": 32,
    "start_time": "2021-09-14T12:46:27.335Z"
   },
   {
    "duration": 19,
    "start_time": "2021-09-14T12:46:27.369Z"
   },
   {
    "duration": 33,
    "start_time": "2021-09-14T12:46:27.390Z"
   },
   {
    "duration": 20,
    "start_time": "2021-09-14T12:47:59.647Z"
   },
   {
    "duration": 50,
    "start_time": "2021-09-14T12:48:16.309Z"
   },
   {
    "duration": 13,
    "start_time": "2021-09-14T12:48:32.358Z"
   },
   {
    "duration": 12,
    "start_time": "2021-09-14T12:48:40.142Z"
   },
   {
    "duration": 20,
    "start_time": "2021-09-14T12:49:54.859Z"
   },
   {
    "duration": 7,
    "start_time": "2021-09-14T12:57:50.427Z"
   },
   {
    "duration": 872,
    "start_time": "2021-09-14T12:57:58.356Z"
   },
   {
    "duration": 16,
    "start_time": "2021-09-14T12:57:59.231Z"
   },
   {
    "duration": 8,
    "start_time": "2021-09-14T12:57:59.267Z"
   },
   {
    "duration": 22,
    "start_time": "2021-09-14T12:57:59.277Z"
   },
   {
    "duration": 26,
    "start_time": "2021-09-14T12:57:59.301Z"
   },
   {
    "duration": 29,
    "start_time": "2021-09-14T12:58:23.548Z"
   },
   {
    "duration": 26,
    "start_time": "2021-09-14T12:58:33.895Z"
   },
   {
    "duration": 5,
    "start_time": "2021-09-14T12:59:56.470Z"
   },
   {
    "duration": 29,
    "start_time": "2021-09-14T12:59:57.200Z"
   },
   {
    "duration": 59,
    "start_time": "2021-09-14T13:01:01.808Z"
   },
   {
    "duration": 63,
    "start_time": "2021-09-14T13:01:27.304Z"
   },
   {
    "duration": 851,
    "start_time": "2021-09-14T13:01:34.498Z"
   },
   {
    "duration": 21,
    "start_time": "2021-09-14T13:01:35.352Z"
   },
   {
    "duration": 7,
    "start_time": "2021-09-14T13:01:35.377Z"
   },
   {
    "duration": 11,
    "start_time": "2021-09-14T13:01:35.386Z"
   },
   {
    "duration": 70,
    "start_time": "2021-09-14T13:01:35.399Z"
   },
   {
    "duration": 28,
    "start_time": "2021-09-14T13:02:03.641Z"
   },
   {
    "duration": 841,
    "start_time": "2021-09-14T13:02:09.864Z"
   },
   {
    "duration": 15,
    "start_time": "2021-09-14T13:02:10.708Z"
   },
   {
    "duration": 15,
    "start_time": "2021-09-14T13:02:10.725Z"
   },
   {
    "duration": 27,
    "start_time": "2021-09-14T13:02:10.742Z"
   },
   {
    "duration": 37,
    "start_time": "2021-09-14T13:02:10.771Z"
   },
   {
    "duration": 93,
    "start_time": "2021-09-14T13:02:55.040Z"
   },
   {
    "duration": 891,
    "start_time": "2021-09-14T13:03:07.226Z"
   },
   {
    "duration": 16,
    "start_time": "2021-09-14T13:03:08.119Z"
   },
   {
    "duration": 29,
    "start_time": "2021-09-14T13:03:08.138Z"
   },
   {
    "duration": 14,
    "start_time": "2021-09-14T13:03:08.171Z"
   },
   {
    "duration": 58,
    "start_time": "2021-09-14T13:03:08.188Z"
   },
   {
    "duration": 841,
    "start_time": "2021-09-14T13:03:22.415Z"
   },
   {
    "duration": 15,
    "start_time": "2021-09-14T13:03:23.259Z"
   },
   {
    "duration": 8,
    "start_time": "2021-09-14T13:03:23.277Z"
   },
   {
    "duration": 11,
    "start_time": "2021-09-14T13:03:23.287Z"
   },
   {
    "duration": 33,
    "start_time": "2021-09-14T13:03:23.300Z"
   },
   {
    "duration": 884,
    "start_time": "2021-09-14T15:09:29.464Z"
   },
   {
    "duration": 15,
    "start_time": "2021-09-14T15:11:41.695Z"
   },
   {
    "duration": 11,
    "start_time": "2021-09-14T15:13:45.256Z"
   },
   {
    "duration": 10,
    "start_time": "2021-09-14T15:14:54.575Z"
   },
   {
    "duration": 11,
    "start_time": "2021-09-14T15:15:08.400Z"
   },
   {
    "duration": 9,
    "start_time": "2021-09-14T15:15:16.880Z"
   },
   {
    "duration": 8,
    "start_time": "2021-09-14T15:15:17.929Z"
   },
   {
    "duration": 10,
    "start_time": "2021-09-14T15:24:39.036Z"
   },
   {
    "duration": 16,
    "start_time": "2021-09-14T15:31:24.568Z"
   },
   {
    "duration": 43,
    "start_time": "2021-09-14T15:31:40.441Z"
   },
   {
    "duration": 39,
    "start_time": "2021-09-14T15:31:46.176Z"
   },
   {
    "duration": 39,
    "start_time": "2021-09-14T15:31:56.225Z"
   },
   {
    "duration": 124,
    "start_time": "2021-09-14T15:32:27.168Z"
   },
   {
    "duration": 87,
    "start_time": "2021-09-14T15:32:39.610Z"
   },
   {
    "duration": 68,
    "start_time": "2021-09-14T15:32:45.402Z"
   },
   {
    "duration": 55,
    "start_time": "2021-09-14T15:32:56.163Z"
   },
   {
    "duration": 76,
    "start_time": "2021-09-14T15:33:03.402Z"
   },
   {
    "duration": 492,
    "start_time": "2021-09-14T15:33:36.850Z"
   },
   {
    "duration": 12,
    "start_time": "2021-09-14T15:33:56.019Z"
   },
   {
    "duration": 26,
    "start_time": "2021-09-14T15:34:27.613Z"
   },
   {
    "duration": 10,
    "start_time": "2021-09-14T15:34:46.115Z"
   },
   {
    "duration": 11,
    "start_time": "2021-09-14T15:35:41.069Z"
   },
   {
    "duration": 41,
    "start_time": "2021-09-14T15:37:34.365Z"
   },
   {
    "duration": 392,
    "start_time": "2021-09-14T15:39:27.765Z"
   },
   {
    "duration": 5,
    "start_time": "2021-09-14T15:39:39.603Z"
   },
   {
    "duration": 39,
    "start_time": "2021-09-14T15:39:43.558Z"
   },
   {
    "duration": 28,
    "start_time": "2021-09-14T15:40:03.697Z"
   },
   {
    "duration": 4,
    "start_time": "2021-09-14T15:42:07.498Z"
   },
   {
    "duration": 33,
    "start_time": "2021-09-14T15:42:19.535Z"
   },
   {
    "duration": 27,
    "start_time": "2021-09-14T15:42:25.880Z"
   },
   {
    "duration": 894,
    "start_time": "2021-09-14T15:44:18.642Z"
   },
   {
    "duration": 18,
    "start_time": "2021-09-14T15:44:19.538Z"
   },
   {
    "duration": 4,
    "start_time": "2021-09-14T15:44:19.559Z"
   },
   {
    "duration": 34,
    "start_time": "2021-09-14T15:44:19.565Z"
   },
   {
    "duration": 10332,
    "start_time": "2021-09-14T15:44:19.601Z"
   },
   {
    "duration": -40,
    "start_time": "2021-09-14T15:44:29.976Z"
   },
   {
    "duration": 19,
    "start_time": "2021-09-14T15:46:16.609Z"
   },
   {
    "duration": 15,
    "start_time": "2021-09-14T15:46:33.402Z"
   },
   {
    "duration": 29,
    "start_time": "2021-09-14T15:47:40.005Z"
   },
   {
    "duration": 4,
    "start_time": "2021-09-14T15:47:46.123Z"
   },
   {
    "duration": 27,
    "start_time": "2021-09-14T15:47:48.715Z"
   },
   {
    "duration": 5,
    "start_time": "2021-09-14T15:48:53.230Z"
   },
   {
    "duration": 34,
    "start_time": "2021-09-14T15:48:57.509Z"
   },
   {
    "duration": 44,
    "start_time": "2021-09-14T15:49:06.697Z"
   },
   {
    "duration": 169,
    "start_time": "2021-09-14T15:50:33.535Z"
   },
   {
    "duration": 30,
    "start_time": "2021-09-14T15:50:40.265Z"
   },
   {
    "duration": 9,
    "start_time": "2021-09-14T15:54:04.648Z"
   },
   {
    "duration": 31,
    "start_time": "2021-09-14T15:54:07.598Z"
   },
   {
    "duration": 1095,
    "start_time": "2021-09-14T15:54:27.233Z"
   },
   {
    "duration": 25,
    "start_time": "2021-09-14T15:54:28.331Z"
   },
   {
    "duration": 5,
    "start_time": "2021-09-14T15:54:28.359Z"
   },
   {
    "duration": 18,
    "start_time": "2021-09-14T15:54:28.367Z"
   },
   {
    "duration": 38,
    "start_time": "2021-09-14T15:54:28.387Z"
   },
   {
    "duration": 34,
    "start_time": "2021-09-14T15:54:28.428Z"
   },
   {
    "duration": 5,
    "start_time": "2021-09-14T15:54:28.464Z"
   },
   {
    "duration": 29,
    "start_time": "2021-09-14T15:55:18.492Z"
   },
   {
    "duration": 870,
    "start_time": "2021-09-14T15:55:24.644Z"
   },
   {
    "duration": 16,
    "start_time": "2021-09-14T15:55:25.518Z"
   },
   {
    "duration": 18,
    "start_time": "2021-09-14T15:55:25.538Z"
   },
   {
    "duration": 19,
    "start_time": "2021-09-14T15:55:25.560Z"
   },
   {
    "duration": 47,
    "start_time": "2021-09-14T15:55:25.582Z"
   },
   {
    "duration": 3,
    "start_time": "2021-09-14T15:55:25.631Z"
   },
   {
    "duration": 20,
    "start_time": "2021-09-14T15:55:25.636Z"
   },
   {
    "duration": 9,
    "start_time": "2021-09-14T15:56:42.082Z"
   },
   {
    "duration": 7,
    "start_time": "2021-09-14T15:56:43.728Z"
   },
   {
    "duration": 5,
    "start_time": "2021-09-14T15:56:56.608Z"
   },
   {
    "duration": 7,
    "start_time": "2021-09-14T15:57:39.574Z"
   },
   {
    "duration": 27,
    "start_time": "2021-09-14T15:57:49.385Z"
   },
   {
    "duration": 26,
    "start_time": "2021-09-14T16:04:36.223Z"
   },
   {
    "duration": 8,
    "start_time": "2021-09-14T16:04:40.607Z"
   },
   {
    "duration": 6,
    "start_time": "2021-09-14T16:05:01.159Z"
   },
   {
    "duration": 488,
    "start_time": "2021-09-14T16:10:10.607Z"
   },
   {
    "duration": 928,
    "start_time": "2021-09-14T16:10:18.325Z"
   },
   {
    "duration": 15,
    "start_time": "2021-09-14T16:10:19.256Z"
   },
   {
    "duration": 4,
    "start_time": "2021-09-14T16:10:19.274Z"
   },
   {
    "duration": 20,
    "start_time": "2021-09-14T16:10:19.281Z"
   },
   {
    "duration": 10,
    "start_time": "2021-09-14T16:10:19.303Z"
   },
   {
    "duration": 8,
    "start_time": "2021-09-14T16:10:19.315Z"
   },
   {
    "duration": 3,
    "start_time": "2021-09-14T16:10:19.356Z"
   },
   {
    "duration": 8,
    "start_time": "2021-09-14T16:10:19.362Z"
   },
   {
    "duration": 620,
    "start_time": "2021-09-14T16:11:02.085Z"
   },
   {
    "duration": 11,
    "start_time": "2021-09-14T16:11:53.140Z"
   },
   {
    "duration": 8,
    "start_time": "2021-09-14T16:12:11.228Z"
   },
   {
    "duration": 10,
    "start_time": "2021-09-14T16:12:14.539Z"
   },
   {
    "duration": 19,
    "start_time": "2021-09-14T16:24:51.059Z"
   },
   {
    "duration": 18,
    "start_time": "2021-09-14T16:25:02.991Z"
   },
   {
    "duration": 19,
    "start_time": "2021-09-14T16:25:43.461Z"
   },
   {
    "duration": 484,
    "start_time": "2021-09-14T16:26:37.550Z"
   },
   {
    "duration": 36,
    "start_time": "2021-09-14T16:26:43.540Z"
   },
   {
    "duration": 22,
    "start_time": "2021-09-14T16:27:02.013Z"
   },
   {
    "duration": -1165,
    "start_time": "2021-09-14T17:32:52.268Z"
   },
   {
    "duration": 1790,
    "start_time": "2021-09-14T17:32:57.633Z"
   },
   {
    "duration": 18,
    "start_time": "2021-09-14T17:32:59.426Z"
   },
   {
    "duration": 21,
    "start_time": "2021-09-14T17:32:59.447Z"
   },
   {
    "duration": 18,
    "start_time": "2021-09-14T17:32:59.471Z"
   },
   {
    "duration": 34,
    "start_time": "2021-09-14T17:32:59.491Z"
   },
   {
    "duration": 9,
    "start_time": "2021-09-14T17:32:59.527Z"
   },
   {
    "duration": 3,
    "start_time": "2021-09-14T17:32:59.568Z"
   },
   {
    "duration": 5,
    "start_time": "2021-09-14T17:32:59.574Z"
   },
   {
    "duration": 27,
    "start_time": "2021-09-14T17:32:59.581Z"
   },
   {
    "duration": 271,
    "start_time": "2021-09-15T07:41:10.915Z"
   },
   {
    "duration": 559,
    "start_time": "2021-09-15T07:41:16.646Z"
   },
   {
    "duration": 12,
    "start_time": "2021-09-15T07:41:17.207Z"
   },
   {
    "duration": 4,
    "start_time": "2021-09-15T07:41:17.221Z"
   },
   {
    "duration": 12,
    "start_time": "2021-09-15T07:41:17.227Z"
   },
   {
    "duration": 44,
    "start_time": "2021-09-15T07:41:17.241Z"
   },
   {
    "duration": 17,
    "start_time": "2021-09-15T07:41:17.287Z"
   },
   {
    "duration": 2,
    "start_time": "2021-09-15T07:41:17.306Z"
   },
   {
    "duration": 4,
    "start_time": "2021-09-15T07:41:17.310Z"
   },
   {
    "duration": 18,
    "start_time": "2021-09-15T07:41:17.315Z"
   },
   {
    "duration": 8,
    "start_time": "2021-09-15T07:53:38.163Z"
   },
   {
    "duration": 7,
    "start_time": "2021-09-15T07:53:54.202Z"
   },
   {
    "duration": 15,
    "start_time": "2021-09-15T07:55:28.068Z"
   },
   {
    "duration": 15,
    "start_time": "2021-09-15T07:55:43.525Z"
   },
   {
    "duration": 15,
    "start_time": "2021-09-15T07:55:47.516Z"
   },
   {
    "duration": 14,
    "start_time": "2021-09-15T07:56:09.740Z"
   },
   {
    "duration": 613,
    "start_time": "2021-09-15T07:56:20.068Z"
   },
   {
    "duration": 11,
    "start_time": "2021-09-15T07:56:20.683Z"
   },
   {
    "duration": 3,
    "start_time": "2021-09-15T07:56:20.696Z"
   },
   {
    "duration": 15,
    "start_time": "2021-09-15T07:56:20.701Z"
   },
   {
    "duration": 22,
    "start_time": "2021-09-15T07:56:20.717Z"
   },
   {
    "duration": 19,
    "start_time": "2021-09-15T07:56:20.741Z"
   },
   {
    "duration": 30,
    "start_time": "2021-09-15T07:56:20.761Z"
   },
   {
    "duration": 2,
    "start_time": "2021-09-15T07:56:20.793Z"
   },
   {
    "duration": 11,
    "start_time": "2021-09-15T07:56:20.798Z"
   },
   {
    "duration": 24,
    "start_time": "2021-09-15T07:56:20.810Z"
   },
   {
    "duration": 8,
    "start_time": "2021-09-15T07:58:51.246Z"
   },
   {
    "duration": 7,
    "start_time": "2021-09-15T07:58:55.869Z"
   },
   {
    "duration": 10,
    "start_time": "2021-09-15T07:59:06.967Z"
   },
   {
    "duration": 8,
    "start_time": "2021-09-15T07:59:11.302Z"
   },
   {
    "duration": 17,
    "start_time": "2021-09-15T07:59:16.479Z"
   },
   {
    "duration": 6,
    "start_time": "2021-09-15T08:18:25.409Z"
   },
   {
    "duration": -1024,
    "start_time": "2021-09-15T08:18:36.810Z"
   },
   {
    "duration": 3111,
    "start_time": "2021-09-15T08:18:39.472Z"
   },
   {
    "duration": 2594,
    "start_time": "2021-09-15T08:18:49.681Z"
   },
   {
    "duration": 592,
    "start_time": "2021-09-15T08:18:56.899Z"
   },
   {
    "duration": 11,
    "start_time": "2021-09-15T08:18:57.493Z"
   },
   {
    "duration": 4,
    "start_time": "2021-09-15T08:18:57.506Z"
   },
   {
    "duration": 12,
    "start_time": "2021-09-15T08:18:57.512Z"
   },
   {
    "duration": 20,
    "start_time": "2021-09-15T08:18:57.525Z"
   },
   {
    "duration": 44,
    "start_time": "2021-09-15T08:18:57.547Z"
   },
   {
    "duration": 9,
    "start_time": "2021-09-15T08:18:57.593Z"
   },
   {
    "duration": 2,
    "start_time": "2021-09-15T08:18:57.604Z"
   },
   {
    "duration": 5,
    "start_time": "2021-09-15T08:18:57.608Z"
   },
   {
    "duration": 13,
    "start_time": "2021-09-15T08:18:57.614Z"
   },
   {
    "duration": 3,
    "start_time": "2021-09-15T08:23:56.087Z"
   },
   {
    "duration": 4,
    "start_time": "2021-09-15T08:24:01.568Z"
   },
   {
    "duration": 10,
    "start_time": "2021-09-15T08:24:27.648Z"
   },
   {
    "duration": 11,
    "start_time": "2021-09-15T08:25:18.721Z"
   },
   {
    "duration": 257,
    "start_time": "2021-09-15T08:25:31.184Z"
   },
   {
    "duration": 226,
    "start_time": "2021-09-15T08:25:52.017Z"
   },
   {
    "duration": 198,
    "start_time": "2021-09-15T08:26:02.842Z"
   },
   {
    "duration": 559,
    "start_time": "2021-09-15T08:26:08.444Z"
   },
   {
    "duration": 10,
    "start_time": "2021-09-15T08:26:09.005Z"
   },
   {
    "duration": 10,
    "start_time": "2021-09-15T08:26:09.019Z"
   },
   {
    "duration": 35,
    "start_time": "2021-09-15T08:26:09.030Z"
   },
   {
    "duration": 37,
    "start_time": "2021-09-15T08:26:09.067Z"
   },
   {
    "duration": 27,
    "start_time": "2021-09-15T08:26:09.106Z"
   },
   {
    "duration": 258,
    "start_time": "2021-09-15T08:26:09.135Z"
   },
   {
    "duration": -1087,
    "start_time": "2021-09-15T08:26:10.482Z"
   },
   {
    "duration": -1091,
    "start_time": "2021-09-15T08:26:10.487Z"
   },
   {
    "duration": -1093,
    "start_time": "2021-09-15T08:26:10.490Z"
   },
   {
    "duration": 13,
    "start_time": "2021-09-15T08:26:32.006Z"
   },
   {
    "duration": 9,
    "start_time": "2021-09-15T08:26:50.203Z"
   },
   {
    "duration": 12,
    "start_time": "2021-09-15T08:27:39.323Z"
   },
   {
    "duration": 8,
    "start_time": "2021-09-15T08:27:52.908Z"
   },
   {
    "duration": 17,
    "start_time": "2021-09-15T08:27:59.476Z"
   },
   {
    "duration": 13,
    "start_time": "2021-09-15T08:28:19.860Z"
   },
   {
    "duration": 9,
    "start_time": "2021-09-15T08:28:41.633Z"
   },
   {
    "duration": 11,
    "start_time": "2021-09-15T08:28:45.779Z"
   },
   {
    "duration": 4,
    "start_time": "2021-09-15T08:46:51.327Z"
   },
   {
    "duration": 3,
    "start_time": "2021-09-15T08:47:59.263Z"
   },
   {
    "duration": 7,
    "start_time": "2021-09-15T08:48:13.472Z"
   },
   {
    "duration": 8,
    "start_time": "2021-09-15T08:49:12.312Z"
   },
   {
    "duration": 7,
    "start_time": "2021-09-15T08:49:24.377Z"
   },
   {
    "duration": 8,
    "start_time": "2021-09-15T08:49:38.489Z"
   },
   {
    "duration": 8,
    "start_time": "2021-09-15T08:49:47.065Z"
   },
   {
    "duration": 8,
    "start_time": "2021-09-15T08:49:56.185Z"
   },
   {
    "duration": 8,
    "start_time": "2021-09-15T08:50:02.713Z"
   },
   {
    "duration": 7,
    "start_time": "2021-09-15T08:50:08.937Z"
   },
   {
    "duration": 8,
    "start_time": "2021-09-15T08:50:18.961Z"
   },
   {
    "duration": 9,
    "start_time": "2021-09-15T08:50:35.011Z"
   },
   {
    "duration": 8,
    "start_time": "2021-09-15T08:50:48.202Z"
   },
   {
    "duration": 9,
    "start_time": "2021-09-15T08:52:13.875Z"
   },
   {
    "duration": 14,
    "start_time": "2021-09-15T08:52:22.363Z"
   },
   {
    "duration": 9,
    "start_time": "2021-09-15T08:52:33.691Z"
   },
   {
    "duration": 229,
    "start_time": "2021-09-15T08:53:40.180Z"
   },
   {
    "duration": 589,
    "start_time": "2021-09-15T08:53:46.716Z"
   },
   {
    "duration": 10,
    "start_time": "2021-09-15T08:53:47.307Z"
   },
   {
    "duration": 12,
    "start_time": "2021-09-15T08:53:47.318Z"
   },
   {
    "duration": 24,
    "start_time": "2021-09-15T08:53:47.332Z"
   },
   {
    "duration": 31,
    "start_time": "2021-09-15T08:53:47.357Z"
   },
   {
    "duration": 245,
    "start_time": "2021-09-15T08:53:47.389Z"
   },
   {
    "duration": -1008,
    "start_time": "2021-09-15T08:53:48.644Z"
   },
   {
    "duration": -1022,
    "start_time": "2021-09-15T08:53:48.659Z"
   },
   {
    "duration": -1024,
    "start_time": "2021-09-15T08:53:48.662Z"
   },
   {
    "duration": -1027,
    "start_time": "2021-09-15T08:53:48.666Z"
   },
   {
    "duration": 22,
    "start_time": "2021-09-15T08:54:28.761Z"
   },
   {
    "duration": 180,
    "start_time": "2021-09-15T08:54:33.305Z"
   },
   {
    "duration": 19,
    "start_time": "2021-09-15T08:55:10.569Z"
   },
   {
    "duration": 653,
    "start_time": "2021-09-15T08:55:19.683Z"
   },
   {
    "duration": 10,
    "start_time": "2021-09-15T08:55:20.338Z"
   },
   {
    "duration": 3,
    "start_time": "2021-09-15T08:55:20.349Z"
   },
   {
    "duration": 11,
    "start_time": "2021-09-15T08:55:20.354Z"
   },
   {
    "duration": 32,
    "start_time": "2021-09-15T08:55:20.367Z"
   },
   {
    "duration": 15,
    "start_time": "2021-09-15T08:55:20.401Z"
   },
   {
    "duration": 9,
    "start_time": "2021-09-15T08:55:20.418Z"
   },
   {
    "duration": 2,
    "start_time": "2021-09-15T08:55:20.429Z"
   },
   {
    "duration": 7,
    "start_time": "2021-09-15T08:55:20.432Z"
   },
   {
    "duration": 17,
    "start_time": "2021-09-15T08:55:20.441Z"
   },
   {
    "duration": 6,
    "start_time": "2021-09-15T08:58:45.000Z"
   },
   {
    "duration": 18,
    "start_time": "2021-09-15T08:58:50.592Z"
   },
   {
    "duration": 13,
    "start_time": "2021-09-15T09:03:21.882Z"
   },
   {
    "duration": 15,
    "start_time": "2021-09-15T09:03:41.665Z"
   },
   {
    "duration": 16,
    "start_time": "2021-09-15T09:03:45.968Z"
   },
   {
    "duration": 8,
    "start_time": "2021-09-15T09:03:49.105Z"
   },
   {
    "duration": 11,
    "start_time": "2021-09-15T09:04:00.841Z"
   },
   {
    "duration": 10,
    "start_time": "2021-09-15T09:04:14.761Z"
   },
   {
    "duration": 13,
    "start_time": "2021-09-15T09:04:36.473Z"
   },
   {
    "duration": 10,
    "start_time": "2021-09-15T09:09:08.692Z"
   },
   {
    "duration": 8,
    "start_time": "2021-09-15T09:09:20.765Z"
   },
   {
    "duration": -1003,
    "start_time": "2021-09-15T09:09:29.475Z"
   },
   {
    "duration": -1006,
    "start_time": "2021-09-15T09:09:29.479Z"
   },
   {
    "duration": -1005,
    "start_time": "2021-09-15T09:09:37.517Z"
   },
   {
    "duration": 3146,
    "start_time": "2021-09-15T09:09:38.869Z"
   },
   {
    "duration": 582,
    "start_time": "2021-09-15T09:09:43.728Z"
   },
   {
    "duration": 10,
    "start_time": "2021-09-15T09:09:44.312Z"
   },
   {
    "duration": 6,
    "start_time": "2021-09-15T09:09:44.324Z"
   },
   {
    "duration": 13,
    "start_time": "2021-09-15T09:09:44.331Z"
   },
   {
    "duration": 16,
    "start_time": "2021-09-15T09:09:44.346Z"
   },
   {
    "duration": 3666,
    "start_time": "2021-09-15T09:09:44.363Z"
   },
   {
    "duration": -1007,
    "start_time": "2021-09-15T09:09:49.038Z"
   },
   {
    "duration": -1008,
    "start_time": "2021-09-15T09:09:49.040Z"
   },
   {
    "duration": -1010,
    "start_time": "2021-09-15T09:09:49.042Z"
   },
   {
    "duration": -1010,
    "start_time": "2021-09-15T09:09:49.043Z"
   },
   {
    "duration": 2541,
    "start_time": "2021-09-15T09:10:23.113Z"
   },
   {
    "duration": -991,
    "start_time": "2021-09-15T09:15:28.338Z"
   },
   {
    "duration": 3597,
    "start_time": "2021-09-15T09:15:29.210Z"
   },
   {
    "duration": 619,
    "start_time": "2021-09-15T09:17:31.303Z"
   },
   {
    "duration": 10,
    "start_time": "2021-09-15T09:17:31.924Z"
   },
   {
    "duration": 34,
    "start_time": "2021-09-15T09:17:31.938Z"
   },
   {
    "duration": 60,
    "start_time": "2021-09-15T09:17:31.973Z"
   },
   {
    "duration": 24,
    "start_time": "2021-09-15T09:17:32.035Z"
   },
   {
    "duration": 22,
    "start_time": "2021-09-15T09:17:32.061Z"
   },
   {
    "duration": 254,
    "start_time": "2021-09-15T09:17:32.084Z"
   },
   {
    "duration": -997,
    "start_time": "2021-09-15T09:17:33.337Z"
   },
   {
    "duration": -1024,
    "start_time": "2021-09-15T09:17:33.365Z"
   },
   {
    "duration": -1029,
    "start_time": "2021-09-15T09:17:33.371Z"
   },
   {
    "duration": 615,
    "start_time": "2021-09-15T09:17:57.556Z"
   },
   {
    "duration": 11,
    "start_time": "2021-09-15T09:18:00.652Z"
   },
   {
    "duration": 4,
    "start_time": "2021-09-15T09:18:02.660Z"
   },
   {
    "duration": 12,
    "start_time": "2021-09-15T09:18:04.051Z"
   },
   {
    "duration": 6,
    "start_time": "2021-09-15T09:18:08.996Z"
   },
   {
    "duration": 18,
    "start_time": "2021-09-15T09:18:23.805Z"
   },
   {
    "duration": 10,
    "start_time": "2021-09-15T09:18:37.727Z"
   },
   {
    "duration": 23,
    "start_time": "2021-09-15T09:19:06.522Z"
   },
   {
    "duration": 9,
    "start_time": "2021-09-15T09:19:30.254Z"
   },
   {
    "duration": 2,
    "start_time": "2021-09-15T09:19:31.230Z"
   },
   {
    "duration": -1015,
    "start_time": "2021-09-15T09:19:36.599Z"
   },
   {
    "duration": -1005,
    "start_time": "2021-09-15T09:21:54.370Z"
   },
   {
    "duration": 3291,
    "start_time": "2021-09-15T09:21:55.766Z"
   },
   {
    "duration": 614,
    "start_time": "2021-09-15T09:22:13.587Z"
   },
   {
    "duration": 10,
    "start_time": "2021-09-15T09:22:14.203Z"
   },
   {
    "duration": 5,
    "start_time": "2021-09-15T09:22:14.215Z"
   },
   {
    "duration": 29,
    "start_time": "2021-09-15T09:22:14.222Z"
   },
   {
    "duration": 19,
    "start_time": "2021-09-15T09:22:14.252Z"
   },
   {
    "duration": 30,
    "start_time": "2021-09-15T09:22:14.272Z"
   },
   {
    "duration": 2,
    "start_time": "2021-09-15T09:22:14.304Z"
   },
   {
    "duration": 20,
    "start_time": "2021-09-15T09:22:14.308Z"
   },
   {
    "duration": 21,
    "start_time": "2021-09-15T09:22:14.329Z"
   },
   {
    "duration": 32,
    "start_time": "2021-09-15T09:22:14.351Z"
   },
   {
    "duration": 638,
    "start_time": "2021-09-15T09:22:27.765Z"
   },
   {
    "duration": 10,
    "start_time": "2021-09-15T09:22:28.405Z"
   },
   {
    "duration": 3,
    "start_time": "2021-09-15T09:22:28.417Z"
   },
   {
    "duration": 19,
    "start_time": "2021-09-15T09:22:28.422Z"
   },
   {
    "duration": 11,
    "start_time": "2021-09-15T09:22:28.442Z"
   },
   {
    "duration": 30,
    "start_time": "2021-09-15T09:22:28.455Z"
   },
   {
    "duration": 2,
    "start_time": "2021-09-15T09:22:28.487Z"
   },
   {
    "duration": 7,
    "start_time": "2021-09-15T09:22:28.491Z"
   },
   {
    "duration": 10,
    "start_time": "2021-09-15T09:22:28.499Z"
   },
   {
    "duration": 7,
    "start_time": "2021-09-15T09:22:28.511Z"
   },
   {
    "duration": 244,
    "start_time": "2021-09-15T09:24:48.698Z"
   },
   {
    "duration": 617,
    "start_time": "2021-09-15T09:24:57.494Z"
   },
   {
    "duration": 10,
    "start_time": "2021-09-15T09:24:58.113Z"
   },
   {
    "duration": 4,
    "start_time": "2021-09-15T09:24:58.124Z"
   },
   {
    "duration": 16,
    "start_time": "2021-09-15T09:24:58.130Z"
   },
   {
    "duration": 10,
    "start_time": "2021-09-15T09:24:58.147Z"
   },
   {
    "duration": 34,
    "start_time": "2021-09-15T09:24:58.158Z"
   },
   {
    "duration": 2,
    "start_time": "2021-09-15T09:24:58.194Z"
   },
   {
    "duration": 5,
    "start_time": "2021-09-15T09:24:58.198Z"
   },
   {
    "duration": 5,
    "start_time": "2021-09-15T09:24:58.205Z"
   },
   {
    "duration": 6,
    "start_time": "2021-09-15T09:24:58.211Z"
   },
   {
    "duration": 18,
    "start_time": "2021-09-15T09:25:14.663Z"
   },
   {
    "duration": 20,
    "start_time": "2021-09-15T09:38:37.540Z"
   },
   {
    "duration": 59,
    "start_time": "2021-09-15T09:39:42.752Z"
   },
   {
    "duration": 240,
    "start_time": "2021-09-15T09:39:58.518Z"
   },
   {
    "duration": 183,
    "start_time": "2021-09-15T09:40:14.040Z"
   },
   {
    "duration": 6,
    "start_time": "2021-09-15T09:40:16.392Z"
   },
   {
    "duration": 24,
    "start_time": "2021-09-15T09:40:18.214Z"
   },
   {
    "duration": 1161,
    "start_time": "2021-09-15T09:41:13.328Z"
   },
   {
    "duration": 589,
    "start_time": "2021-09-15T09:41:25.211Z"
   },
   {
    "duration": 10,
    "start_time": "2021-09-15T09:41:25.802Z"
   },
   {
    "duration": 9,
    "start_time": "2021-09-15T09:41:25.814Z"
   },
   {
    "duration": 32,
    "start_time": "2021-09-15T09:41:25.825Z"
   },
   {
    "duration": 9,
    "start_time": "2021-09-15T09:41:25.859Z"
   },
   {
    "duration": 22,
    "start_time": "2021-09-15T09:41:25.869Z"
   },
   {
    "duration": 2,
    "start_time": "2021-09-15T09:41:25.893Z"
   },
   {
    "duration": 4,
    "start_time": "2021-09-15T09:41:25.898Z"
   },
   {
    "duration": 4,
    "start_time": "2021-09-15T09:41:25.904Z"
   },
   {
    "duration": 4,
    "start_time": "2021-09-15T09:41:25.910Z"
   },
   {
    "duration": 19,
    "start_time": "2021-09-15T09:44:24.626Z"
   },
   {
    "duration": 20,
    "start_time": "2021-09-15T09:44:42.026Z"
   },
   {
    "duration": 238,
    "start_time": "2021-09-15T09:44:55.137Z"
   },
   {
    "duration": 519,
    "start_time": "2021-09-15T09:45:15.434Z"
   },
   {
    "duration": 178,
    "start_time": "2021-09-15T09:45:25.042Z"
   },
   {
    "duration": 623,
    "start_time": "2021-09-15T09:45:30.680Z"
   },
   {
    "duration": 10,
    "start_time": "2021-09-15T09:45:31.305Z"
   },
   {
    "duration": 12,
    "start_time": "2021-09-15T09:45:31.317Z"
   },
   {
    "duration": 26,
    "start_time": "2021-09-15T09:45:31.330Z"
   },
   {
    "duration": 24,
    "start_time": "2021-09-15T09:45:31.358Z"
   },
   {
    "duration": 16,
    "start_time": "2021-09-15T09:45:31.383Z"
   },
   {
    "duration": 10,
    "start_time": "2021-09-15T09:45:31.401Z"
   },
   {
    "duration": 16,
    "start_time": "2021-09-15T09:45:31.413Z"
   },
   {
    "duration": 23,
    "start_time": "2021-09-15T09:45:31.431Z"
   },
   {
    "duration": 16,
    "start_time": "2021-09-15T09:45:31.455Z"
   },
   {
    "duration": 4,
    "start_time": "2021-09-15T09:48:09.510Z"
   },
   {
    "duration": 12,
    "start_time": "2021-09-15T09:48:10.416Z"
   },
   {
    "duration": 5,
    "start_time": "2021-09-15T09:48:12.007Z"
   },
   {
    "duration": 18,
    "start_time": "2021-09-15T09:48:42.930Z"
   },
   {
    "duration": 10,
    "start_time": "2021-09-15T09:49:00.559Z"
   },
   {
    "duration": 590,
    "start_time": "2021-09-15T09:49:05.923Z"
   },
   {
    "duration": 10,
    "start_time": "2021-09-15T09:49:06.515Z"
   },
   {
    "duration": 15,
    "start_time": "2021-09-15T09:49:06.527Z"
   },
   {
    "duration": 16,
    "start_time": "2021-09-15T09:49:06.544Z"
   },
   {
    "duration": 38,
    "start_time": "2021-09-15T09:49:06.562Z"
   },
   {
    "duration": 14,
    "start_time": "2021-09-15T09:49:06.602Z"
   },
   {
    "duration": 2,
    "start_time": "2021-09-15T09:49:06.618Z"
   },
   {
    "duration": 19,
    "start_time": "2021-09-15T09:49:06.621Z"
   },
   {
    "duration": 23,
    "start_time": "2021-09-15T09:49:06.641Z"
   },
   {
    "duration": 9,
    "start_time": "2021-09-15T09:49:06.665Z"
   },
   {
    "duration": 244,
    "start_time": "2021-09-15T09:49:24.710Z"
   },
   {
    "duration": 19,
    "start_time": "2021-09-15T09:49:32.192Z"
   },
   {
    "duration": 18,
    "start_time": "2021-09-15T09:49:42.151Z"
   },
   {
    "duration": 626,
    "start_time": "2021-09-15T09:49:50.666Z"
   },
   {
    "duration": 10,
    "start_time": "2021-09-15T09:49:51.294Z"
   },
   {
    "duration": 7,
    "start_time": "2021-09-15T09:49:51.306Z"
   },
   {
    "duration": 12,
    "start_time": "2021-09-15T09:49:51.315Z"
   },
   {
    "duration": 22,
    "start_time": "2021-09-15T09:49:51.329Z"
   },
   {
    "duration": 15,
    "start_time": "2021-09-15T09:49:51.353Z"
   },
   {
    "duration": 2,
    "start_time": "2021-09-15T09:49:51.385Z"
   },
   {
    "duration": 5,
    "start_time": "2021-09-15T09:49:51.389Z"
   },
   {
    "duration": 11,
    "start_time": "2021-09-15T09:49:51.395Z"
   },
   {
    "duration": 6,
    "start_time": "2021-09-15T09:49:51.408Z"
   },
   {
    "duration": 12,
    "start_time": "2021-09-15T09:51:38.998Z"
   },
   {
    "duration": 13,
    "start_time": "2021-09-15T09:52:48.709Z"
   },
   {
    "duration": 8,
    "start_time": "2021-09-15T09:52:52.700Z"
   },
   {
    "duration": 23,
    "start_time": "2021-09-15T09:52:59.485Z"
   },
   {
    "duration": 23,
    "start_time": "2021-09-15T09:53:16.173Z"
   },
   {
    "duration": 1235,
    "start_time": "2021-09-15T09:53:38.246Z"
   },
   {
    "duration": 23,
    "start_time": "2021-09-15T09:53:57.244Z"
   },
   {
    "duration": 22,
    "start_time": "2021-09-15T09:54:11.678Z"
   },
   {
    "duration": 638,
    "start_time": "2021-09-15T09:54:16.981Z"
   },
   {
    "duration": 10,
    "start_time": "2021-09-15T09:54:17.621Z"
   },
   {
    "duration": 4,
    "start_time": "2021-09-15T09:54:17.635Z"
   },
   {
    "duration": 12,
    "start_time": "2021-09-15T09:54:17.641Z"
   },
   {
    "duration": 42,
    "start_time": "2021-09-15T09:54:17.654Z"
   },
   {
    "duration": 22,
    "start_time": "2021-09-15T09:54:17.698Z"
   },
   {
    "duration": 2,
    "start_time": "2021-09-15T09:54:17.723Z"
   },
   {
    "duration": 5,
    "start_time": "2021-09-15T09:54:17.727Z"
   },
   {
    "duration": 5,
    "start_time": "2021-09-15T09:54:17.734Z"
   },
   {
    "duration": 6,
    "start_time": "2021-09-15T09:54:17.740Z"
   },
   {
    "duration": 24,
    "start_time": "2021-09-15T09:54:42.619Z"
   },
   {
    "duration": 237,
    "start_time": "2021-09-15T09:54:47.851Z"
   },
   {
    "duration": 618,
    "start_time": "2021-09-15T09:54:53.292Z"
   },
   {
    "duration": 10,
    "start_time": "2021-09-15T09:54:53.912Z"
   },
   {
    "duration": 3,
    "start_time": "2021-09-15T09:54:53.924Z"
   },
   {
    "duration": 13,
    "start_time": "2021-09-15T09:54:53.929Z"
   },
   {
    "duration": 26,
    "start_time": "2021-09-15T09:54:53.944Z"
   },
   {
    "duration": 22,
    "start_time": "2021-09-15T09:54:53.984Z"
   },
   {
    "duration": 2,
    "start_time": "2021-09-15T09:54:54.008Z"
   },
   {
    "duration": 4,
    "start_time": "2021-09-15T09:54:54.012Z"
   },
   {
    "duration": 6,
    "start_time": "2021-09-15T09:54:54.018Z"
   },
   {
    "duration": 7,
    "start_time": "2021-09-15T09:54:54.025Z"
   },
   {
    "duration": 11,
    "start_time": "2021-09-15T09:55:10.971Z"
   },
   {
    "duration": 12,
    "start_time": "2021-09-15T09:55:51.701Z"
   },
   {
    "duration": 10,
    "start_time": "2021-09-15T09:56:15.367Z"
   },
   {
    "duration": 19,
    "start_time": "2021-09-15T10:02:48.296Z"
   },
   {
    "duration": 18,
    "start_time": "2021-09-15T10:02:51.699Z"
   },
   {
    "duration": 7,
    "start_time": "2021-09-15T10:08:28.140Z"
   },
   {
    "duration": 18,
    "start_time": "2021-09-15T10:08:55.365Z"
   },
   {
    "duration": 83,
    "start_time": "2021-09-15T10:29:18.273Z"
   },
   {
    "duration": 24,
    "start_time": "2021-09-15T10:29:27.577Z"
   },
   {
    "duration": 23,
    "start_time": "2021-09-15T10:30:58.146Z"
   },
   {
    "duration": 576,
    "start_time": "2021-09-15T10:32:20.538Z"
   },
   {
    "duration": 10,
    "start_time": "2021-09-15T10:32:21.116Z"
   },
   {
    "duration": 13,
    "start_time": "2021-09-15T10:32:21.130Z"
   },
   {
    "duration": 24,
    "start_time": "2021-09-15T10:32:21.145Z"
   },
   {
    "duration": 29,
    "start_time": "2021-09-15T10:32:21.171Z"
   },
   {
    "duration": 23,
    "start_time": "2021-09-15T10:32:21.201Z"
   },
   {
    "duration": 6,
    "start_time": "2021-09-15T10:32:21.225Z"
   },
   {
    "duration": 11,
    "start_time": "2021-09-15T10:32:21.232Z"
   },
   {
    "duration": 16,
    "start_time": "2021-09-15T10:32:21.245Z"
   },
   {
    "duration": 7,
    "start_time": "2021-09-15T10:32:21.263Z"
   },
   {
    "duration": 625,
    "start_time": "2021-09-15T10:36:07.126Z"
   },
   {
    "duration": 10,
    "start_time": "2021-09-15T10:36:07.753Z"
   },
   {
    "duration": 3,
    "start_time": "2021-09-15T10:36:07.766Z"
   },
   {
    "duration": 14,
    "start_time": "2021-09-15T10:36:07.771Z"
   },
   {
    "duration": 28,
    "start_time": "2021-09-15T10:36:07.787Z"
   },
   {
    "duration": 4,
    "start_time": "2021-09-15T10:36:07.817Z"
   },
   {
    "duration": 12,
    "start_time": "2021-09-15T10:36:07.823Z"
   },
   {
    "duration": 4,
    "start_time": "2021-09-15T10:36:07.837Z"
   },
   {
    "duration": 5,
    "start_time": "2021-09-15T10:36:07.843Z"
   },
   {
    "duration": 7,
    "start_time": "2021-09-15T10:36:07.850Z"
   },
   {
    "duration": 590,
    "start_time": "2021-09-15T10:36:31.511Z"
   },
   {
    "duration": 10,
    "start_time": "2021-09-15T10:36:32.103Z"
   },
   {
    "duration": 7,
    "start_time": "2021-09-15T10:36:32.115Z"
   },
   {
    "duration": 23,
    "start_time": "2021-09-15T10:36:32.123Z"
   },
   {
    "duration": 36,
    "start_time": "2021-09-15T10:36:32.147Z"
   },
   {
    "duration": 4,
    "start_time": "2021-09-15T10:36:32.184Z"
   },
   {
    "duration": 19,
    "start_time": "2021-09-15T10:36:32.190Z"
   },
   {
    "duration": 5,
    "start_time": "2021-09-15T10:36:32.211Z"
   },
   {
    "duration": 14,
    "start_time": "2021-09-15T10:36:32.218Z"
   },
   {
    "duration": 13,
    "start_time": "2021-09-15T10:36:32.233Z"
   },
   {
    "duration": 16,
    "start_time": "2021-09-15T10:36:52.071Z"
   },
   {
    "duration": 17,
    "start_time": "2021-09-15T10:37:05.552Z"
   },
   {
    "duration": 12,
    "start_time": "2021-09-15T10:37:19.609Z"
   },
   {
    "duration": 622,
    "start_time": "2021-09-15T10:37:24.015Z"
   },
   {
    "duration": 11,
    "start_time": "2021-09-15T10:37:24.639Z"
   },
   {
    "duration": 4,
    "start_time": "2021-09-15T10:37:24.652Z"
   },
   {
    "duration": 15,
    "start_time": "2021-09-15T10:37:24.658Z"
   },
   {
    "duration": 14,
    "start_time": "2021-09-15T10:37:24.685Z"
   },
   {
    "duration": 17,
    "start_time": "2021-09-15T10:37:24.700Z"
   },
   {
    "duration": 9,
    "start_time": "2021-09-15T10:37:24.719Z"
   },
   {
    "duration": 2,
    "start_time": "2021-09-15T10:37:24.730Z"
   },
   {
    "duration": 6,
    "start_time": "2021-09-15T10:37:24.734Z"
   },
   {
    "duration": 6,
    "start_time": "2021-09-15T10:37:24.741Z"
   },
   {
    "duration": 4,
    "start_time": "2021-09-15T10:44:33.501Z"
   },
   {
    "duration": 10,
    "start_time": "2021-09-15T10:44:48.123Z"
   },
   {
    "duration": 42,
    "start_time": "2021-09-15T10:50:15.952Z"
   },
   {
    "duration": 16,
    "start_time": "2021-09-15T10:57:07.865Z"
   },
   {
    "duration": 16,
    "start_time": "2021-09-15T10:57:16.017Z"
   },
   {
    "duration": 14,
    "start_time": "2021-09-15T10:57:17.281Z"
   },
   {
    "duration": 26,
    "start_time": "2021-09-15T10:58:08.618Z"
   },
   {
    "duration": 30,
    "start_time": "2021-09-15T10:58:17.833Z"
   },
   {
    "duration": 16,
    "start_time": "2021-09-15T10:58:37.361Z"
   },
   {
    "duration": 11,
    "start_time": "2021-09-15T10:59:00.971Z"
   },
   {
    "duration": 226,
    "start_time": "2021-09-15T10:59:23.866Z"
   },
   {
    "duration": 598,
    "start_time": "2021-09-15T10:59:47.420Z"
   },
   {
    "duration": 10,
    "start_time": "2021-09-15T10:59:48.020Z"
   },
   {
    "duration": 8,
    "start_time": "2021-09-15T10:59:48.032Z"
   },
   {
    "duration": 12,
    "start_time": "2021-09-15T10:59:48.042Z"
   },
   {
    "duration": 16,
    "start_time": "2021-09-15T10:59:48.056Z"
   },
   {
    "duration": 13,
    "start_time": "2021-09-15T10:59:48.074Z"
   },
   {
    "duration": 14,
    "start_time": "2021-09-15T10:59:48.088Z"
   },
   {
    "duration": 30,
    "start_time": "2021-09-15T10:59:48.104Z"
   },
   {
    "duration": 9,
    "start_time": "2021-09-15T10:59:48.135Z"
   },
   {
    "duration": 15,
    "start_time": "2021-09-15T10:59:48.146Z"
   },
   {
    "duration": 4,
    "start_time": "2021-09-15T11:00:41.620Z"
   },
   {
    "duration": 26,
    "start_time": "2021-09-15T11:07:01.569Z"
   },
   {
    "duration": 42,
    "start_time": "2021-09-15T11:07:10.793Z"
   },
   {
    "duration": 29,
    "start_time": "2021-09-15T11:07:13.816Z"
   },
   {
    "duration": 233,
    "start_time": "2021-09-15T11:10:32.474Z"
   },
   {
    "duration": 618,
    "start_time": "2021-09-15T11:12:10.700Z"
   },
   {
    "duration": 637,
    "start_time": "2021-09-15T11:12:16.603Z"
   },
   {
    "duration": 26,
    "start_time": "2021-09-15T11:13:41.372Z"
   },
   {
    "duration": 198,
    "start_time": "2021-09-15T11:16:58.118Z"
   },
   {
    "duration": 5,
    "start_time": "2021-09-15T11:17:35.134Z"
   },
   {
    "duration": 6,
    "start_time": "2021-09-15T11:17:37.254Z"
   },
   {
    "duration": 2776,
    "start_time": "2021-09-15T11:17:56.057Z"
   },
   {
    "duration": 981,
    "start_time": "2021-09-15T13:16:05.079Z"
   },
   {
    "duration": 837,
    "start_time": "2021-09-15T13:16:13.754Z"
   },
   {
    "duration": 28,
    "start_time": "2021-09-15T13:16:14.593Z"
   },
   {
    "duration": 4,
    "start_time": "2021-09-15T13:16:14.626Z"
   },
   {
    "duration": 33,
    "start_time": "2021-09-15T13:16:14.633Z"
   },
   {
    "duration": 39,
    "start_time": "2021-09-15T13:16:14.669Z"
   },
   {
    "duration": 6,
    "start_time": "2021-09-15T13:16:14.711Z"
   },
   {
    "duration": 26,
    "start_time": "2021-09-15T13:16:14.719Z"
   },
   {
    "duration": 52,
    "start_time": "2021-09-15T13:16:14.748Z"
   },
   {
    "duration": 5328,
    "start_time": "2021-09-15T13:16:14.802Z"
   },
   {
    "duration": -888,
    "start_time": "2021-09-15T13:16:21.021Z"
   },
   {
    "duration": 4629,
    "start_time": "2021-09-15T13:16:25.765Z"
   },
   {
    "duration": 4671,
    "start_time": "2021-09-15T13:17:13.395Z"
   },
   {
    "duration": 13539,
    "start_time": "2021-09-15T13:17:23.232Z"
   },
   {
    "duration": 355,
    "start_time": "2021-09-15T15:18:39.231Z"
   },
   {
    "duration": 667,
    "start_time": "2021-09-15T15:18:46.221Z"
   },
   {
    "duration": 12,
    "start_time": "2021-09-15T15:18:46.890Z"
   },
   {
    "duration": 4,
    "start_time": "2021-09-15T15:18:46.904Z"
   },
   {
    "duration": 32,
    "start_time": "2021-09-15T15:18:46.910Z"
   },
   {
    "duration": 14,
    "start_time": "2021-09-15T15:18:46.944Z"
   },
   {
    "duration": 4,
    "start_time": "2021-09-15T15:18:46.960Z"
   },
   {
    "duration": 14,
    "start_time": "2021-09-15T15:18:46.965Z"
   },
   {
    "duration": 30,
    "start_time": "2021-09-15T15:18:46.981Z"
   },
   {
    "duration": 997,
    "start_time": "2021-09-15T15:18:47.013Z"
   },
   {
    "duration": -772,
    "start_time": "2021-09-15T15:18:48.784Z"
   },
   {
    "duration": 8035,
    "start_time": "2021-09-15T15:18:57.314Z"
   },
   {
    "duration": 8245,
    "start_time": "2021-09-15T15:19:08.947Z"
   },
   {
    "duration": 7951,
    "start_time": "2021-09-15T15:19:19.990Z"
   },
   {
    "duration": 8238,
    "start_time": "2021-09-15T15:19:30.723Z"
   },
   {
    "duration": 7929,
    "start_time": "2021-09-15T15:19:39.116Z"
   },
   {
    "duration": 120,
    "start_time": "2021-09-15T15:24:38.850Z"
   },
   {
    "duration": 8542,
    "start_time": "2021-09-15T15:24:43.208Z"
   },
   {
    "duration": 8366,
    "start_time": "2021-09-15T15:26:15.913Z"
   },
   {
    "duration": 15,
    "start_time": "2021-09-15T15:26:24.281Z"
   },
   {
    "duration": 15,
    "start_time": "2021-09-15T15:27:01.288Z"
   },
   {
    "duration": 14,
    "start_time": "2021-09-15T15:27:16.937Z"
   },
   {
    "duration": 15,
    "start_time": "2021-09-15T15:27:29.321Z"
   },
   {
    "duration": 16,
    "start_time": "2021-09-15T15:27:40.586Z"
   },
   {
    "duration": 14,
    "start_time": "2021-09-15T15:27:47.267Z"
   },
   {
    "duration": 14,
    "start_time": "2021-09-15T15:27:48.466Z"
   },
   {
    "duration": 9,
    "start_time": "2021-09-15T15:28:14.810Z"
   },
   {
    "duration": 13,
    "start_time": "2021-09-15T15:28:28.163Z"
   },
   {
    "duration": 12,
    "start_time": "2021-09-15T15:30:39.158Z"
   },
   {
    "duration": 12,
    "start_time": "2021-09-15T15:30:57.006Z"
   },
   {
    "duration": 12,
    "start_time": "2021-09-15T15:31:05.999Z"
   },
   {
    "duration": 11,
    "start_time": "2021-09-15T15:31:12.014Z"
   },
   {
    "duration": 4,
    "start_time": "2021-09-15T15:32:02.152Z"
   },
   {
    "duration": 4,
    "start_time": "2021-09-15T15:32:03.927Z"
   },
   {
    "duration": 10,
    "start_time": "2021-09-15T15:32:10.397Z"
   },
   {
    "duration": 681,
    "start_time": "2021-09-15T15:33:55.027Z"
   },
   {
    "duration": 12,
    "start_time": "2021-09-15T15:33:55.711Z"
   },
   {
    "duration": 4,
    "start_time": "2021-09-15T15:33:55.726Z"
   },
   {
    "duration": 17,
    "start_time": "2021-09-15T15:33:55.733Z"
   },
   {
    "duration": 15,
    "start_time": "2021-09-15T15:33:55.752Z"
   },
   {
    "duration": 5,
    "start_time": "2021-09-15T15:33:55.769Z"
   },
   {
    "duration": 16,
    "start_time": "2021-09-15T15:33:55.776Z"
   },
   {
    "duration": 64,
    "start_time": "2021-09-15T15:33:55.795Z"
   },
   {
    "duration": 9306,
    "start_time": "2021-09-15T15:33:55.862Z"
   },
   {
    "duration": 3,
    "start_time": "2021-09-15T15:34:05.170Z"
   },
   {
    "duration": 4,
    "start_time": "2021-09-15T15:40:12.263Z"
   },
   {
    "duration": 5,
    "start_time": "2021-09-15T15:40:31.776Z"
   },
   {
    "duration": 3,
    "start_time": "2021-09-15T15:40:33.152Z"
   },
   {
    "duration": 357,
    "start_time": "2021-09-15T15:40:46.007Z"
   },
   {
    "duration": 14,
    "start_time": "2021-09-15T15:41:00.024Z"
   },
   {
    "duration": 11,
    "start_time": "2021-09-15T15:41:08.442Z"
   },
   {
    "duration": 8,
    "start_time": "2021-09-15T15:41:54.296Z"
   },
   {
    "duration": 366,
    "start_time": "2021-09-15T15:43:24.282Z"
   },
   {
    "duration": 378,
    "start_time": "2021-09-15T15:43:30.305Z"
   },
   {
    "duration": 15,
    "start_time": "2021-09-15T15:43:37.097Z"
   },
   {
    "duration": 14,
    "start_time": "2021-09-15T15:45:08.915Z"
   },
   {
    "duration": 3238,
    "start_time": "2021-09-15T15:48:29.811Z"
   },
   {
    "duration": 7774,
    "start_time": "2021-09-15T15:48:38.697Z"
   },
   {
    "duration": 3451,
    "start_time": "2021-09-15T15:53:19.641Z"
   },
   {
    "duration": 114,
    "start_time": "2021-09-15T15:53:28.948Z"
   },
   {
    "duration": 8253,
    "start_time": "2021-09-15T15:53:40.763Z"
   },
   {
    "duration": 118,
    "start_time": "2021-09-15T15:59:51.249Z"
   },
   {
    "duration": 29,
    "start_time": "2021-09-15T16:00:00.070Z"
   },
   {
    "duration": 6,
    "start_time": "2021-09-15T16:00:06.198Z"
   },
   {
    "duration": 6,
    "start_time": "2021-09-15T16:00:08.725Z"
   },
   {
    "duration": 6,
    "start_time": "2021-09-15T16:03:10.515Z"
   },
   {
    "duration": 395,
    "start_time": "2021-09-15T16:03:37.483Z"
   },
   {
    "duration": 7627,
    "start_time": "2021-09-15T16:03:42.666Z"
   },
   {
    "duration": 27,
    "start_time": "2021-09-15T16:07:03.076Z"
   },
   {
    "duration": 102,
    "start_time": "2021-09-15T16:07:07.345Z"
   },
   {
    "duration": 140,
    "start_time": "2021-09-15T16:07:08.865Z"
   },
   {
    "duration": 118,
    "start_time": "2021-09-15T16:08:07.553Z"
   },
   {
    "duration": 103,
    "start_time": "2021-09-15T16:08:18.040Z"
   },
   {
    "duration": 98,
    "start_time": "2021-09-15T16:08:21.376Z"
   },
   {
    "duration": 598,
    "start_time": "2021-09-15T16:15:57.294Z"
   },
   {
    "duration": 11,
    "start_time": "2021-09-15T16:15:57.893Z"
   },
   {
    "duration": 3,
    "start_time": "2021-09-15T16:15:57.906Z"
   },
   {
    "duration": 14,
    "start_time": "2021-09-15T16:15:57.911Z"
   },
   {
    "duration": 25,
    "start_time": "2021-09-15T16:15:57.927Z"
   },
   {
    "duration": 9,
    "start_time": "2021-09-15T16:15:57.953Z"
   },
   {
    "duration": 13,
    "start_time": "2021-09-15T16:15:57.964Z"
   },
   {
    "duration": 31,
    "start_time": "2021-09-15T16:15:57.979Z"
   },
   {
    "duration": -726,
    "start_time": "2021-09-15T16:18:07.896Z"
   },
   {
    "duration": -732,
    "start_time": "2021-09-15T16:18:07.903Z"
   },
   {
    "duration": -737,
    "start_time": "2021-09-15T16:18:07.908Z"
   },
   {
    "duration": -751,
    "start_time": "2021-09-15T16:18:07.923Z"
   },
   {
    "duration": -756,
    "start_time": "2021-09-15T16:18:07.929Z"
   },
   {
    "duration": -759,
    "start_time": "2021-09-15T16:18:07.933Z"
   },
   {
    "duration": -761,
    "start_time": "2021-09-15T16:18:07.936Z"
   },
   {
    "duration": -768,
    "start_time": "2021-09-15T16:18:07.944Z"
   },
   {
    "duration": -769,
    "start_time": "2021-09-15T16:18:07.946Z"
   },
   {
    "duration": -770,
    "start_time": "2021-09-15T16:18:07.948Z"
   },
   {
    "duration": 331,
    "start_time": "2021-09-15T16:18:10.193Z"
   },
   {
    "duration": 679,
    "start_time": "2021-09-15T16:18:23.127Z"
   },
   {
    "duration": 10,
    "start_time": "2021-09-15T16:18:23.808Z"
   },
   {
    "duration": 3,
    "start_time": "2021-09-15T16:18:23.820Z"
   },
   {
    "duration": 13,
    "start_time": "2021-09-15T16:18:23.825Z"
   },
   {
    "duration": 16,
    "start_time": "2021-09-15T16:18:23.839Z"
   },
   {
    "duration": 4,
    "start_time": "2021-09-15T16:18:23.856Z"
   },
   {
    "duration": 13,
    "start_time": "2021-09-15T16:18:23.862Z"
   },
   {
    "duration": 30,
    "start_time": "2021-09-15T16:18:23.877Z"
   },
   {
    "duration": 7858,
    "start_time": "2021-09-15T16:18:23.908Z"
   },
   {
    "duration": 11,
    "start_time": "2021-09-15T16:18:31.768Z"
   },
   {
    "duration": 97,
    "start_time": "2021-09-15T16:21:16.083Z"
   },
   {
    "duration": 28,
    "start_time": "2021-09-15T16:21:21.168Z"
   },
   {
    "duration": 369,
    "start_time": "2021-09-15T16:26:48.823Z"
   },
   {
    "duration": 674,
    "start_time": "2021-09-15T16:26:49.264Z"
   },
   {
    "duration": 10,
    "start_time": "2021-09-15T16:26:49.940Z"
   },
   {
    "duration": 18,
    "start_time": "2021-09-15T16:26:49.952Z"
   },
   {
    "duration": 24,
    "start_time": "2021-09-15T16:26:49.972Z"
   },
   {
    "duration": 13,
    "start_time": "2021-09-15T16:26:49.998Z"
   },
   {
    "duration": 4,
    "start_time": "2021-09-15T16:26:50.013Z"
   },
   {
    "duration": 13,
    "start_time": "2021-09-15T16:26:50.018Z"
   },
   {
    "duration": 30,
    "start_time": "2021-09-15T16:26:50.033Z"
   },
   {
    "duration": 7836,
    "start_time": "2021-09-15T16:26:50.065Z"
   },
   {
    "duration": 4,
    "start_time": "2021-09-15T16:26:57.941Z"
   },
   {
    "duration": 21,
    "start_time": "2021-09-15T16:26:57.947Z"
   },
   {
    "duration": -1149,
    "start_time": "2021-09-15T16:27:37.920Z"
   },
   {
    "duration": 8367,
    "start_time": "2021-09-15T16:27:41.719Z"
   },
   {
    "duration": 621,
    "start_time": "2021-09-15T16:28:01.330Z"
   },
   {
    "duration": 101,
    "start_time": "2021-09-15T16:28:05.608Z"
   },
   {
    "duration": 4823,
    "start_time": "2021-09-15T16:28:10.131Z"
   },
   {
    "duration": 3821,
    "start_time": "2021-09-15T16:28:32.642Z"
   },
   {
    "duration": 105,
    "start_time": "2021-09-15T16:28:37.311Z"
   },
   {
    "duration": 540,
    "start_time": "2021-09-15T16:28:40.071Z"
   },
   {
    "duration": 96,
    "start_time": "2021-09-15T16:29:01.791Z"
   },
   {
    "duration": 125,
    "start_time": "2021-09-15T16:29:09.016Z"
   },
   {
    "duration": 8348,
    "start_time": "2021-09-15T16:29:16.992Z"
   },
   {
    "duration": 8876,
    "start_time": "2021-09-15T16:30:19.050Z"
   },
   {
    "duration": 120,
    "start_time": "2021-09-15T16:30:33.698Z"
   },
   {
    "duration": 3857,
    "start_time": "2021-09-15T16:30:37.287Z"
   },
   {
    "duration": 108,
    "start_time": "2021-09-15T16:35:46.552Z"
   },
   {
    "duration": 7939,
    "start_time": "2021-09-15T16:35:51.751Z"
   },
   {
    "duration": 437,
    "start_time": "2021-09-16T08:08:26.412Z"
   },
   {
    "duration": 560,
    "start_time": "2021-09-16T08:09:07.035Z"
   },
   {
    "duration": 888,
    "start_time": "2021-09-16T08:09:19.296Z"
   },
   {
    "duration": 15,
    "start_time": "2021-09-16T08:09:20.186Z"
   },
   {
    "duration": 13,
    "start_time": "2021-09-16T08:09:20.204Z"
   },
   {
    "duration": 18,
    "start_time": "2021-09-16T08:09:20.220Z"
   },
   {
    "duration": 11,
    "start_time": "2021-09-16T08:09:20.240Z"
   },
   {
    "duration": 26,
    "start_time": "2021-09-16T08:09:20.253Z"
   },
   {
    "duration": 5,
    "start_time": "2021-09-16T08:09:20.281Z"
   },
   {
    "duration": 40,
    "start_time": "2021-09-16T08:09:20.290Z"
   },
   {
    "duration": 46,
    "start_time": "2021-09-16T08:09:20.333Z"
   },
   {
    "duration": 12662,
    "start_time": "2021-09-16T08:09:20.381Z"
   },
   {
    "duration": 8,
    "start_time": "2021-09-16T08:09:33.046Z"
   },
   {
    "duration": 3474,
    "start_time": "2021-09-16T08:24:36.572Z"
   },
   {
    "duration": 5457,
    "start_time": "2021-09-16T08:25:07.725Z"
   },
   {
    "duration": 2660,
    "start_time": "2021-09-16T08:27:31.094Z"
   },
   {
    "duration": 9,
    "start_time": "2021-09-16T09:23:52.253Z"
   },
   {
    "duration": 8,
    "start_time": "2021-09-16T09:24:04.295Z"
   },
   {
    "duration": 432,
    "start_time": "2021-09-16T09:24:20.135Z"
   },
   {
    "duration": 399,
    "start_time": "2021-09-16T09:24:24.816Z"
   },
   {
    "duration": 9,
    "start_time": "2021-09-16T09:24:31.375Z"
   },
   {
    "duration": 852,
    "start_time": "2021-09-16T09:25:05.842Z"
   },
   {
    "duration": 20,
    "start_time": "2021-09-16T09:25:06.697Z"
   },
   {
    "duration": 5,
    "start_time": "2021-09-16T09:25:06.721Z"
   },
   {
    "duration": 18,
    "start_time": "2021-09-16T09:25:06.729Z"
   },
   {
    "duration": 25,
    "start_time": "2021-09-16T09:25:06.749Z"
   },
   {
    "duration": 6,
    "start_time": "2021-09-16T09:25:06.777Z"
   },
   {
    "duration": 16,
    "start_time": "2021-09-16T09:25:06.817Z"
   },
   {
    "duration": 45,
    "start_time": "2021-09-16T09:25:06.837Z"
   },
   {
    "duration": 36,
    "start_time": "2021-09-16T09:25:06.885Z"
   },
   {
    "duration": 7,
    "start_time": "2021-09-16T09:25:06.924Z"
   },
   {
    "duration": 477,
    "start_time": "2021-09-16T09:26:47.304Z"
   },
   {
    "duration": 525,
    "start_time": "2021-09-16T09:27:07.880Z"
   },
   {
    "duration": 1495,
    "start_time": "2021-09-16T09:27:12.432Z"
   },
   {
    "duration": 398,
    "start_time": "2021-09-16T09:28:12.529Z"
   },
   {
    "duration": 15,
    "start_time": "2021-09-16T09:46:43.643Z"
   },
   {
    "duration": 1225,
    "start_time": "2021-09-16T09:49:47.026Z"
   },
   {
    "duration": 466,
    "start_time": "2021-09-16T09:49:51.724Z"
   },
   {
    "duration": 830,
    "start_time": "2021-09-16T09:50:00.954Z"
   },
   {
    "duration": 32,
    "start_time": "2021-09-16T09:50:01.787Z"
   },
   {
    "duration": 8,
    "start_time": "2021-09-16T09:50:01.822Z"
   },
   {
    "duration": 60,
    "start_time": "2021-09-16T09:50:01.833Z"
   },
   {
    "duration": 45,
    "start_time": "2021-09-16T09:50:01.895Z"
   },
   {
    "duration": 6,
    "start_time": "2021-09-16T09:50:01.942Z"
   },
   {
    "duration": 45,
    "start_time": "2021-09-16T09:50:01.950Z"
   },
   {
    "duration": 90,
    "start_time": "2021-09-16T09:50:01.998Z"
   },
   {
    "duration": 533,
    "start_time": "2021-09-16T09:50:02.091Z"
   },
   {
    "duration": -1048,
    "start_time": "2021-09-16T09:50:03.674Z"
   },
   {
    "duration": 391,
    "start_time": "2021-09-16T09:50:33.983Z"
   },
   {
    "duration": 424,
    "start_time": "2021-09-16T09:51:14.527Z"
   },
   {
    "duration": 405,
    "start_time": "2021-09-16T10:10:08.247Z"
   },
   {
    "duration": 14042,
    "start_time": "2021-09-16T10:10:24.120Z"
   },
   {
    "duration": 29,
    "start_time": "2021-09-16T10:15:37.095Z"
   },
   {
    "duration": 4,
    "start_time": "2021-09-16T11:23:09.539Z"
   },
   {
    "duration": 4513,
    "start_time": "2021-09-16T11:23:29.990Z"
   },
   {
    "duration": 852,
    "start_time": "2021-09-16T11:26:33.030Z"
   },
   {
    "duration": 17,
    "start_time": "2021-09-16T11:26:33.884Z"
   },
   {
    "duration": 14,
    "start_time": "2021-09-16T11:26:33.904Z"
   },
   {
    "duration": 19,
    "start_time": "2021-09-16T11:26:33.921Z"
   },
   {
    "duration": 29,
    "start_time": "2021-09-16T11:26:33.942Z"
   },
   {
    "duration": 6,
    "start_time": "2021-09-16T11:26:33.973Z"
   },
   {
    "duration": 45,
    "start_time": "2021-09-16T11:26:33.982Z"
   },
   {
    "duration": 48,
    "start_time": "2021-09-16T11:26:34.030Z"
   },
   {
    "duration": 4928,
    "start_time": "2021-09-16T11:26:34.080Z"
   },
   {
    "duration": -1004,
    "start_time": "2021-09-16T11:26:40.014Z"
   },
   {
    "duration": 4889,
    "start_time": "2021-09-16T11:38:21.188Z"
   },
   {
    "duration": -972,
    "start_time": "2021-09-16T11:40:34.523Z"
   },
   {
    "duration": 14058,
    "start_time": "2021-09-16T11:40:54.988Z"
   },
   {
    "duration": 13496,
    "start_time": "2021-09-16T11:41:09.883Z"
   },
   {
    "duration": 4830,
    "start_time": "2021-09-16T11:41:52.664Z"
   },
   {
    "duration": 5138,
    "start_time": "2021-09-16T11:42:02.733Z"
   },
   {
    "duration": 4933,
    "start_time": "2021-09-16T11:43:36.239Z"
   },
   {
    "duration": 4889,
    "start_time": "2021-09-16T11:44:20.311Z"
   },
   {
    "duration": 4597,
    "start_time": "2021-09-16T12:11:35.840Z"
   },
   {
    "duration": 4477,
    "start_time": "2021-09-16T12:12:10.543Z"
   },
   {
    "duration": 380,
    "start_time": "2021-09-16T12:12:55.926Z"
   },
   {
    "duration": 450,
    "start_time": "2021-09-16T12:16:36.825Z"
   },
   {
    "duration": 467,
    "start_time": "2021-09-16T12:16:46.201Z"
   },
   {
    "duration": 420,
    "start_time": "2021-09-16T12:16:52.322Z"
   },
   {
    "duration": 446,
    "start_time": "2021-09-16T12:17:33.921Z"
   },
   {
    "duration": 415,
    "start_time": "2021-09-16T12:18:05.865Z"
   },
   {
    "duration": 384,
    "start_time": "2021-09-16T12:18:16.522Z"
   },
   {
    "duration": 506,
    "start_time": "2021-09-16T12:18:51.153Z"
   },
   {
    "duration": 1743,
    "start_time": "2021-09-16T12:19:05.884Z"
   },
   {
    "duration": 139,
    "start_time": "2021-09-16T12:19:27.684Z"
   },
   {
    "duration": 144,
    "start_time": "2021-09-16T12:19:31.347Z"
   },
   {
    "duration": 923,
    "start_time": "2021-09-16T12:19:37.242Z"
   },
   {
    "duration": 537,
    "start_time": "2021-09-16T12:19:54.890Z"
   },
   {
    "duration": 1696,
    "start_time": "2021-09-16T12:20:07.979Z"
   },
   {
    "duration": 429,
    "start_time": "2021-09-16T12:21:22.764Z"
   },
   {
    "duration": 408,
    "start_time": "2021-09-16T12:21:30.654Z"
   },
   {
    "duration": 385,
    "start_time": "2021-09-16T12:23:51.182Z"
   },
   {
    "duration": 624,
    "start_time": "2021-09-16T12:26:55.223Z"
   },
   {
    "duration": 405,
    "start_time": "2021-09-16T12:27:01.064Z"
   },
   {
    "duration": 136,
    "start_time": "2021-09-16T12:29:15.992Z"
   },
   {
    "duration": 381,
    "start_time": "2021-09-16T12:29:20.288Z"
   },
   {
    "duration": 381,
    "start_time": "2021-09-16T12:29:26.468Z"
   },
   {
    "duration": 4861,
    "start_time": "2021-09-16T12:29:31.256Z"
   },
   {
    "duration": 4937,
    "start_time": "2021-09-16T12:29:43.704Z"
   },
   {
    "duration": 4978,
    "start_time": "2021-09-16T12:29:51.773Z"
   },
   {
    "duration": 4935,
    "start_time": "2021-09-16T12:30:03.657Z"
   },
   {
    "duration": 4555,
    "start_time": "2021-09-16T12:33:18.387Z"
   },
   {
    "duration": 938,
    "start_time": "2021-09-16T12:33:25.625Z"
   },
   {
    "duration": 1342,
    "start_time": "2021-09-16T12:33:55.970Z"
   },
   {
    "duration": 1538,
    "start_time": "2021-09-16T12:34:30.868Z"
   },
   {
    "duration": 2910,
    "start_time": "2021-09-16T12:35:09.707Z"
   },
   {
    "duration": 1328,
    "start_time": "2021-09-16T12:36:11.556Z"
   },
   {
    "duration": 1440,
    "start_time": "2021-09-16T12:36:24.243Z"
   },
   {
    "duration": 1337,
    "start_time": "2021-09-16T12:37:26.021Z"
   },
   {
    "duration": 494,
    "start_time": "2021-09-16T12:37:48.606Z"
   },
   {
    "duration": 1053,
    "start_time": "2021-09-16T12:37:54.717Z"
   },
   {
    "duration": 952,
    "start_time": "2021-09-16T12:38:02.356Z"
   },
   {
    "duration": 575,
    "start_time": "2021-09-16T12:38:19.837Z"
   },
   {
    "duration": 404,
    "start_time": "2021-09-16T12:42:27.839Z"
   },
   {
    "duration": 1009,
    "start_time": "2021-09-16T12:42:35.071Z"
   },
   {
    "duration": 426,
    "start_time": "2021-09-16T12:42:49.158Z"
   },
   {
    "duration": 914,
    "start_time": "2021-09-16T12:42:55.328Z"
   },
   {
    "duration": 1453,
    "start_time": "2021-09-16T12:43:41.720Z"
   },
   {
    "duration": 1344,
    "start_time": "2021-09-16T12:43:59.889Z"
   },
   {
    "duration": 1306,
    "start_time": "2021-09-16T12:44:08.600Z"
   },
   {
    "duration": 1311,
    "start_time": "2021-09-16T12:44:16.384Z"
   },
   {
    "duration": 2523,
    "start_time": "2021-09-16T12:44:24.001Z"
   },
   {
    "duration": 1390,
    "start_time": "2021-09-16T12:44:38.993Z"
   },
   {
    "duration": 147,
    "start_time": "2021-09-16T12:45:04.649Z"
   },
   {
    "duration": 1431,
    "start_time": "2021-09-16T12:45:11.353Z"
   },
   {
    "duration": 144,
    "start_time": "2021-09-16T12:45:18.313Z"
   },
   {
    "duration": 26,
    "start_time": "2021-09-16T12:49:03.043Z"
   },
   {
    "duration": 4428,
    "start_time": "2021-09-16T12:49:29.148Z"
   },
   {
    "duration": 4481,
    "start_time": "2021-09-16T12:49:51.803Z"
   },
   {
    "duration": 1893,
    "start_time": "2021-09-16T12:50:05.563Z"
   },
   {
    "duration": 2792,
    "start_time": "2021-09-16T12:50:29.492Z"
   },
   {
    "duration": 1780,
    "start_time": "2021-09-16T12:51:16.164Z"
   },
   {
    "duration": 4,
    "start_time": "2021-09-16T12:52:23.470Z"
   },
   {
    "duration": 145,
    "start_time": "2021-09-16T12:52:40.173Z"
   },
   {
    "duration": 990,
    "start_time": "2021-09-16T12:52:46.028Z"
   },
   {
    "duration": 1594,
    "start_time": "2021-09-16T12:53:23.261Z"
   },
   {
    "duration": 1860,
    "start_time": "2021-09-16T12:53:32.605Z"
   },
   {
    "duration": 696,
    "start_time": "2021-09-16T12:53:44.957Z"
   },
   {
    "duration": 2099,
    "start_time": "2021-09-16T12:54:08.350Z"
   },
   {
    "duration": 3217,
    "start_time": "2021-09-16T12:54:25.990Z"
   },
   {
    "duration": 386,
    "start_time": "2021-09-16T12:55:24.567Z"
   },
   {
    "duration": 5,
    "start_time": "2021-09-16T12:55:33.622Z"
   },
   {
    "duration": 651,
    "start_time": "2021-09-16T12:55:55.382Z"
   },
   {
    "duration": 997,
    "start_time": "2021-09-16T12:56:19.142Z"
   },
   {
    "duration": 627,
    "start_time": "2021-09-16T12:56:24.815Z"
   },
   {
    "duration": 378,
    "start_time": "2021-09-16T12:56:26.921Z"
   },
   {
    "duration": 1179,
    "start_time": "2021-09-16T12:56:34.728Z"
   },
   {
    "duration": 6,
    "start_time": "2021-09-16T12:56:40.031Z"
   },
   {
    "duration": 7,
    "start_time": "2021-09-16T12:56:49.407Z"
   },
   {
    "duration": 10,
    "start_time": "2021-09-16T12:56:56.391Z"
   },
   {
    "duration": 13,
    "start_time": "2021-09-16T12:57:00.376Z"
   },
   {
    "duration": 869,
    "start_time": "2021-09-16T12:57:05.533Z"
   },
   {
    "duration": 14,
    "start_time": "2021-09-16T12:57:06.405Z"
   },
   {
    "duration": 5,
    "start_time": "2021-09-16T12:57:06.425Z"
   },
   {
    "duration": 24,
    "start_time": "2021-09-16T12:57:06.432Z"
   },
   {
    "duration": 30,
    "start_time": "2021-09-16T12:57:06.459Z"
   },
   {
    "duration": 7,
    "start_time": "2021-09-16T12:57:06.491Z"
   },
   {
    "duration": 16,
    "start_time": "2021-09-16T12:57:06.517Z"
   },
   {
    "duration": 50,
    "start_time": "2021-09-16T12:57:06.536Z"
   },
   {
    "duration": 14,
    "start_time": "2021-09-16T12:57:06.616Z"
   },
   {
    "duration": 6,
    "start_time": "2021-09-16T12:57:06.632Z"
   },
   {
    "duration": 4630,
    "start_time": "2021-09-16T12:57:24.720Z"
   },
   {
    "duration": 4577,
    "start_time": "2021-09-16T12:57:42.592Z"
   },
   {
    "duration": 4644,
    "start_time": "2021-09-16T13:00:15.435Z"
   },
   {
    "duration": 5288,
    "start_time": "2021-09-16T13:00:34.069Z"
   },
   {
    "duration": 5010,
    "start_time": "2021-09-16T13:01:10.330Z"
   },
   {
    "duration": 4673,
    "start_time": "2021-09-16T13:01:29.226Z"
   },
   {
    "duration": 4582,
    "start_time": "2021-09-16T13:01:41.986Z"
   },
   {
    "duration": 4444,
    "start_time": "2021-09-16T13:02:03.155Z"
   },
   {
    "duration": 4543,
    "start_time": "2021-09-16T13:02:10.550Z"
   },
   {
    "duration": 4419,
    "start_time": "2021-09-16T13:02:36.434Z"
   },
   {
    "duration": 836,
    "start_time": "2021-09-16T13:02:58.148Z"
   },
   {
    "duration": 16,
    "start_time": "2021-09-16T13:02:58.987Z"
   },
   {
    "duration": 4,
    "start_time": "2021-09-16T13:02:59.018Z"
   },
   {
    "duration": 25,
    "start_time": "2021-09-16T13:02:59.026Z"
   },
   {
    "duration": 28,
    "start_time": "2021-09-16T13:02:59.054Z"
   },
   {
    "duration": 6,
    "start_time": "2021-09-16T13:02:59.085Z"
   },
   {
    "duration": 36,
    "start_time": "2021-09-16T13:02:59.093Z"
   },
   {
    "duration": 45,
    "start_time": "2021-09-16T13:02:59.134Z"
   },
   {
    "duration": 4486,
    "start_time": "2021-09-16T13:02:59.182Z"
   },
   {
    "duration": 7,
    "start_time": "2021-09-16T13:03:03.670Z"
   },
   {
    "duration": 4450,
    "start_time": "2021-09-16T13:03:51.883Z"
   },
   {
    "duration": 4648,
    "start_time": "2021-09-16T13:04:10.736Z"
   },
   {
    "duration": 5215,
    "start_time": "2021-09-16T13:04:22.448Z"
   },
   {
    "duration": 4392,
    "start_time": "2021-09-16T13:05:32.128Z"
   },
   {
    "duration": 4584,
    "start_time": "2021-09-16T13:05:42.921Z"
   },
   {
    "duration": 4574,
    "start_time": "2021-09-16T13:05:55.376Z"
   },
   {
    "duration": 4477,
    "start_time": "2021-09-16T13:06:12.617Z"
   },
   {
    "duration": 4533,
    "start_time": "2021-09-16T13:06:41.121Z"
   },
   {
    "duration": 4565,
    "start_time": "2021-09-16T13:06:51.553Z"
   },
   {
    "duration": 4410,
    "start_time": "2021-09-16T13:07:59.673Z"
   },
   {
    "duration": 14,
    "start_time": "2021-09-16T13:32:37.640Z"
   },
   {
    "duration": 880,
    "start_time": "2021-09-16T14:02:35.972Z"
   },
   {
    "duration": 16,
    "start_time": "2021-09-16T14:02:36.854Z"
   },
   {
    "duration": 5,
    "start_time": "2021-09-16T14:02:36.873Z"
   },
   {
    "duration": 44,
    "start_time": "2021-09-16T14:02:36.880Z"
   },
   {
    "duration": 37,
    "start_time": "2021-09-16T14:02:36.927Z"
   },
   {
    "duration": 6,
    "start_time": "2021-09-16T14:02:36.966Z"
   },
   {
    "duration": 18,
    "start_time": "2021-09-16T14:02:36.975Z"
   },
   {
    "duration": 69,
    "start_time": "2021-09-16T14:02:36.997Z"
   },
   {
    "duration": 4719,
    "start_time": "2021-09-16T14:02:37.069Z"
   },
   {
    "duration": 7,
    "start_time": "2021-09-16T14:02:41.791Z"
   },
   {
    "duration": 10,
    "start_time": "2021-09-16T14:03:44.405Z"
   },
   {
    "duration": 9,
    "start_time": "2021-09-16T14:03:52.005Z"
   },
   {
    "duration": 8,
    "start_time": "2021-09-16T14:04:03.853Z"
   },
   {
    "duration": 530,
    "start_time": "2021-09-16T14:04:42.471Z"
   },
   {
    "duration": 878,
    "start_time": "2021-09-16T14:04:52.411Z"
   },
   {
    "duration": 24,
    "start_time": "2021-09-16T14:04:53.292Z"
   },
   {
    "duration": 5,
    "start_time": "2021-09-16T14:04:53.323Z"
   },
   {
    "duration": 18,
    "start_time": "2021-09-16T14:04:53.330Z"
   },
   {
    "duration": 26,
    "start_time": "2021-09-16T14:04:53.351Z"
   },
   {
    "duration": 6,
    "start_time": "2021-09-16T14:04:53.379Z"
   },
   {
    "duration": 15,
    "start_time": "2021-09-16T14:04:53.417Z"
   },
   {
    "duration": 47,
    "start_time": "2021-09-16T14:04:53.435Z"
   },
   {
    "duration": 4650,
    "start_time": "2021-09-16T14:04:53.484Z"
   },
   {
    "duration": 469,
    "start_time": "2021-09-16T14:04:58.136Z"
   },
   {
    "duration": 19,
    "start_time": "2021-09-16T14:05:00.459Z"
   },
   {
    "duration": 17,
    "start_time": "2021-09-16T14:05:14.442Z"
   },
   {
    "duration": 399,
    "start_time": "2021-09-16T14:06:26.949Z"
   },
   {
    "duration": 399,
    "start_time": "2021-09-16T16:00:54.575Z"
   },
   {
    "duration": 973,
    "start_time": "2021-09-16T16:01:01.514Z"
   },
   {
    "duration": 18,
    "start_time": "2021-09-16T16:01:02.490Z"
   },
   {
    "duration": 6,
    "start_time": "2021-09-16T16:01:02.512Z"
   },
   {
    "duration": 50,
    "start_time": "2021-09-16T16:01:02.521Z"
   },
   {
    "duration": 31,
    "start_time": "2021-09-16T16:01:02.574Z"
   },
   {
    "duration": 19,
    "start_time": "2021-09-16T16:01:02.608Z"
   },
   {
    "duration": 21,
    "start_time": "2021-09-16T16:01:02.630Z"
   },
   {
    "duration": 52,
    "start_time": "2021-09-16T16:01:02.655Z"
   },
   {
    "duration": 4751,
    "start_time": "2021-09-16T16:01:02.710Z"
   },
   {
    "duration": 14,
    "start_time": "2021-09-16T16:01:07.464Z"
   },
   {
    "duration": 10,
    "start_time": "2021-09-16T16:01:22.941Z"
   },
   {
    "duration": 5,
    "start_time": "2021-09-16T16:01:31.702Z"
   },
   {
    "duration": 5,
    "start_time": "2021-09-16T16:01:33.581Z"
   },
   {
    "duration": 394,
    "start_time": "2021-09-16T16:04:16.324Z"
   },
   {
    "duration": 13,
    "start_time": "2021-09-16T16:04:35.709Z"
   },
   {
    "duration": 15,
    "start_time": "2021-09-16T16:04:37.599Z"
   },
   {
    "duration": 12,
    "start_time": "2021-09-16T16:04:46.007Z"
   },
   {
    "duration": 12,
    "start_time": "2021-09-16T16:04:52.111Z"
   },
   {
    "duration": 12,
    "start_time": "2021-09-16T16:04:59.920Z"
   },
   {
    "duration": 13,
    "start_time": "2021-09-16T16:05:09.807Z"
   },
   {
    "duration": 242,
    "start_time": "2021-09-16T16:05:32.074Z"
   },
   {
    "duration": 12,
    "start_time": "2021-09-16T16:05:36.569Z"
   },
   {
    "duration": 11,
    "start_time": "2021-09-16T16:05:38.793Z"
   },
   {
    "duration": 11,
    "start_time": "2021-09-16T16:06:07.923Z"
   },
   {
    "duration": 12,
    "start_time": "2021-09-16T16:06:40.364Z"
   },
   {
    "duration": 10,
    "start_time": "2021-09-16T16:06:41.276Z"
   },
   {
    "duration": 342,
    "start_time": "2021-09-16T16:07:20.095Z"
   },
   {
    "duration": 12,
    "start_time": "2021-09-16T16:07:32.411Z"
   },
   {
    "duration": 11,
    "start_time": "2021-09-16T16:07:47.015Z"
   },
   {
    "duration": 12,
    "start_time": "2021-09-16T16:07:54.184Z"
   },
   {
    "duration": 24,
    "start_time": "2021-09-16T16:08:04.699Z"
   },
   {
    "duration": 12,
    "start_time": "2021-09-16T16:08:06.471Z"
   },
   {
    "duration": 12,
    "start_time": "2021-09-16T16:08:37.385Z"
   },
   {
    "duration": 13,
    "start_time": "2021-09-16T16:08:52.370Z"
   },
   {
    "duration": 80,
    "start_time": "2021-09-16T16:18:08.749Z"
   },
   {
    "duration": 863,
    "start_time": "2021-09-16T16:18:14.287Z"
   },
   {
    "duration": 15,
    "start_time": "2021-09-16T16:18:15.153Z"
   },
   {
    "duration": 5,
    "start_time": "2021-09-16T16:18:15.171Z"
   },
   {
    "duration": 18,
    "start_time": "2021-09-16T16:18:15.179Z"
   },
   {
    "duration": 31,
    "start_time": "2021-09-16T16:18:15.200Z"
   },
   {
    "duration": 6,
    "start_time": "2021-09-16T16:18:15.234Z"
   },
   {
    "duration": 18,
    "start_time": "2021-09-16T16:18:15.263Z"
   },
   {
    "duration": 51,
    "start_time": "2021-09-16T16:18:15.285Z"
   },
   {
    "duration": 4887,
    "start_time": "2021-09-16T16:18:15.362Z"
   },
   {
    "duration": 24,
    "start_time": "2021-09-16T16:18:20.252Z"
   },
   {
    "duration": 21,
    "start_time": "2021-09-16T16:18:20.280Z"
   },
   {
    "duration": 15,
    "start_time": "2021-09-16T16:18:20.304Z"
   },
   {
    "duration": 41,
    "start_time": "2021-09-16T16:18:20.322Z"
   },
   {
    "duration": 22,
    "start_time": "2021-09-16T16:18:20.366Z"
   },
   {
    "duration": 13,
    "start_time": "2021-09-16T16:20:25.365Z"
   },
   {
    "duration": 13,
    "start_time": "2021-09-16T16:20:38.353Z"
   },
   {
    "duration": 14,
    "start_time": "2021-09-16T16:20:53.482Z"
   },
   {
    "duration": 4769,
    "start_time": "2021-09-16T16:21:18.939Z"
   },
   {
    "duration": 14,
    "start_time": "2021-09-16T16:21:26.864Z"
   },
   {
    "duration": 10,
    "start_time": "2021-09-16T16:21:34.976Z"
   },
   {
    "duration": 11,
    "start_time": "2021-09-16T16:21:47.232Z"
   },
   {
    "duration": 316,
    "start_time": "2021-09-17T19:57:51.061Z"
   },
   {
    "duration": 913,
    "start_time": "2021-09-17T19:58:00.932Z"
   },
   {
    "duration": 21,
    "start_time": "2021-09-17T19:58:01.847Z"
   },
   {
    "duration": 12,
    "start_time": "2021-09-17T19:58:01.871Z"
   },
   {
    "duration": 41,
    "start_time": "2021-09-17T19:58:01.887Z"
   },
   {
    "duration": 29,
    "start_time": "2021-09-17T19:58:01.930Z"
   },
   {
    "duration": 17,
    "start_time": "2021-09-17T19:58:01.962Z"
   },
   {
    "duration": 35,
    "start_time": "2021-09-17T19:58:01.982Z"
   },
   {
    "duration": 49,
    "start_time": "2021-09-17T19:58:02.020Z"
   },
   {
    "duration": 4540,
    "start_time": "2021-09-17T19:58:02.072Z"
   },
   {
    "duration": 13,
    "start_time": "2021-09-17T19:58:06.614Z"
   },
   {
    "duration": 16,
    "start_time": "2021-09-17T19:58:06.629Z"
   },
   {
    "duration": 31,
    "start_time": "2021-09-17T19:58:06.647Z"
   },
   {
    "duration": 14,
    "start_time": "2021-09-17T19:58:06.680Z"
   },
   {
    "duration": 11,
    "start_time": "2021-09-17T19:58:06.697Z"
   },
   {
    "duration": 13,
    "start_time": "2021-09-17T19:58:06.711Z"
   },
   {
    "duration": 348,
    "start_time": "2021-09-17T20:12:04.448Z"
   },
   {
    "duration": 6,
    "start_time": "2021-09-17T20:12:13.403Z"
   },
   {
    "duration": 23,
    "start_time": "2021-09-17T20:12:19.282Z"
   },
   {
    "duration": 40,
    "start_time": "2021-09-17T20:12:38.768Z"
   },
   {
    "duration": 569,
    "start_time": "2021-09-17T20:13:44.996Z"
   },
   {
    "duration": 400,
    "start_time": "2021-09-17T20:15:16.825Z"
   },
   {
    "duration": 441,
    "start_time": "2021-09-17T20:15:27.996Z"
   },
   {
    "duration": 431,
    "start_time": "2021-09-17T20:16:22.762Z"
   },
   {
    "duration": 436,
    "start_time": "2021-09-17T20:16:30.344Z"
   },
   {
    "duration": 282,
    "start_time": "2021-09-17T20:23:53.068Z"
   },
   {
    "duration": 8296,
    "start_time": "2021-09-17T20:24:03.425Z"
   },
   {
    "duration": 18,
    "start_time": "2021-09-17T20:24:43.714Z"
   },
   {
    "duration": 18,
    "start_time": "2021-09-17T20:24:47.412Z"
   },
   {
    "duration": 38,
    "start_time": "2021-09-17T20:25:16.929Z"
   },
   {
    "duration": 7483,
    "start_time": "2021-09-17T20:26:13.301Z"
   },
   {
    "duration": 54,
    "start_time": "2021-09-17T20:26:41.807Z"
   },
   {
    "duration": 7474,
    "start_time": "2021-09-17T20:26:56.119Z"
   },
   {
    "duration": 14,
    "start_time": "2021-09-17T20:27:22.085Z"
   },
   {
    "duration": 14,
    "start_time": "2021-09-17T20:27:37.807Z"
   },
   {
    "duration": 18,
    "start_time": "2021-09-17T20:27:46.317Z"
   },
   {
    "duration": 14,
    "start_time": "2021-09-17T20:28:46.261Z"
   },
   {
    "duration": 475,
    "start_time": "2021-09-17T20:29:48.074Z"
   },
   {
    "duration": 10,
    "start_time": "2021-09-17T20:30:41.620Z"
   },
   {
    "duration": 230,
    "start_time": "2021-09-17T20:31:55.834Z"
   },
   {
    "duration": 12,
    "start_time": "2021-09-17T20:32:11.219Z"
   },
   {
    "duration": 261,
    "start_time": "2021-09-17T20:32:59.271Z"
   },
   {
    "duration": 238,
    "start_time": "2021-09-17T20:33:22.478Z"
   },
   {
    "duration": 322,
    "start_time": "2021-09-17T20:33:27.165Z"
   },
   {
    "duration": 264,
    "start_time": "2021-09-17T20:33:37.031Z"
   },
   {
    "duration": 13,
    "start_time": "2021-09-17T20:33:48.865Z"
   },
   {
    "duration": 15,
    "start_time": "2021-09-17T20:35:44.775Z"
   },
   {
    "duration": 13,
    "start_time": "2021-09-17T20:36:15.868Z"
   },
   {
    "duration": 11,
    "start_time": "2021-09-17T20:36:32.593Z"
   },
   {
    "duration": 12,
    "start_time": "2021-09-17T20:36:49.457Z"
   },
   {
    "duration": 296,
    "start_time": "2021-09-17T20:38:14.260Z"
   },
   {
    "duration": 13,
    "start_time": "2021-09-17T20:38:25.181Z"
   },
   {
    "duration": 16,
    "start_time": "2021-09-17T20:38:34.797Z"
   },
   {
    "duration": 16,
    "start_time": "2021-09-17T20:38:46.467Z"
   },
   {
    "duration": 19,
    "start_time": "2021-09-17T20:44:22.640Z"
   },
   {
    "duration": 19,
    "start_time": "2021-09-17T20:44:27.561Z"
   },
   {
    "duration": 41,
    "start_time": "2021-09-17T20:44:37.906Z"
   },
   {
    "duration": 852,
    "start_time": "2021-09-17T20:44:58.398Z"
   },
   {
    "duration": 16,
    "start_time": "2021-09-17T20:44:59.252Z"
   },
   {
    "duration": 5,
    "start_time": "2021-09-17T20:44:59.272Z"
   },
   {
    "duration": 29,
    "start_time": "2021-09-17T20:44:59.280Z"
   },
   {
    "duration": 19,
    "start_time": "2021-09-17T20:44:59.311Z"
   },
   {
    "duration": 7,
    "start_time": "2021-09-17T20:44:59.333Z"
   },
   {
    "duration": 40,
    "start_time": "2021-09-17T20:44:59.343Z"
   },
   {
    "duration": 46,
    "start_time": "2021-09-17T20:44:59.386Z"
   },
   {
    "duration": 4582,
    "start_time": "2021-09-17T20:44:59.435Z"
   },
   {
    "duration": 14,
    "start_time": "2021-09-17T20:45:04.019Z"
   },
   {
    "duration": 63,
    "start_time": "2021-09-17T20:45:04.036Z"
   },
   {
    "duration": 10,
    "start_time": "2021-09-17T20:45:04.101Z"
   },
   {
    "duration": 21,
    "start_time": "2021-09-17T20:45:04.114Z"
   },
   {
    "duration": 40,
    "start_time": "2021-09-17T20:45:04.137Z"
   },
   {
    "duration": 9,
    "start_time": "2021-09-17T20:45:04.179Z"
   },
   {
    "duration": 12,
    "start_time": "2021-09-17T20:45:04.191Z"
   },
   {
    "duration": 14,
    "start_time": "2021-09-17T20:46:19.249Z"
   },
   {
    "duration": 13,
    "start_time": "2021-09-17T20:46:31.557Z"
   },
   {
    "duration": 12,
    "start_time": "2021-09-17T20:46:40.730Z"
   },
   {
    "duration": 363,
    "start_time": "2021-09-17T20:46:56.618Z"
   },
   {
    "duration": 16,
    "start_time": "2021-09-17T20:47:07.666Z"
   },
   {
    "duration": 17,
    "start_time": "2021-09-17T20:48:49.023Z"
   },
   {
    "duration": 17,
    "start_time": "2021-09-17T20:48:52.200Z"
   },
   {
    "duration": 14,
    "start_time": "2021-09-17T20:49:06.389Z"
   },
   {
    "duration": 25,
    "start_time": "2021-09-17T20:49:52.374Z"
   },
   {
    "duration": 23,
    "start_time": "2021-09-17T20:50:15.400Z"
   },
   {
    "duration": 23,
    "start_time": "2021-09-17T20:50:25.300Z"
   },
   {
    "duration": 28,
    "start_time": "2021-09-17T20:50:32.884Z"
   },
   {
    "duration": 15,
    "start_time": "2021-09-17T20:50:40.990Z"
   },
   {
    "duration": 13,
    "start_time": "2021-09-17T20:51:49.052Z"
   },
   {
    "duration": 21,
    "start_time": "2021-09-17T20:59:53.187Z"
   },
   {
    "duration": 852,
    "start_time": "2021-09-17T21:00:06.769Z"
   },
   {
    "duration": 16,
    "start_time": "2021-09-17T21:00:07.623Z"
   },
   {
    "duration": 26,
    "start_time": "2021-09-17T21:00:07.641Z"
   },
   {
    "duration": 22,
    "start_time": "2021-09-17T21:00:07.670Z"
   },
   {
    "duration": 34,
    "start_time": "2021-09-17T21:00:07.694Z"
   },
   {
    "duration": 14,
    "start_time": "2021-09-17T21:00:07.730Z"
   },
   {
    "duration": 28,
    "start_time": "2021-09-17T21:00:07.747Z"
   },
   {
    "duration": 51,
    "start_time": "2021-09-17T21:00:07.780Z"
   },
   {
    "duration": 4621,
    "start_time": "2021-09-17T21:00:07.834Z"
   },
   {
    "duration": 17,
    "start_time": "2021-09-17T21:00:12.466Z"
   },
   {
    "duration": 76,
    "start_time": "2021-09-17T21:00:12.485Z"
   },
   {
    "duration": 9,
    "start_time": "2021-09-17T21:00:12.564Z"
   },
   {
    "duration": 45,
    "start_time": "2021-09-17T21:00:12.576Z"
   },
   {
    "duration": 112,
    "start_time": "2021-09-17T21:00:12.623Z"
   },
   {
    "duration": -2615,
    "start_time": "2021-09-17T21:00:15.352Z"
   },
   {
    "duration": -2640,
    "start_time": "2021-09-17T21:00:15.379Z"
   },
   {
    "duration": 57,
    "start_time": "2021-09-17T21:01:28.487Z"
   },
   {
    "duration": 4435,
    "start_time": "2021-09-17T21:07:11.453Z"
   },
   {
    "duration": 336,
    "start_time": "2021-09-17T21:08:10.947Z"
   },
   {
    "duration": 40,
    "start_time": "2021-09-17T21:08:38.190Z"
   },
   {
    "duration": 246,
    "start_time": "2021-09-17T21:09:04.052Z"
   },
   {
    "duration": 43,
    "start_time": "2021-09-17T21:09:09.898Z"
   },
   {
    "duration": 40,
    "start_time": "2021-09-17T21:09:20.777Z"
   },
   {
    "duration": 10,
    "start_time": "2021-09-17T21:11:02.243Z"
   },
   {
    "duration": 10,
    "start_time": "2021-09-17T21:11:18.673Z"
   },
   {
    "duration": 14,
    "start_time": "2021-09-17T21:11:26.978Z"
   },
   {
    "duration": 16,
    "start_time": "2021-09-17T21:11:40.845Z"
   },
   {
    "duration": 14,
    "start_time": "2021-09-17T21:12:00.834Z"
   },
   {
    "duration": 11,
    "start_time": "2021-09-17T21:13:07.344Z"
   },
   {
    "duration": 933,
    "start_time": "2021-09-17T21:13:24.731Z"
   },
   {
    "duration": 18,
    "start_time": "2021-09-17T21:13:25.668Z"
   },
   {
    "duration": 4,
    "start_time": "2021-09-17T21:13:25.689Z"
   },
   {
    "duration": 20,
    "start_time": "2021-09-17T21:13:25.695Z"
   },
   {
    "duration": 13,
    "start_time": "2021-09-17T21:13:25.717Z"
   },
   {
    "duration": 43,
    "start_time": "2021-09-17T21:13:25.732Z"
   },
   {
    "duration": 6,
    "start_time": "2021-09-17T21:13:25.777Z"
   },
   {
    "duration": 19,
    "start_time": "2021-09-17T21:13:25.786Z"
   },
   {
    "duration": 75,
    "start_time": "2021-09-17T21:13:25.808Z"
   },
   {
    "duration": 4840,
    "start_time": "2021-09-17T21:13:25.885Z"
   },
   {
    "duration": 15,
    "start_time": "2021-09-17T21:13:30.729Z"
   },
   {
    "duration": 64,
    "start_time": "2021-09-17T21:13:30.746Z"
   },
   {
    "duration": 11,
    "start_time": "2021-09-17T21:13:30.812Z"
   },
   {
    "duration": 43,
    "start_time": "2021-09-17T21:13:30.825Z"
   },
   {
    "duration": 121,
    "start_time": "2021-09-17T21:13:30.872Z"
   },
   {
    "duration": -2378,
    "start_time": "2021-09-17T21:13:33.374Z"
   },
   {
    "duration": -2386,
    "start_time": "2021-09-17T21:13:33.383Z"
   },
   {
    "duration": 90,
    "start_time": "2021-09-17T21:15:35.032Z"
   },
   {
    "duration": 14,
    "start_time": "2021-09-17T21:15:40.794Z"
   },
   {
    "duration": 14,
    "start_time": "2021-09-17T21:15:48.413Z"
   },
   {
    "duration": 16,
    "start_time": "2021-09-17T21:16:01.279Z"
   },
   {
    "duration": 18,
    "start_time": "2021-09-17T21:16:22.582Z"
   },
   {
    "duration": 15,
    "start_time": "2021-09-17T21:16:48.921Z"
   },
   {
    "duration": 11,
    "start_time": "2021-09-17T21:17:11.332Z"
   },
   {
    "duration": 12,
    "start_time": "2021-09-17T21:17:35.192Z"
   },
   {
    "duration": 17,
    "start_time": "2021-09-17T21:17:59.265Z"
   },
   {
    "duration": 19,
    "start_time": "2021-09-17T21:18:40.792Z"
   },
   {
    "duration": 19,
    "start_time": "2021-09-17T21:18:51.599Z"
   },
   {
    "duration": 20,
    "start_time": "2021-09-17T21:19:21.915Z"
   },
   {
    "duration": 346,
    "start_time": "2021-09-17T21:20:02.501Z"
   },
   {
    "duration": 15,
    "start_time": "2021-09-17T21:20:13.005Z"
   },
   {
    "duration": 18,
    "start_time": "2021-09-17T21:20:17.563Z"
   },
   {
    "duration": 14,
    "start_time": "2021-09-17T21:27:43.669Z"
   },
   {
    "duration": 18,
    "start_time": "2021-09-17T21:27:53.838Z"
   },
   {
    "duration": 17,
    "start_time": "2021-09-17T21:27:59.030Z"
   },
   {
    "duration": 271,
    "start_time": "2021-09-17T21:29:11.296Z"
   },
   {
    "duration": 277,
    "start_time": "2021-09-17T21:29:58.719Z"
   },
   {
    "duration": 13,
    "start_time": "2021-09-17T21:32:48.163Z"
   },
   {
    "duration": 19,
    "start_time": "2021-09-17T21:33:02.025Z"
   },
   {
    "duration": 5,
    "start_time": "2021-09-17T21:48:22.182Z"
   },
   {
    "duration": 424,
    "start_time": "2021-09-17T21:50:04.817Z"
   },
   {
    "duration": 437,
    "start_time": "2021-09-17T21:50:08.698Z"
   },
   {
    "duration": 418,
    "start_time": "2021-09-17T21:55:57.810Z"
   },
   {
    "duration": 468,
    "start_time": "2021-09-17T21:56:12.632Z"
   },
   {
    "duration": 461,
    "start_time": "2021-09-17T21:56:22.194Z"
   },
   {
    "duration": 5,
    "start_time": "2021-09-17T21:56:29.538Z"
   },
   {
    "duration": 5,
    "start_time": "2021-09-17T21:57:14.591Z"
   },
   {
    "duration": 5,
    "start_time": "2021-09-17T21:57:24.175Z"
   },
   {
    "duration": 433,
    "start_time": "2021-09-17T21:57:30.740Z"
   },
   {
    "duration": 360,
    "start_time": "2021-09-18T10:58:35.948Z"
   },
   {
    "duration": 371,
    "start_time": "2021-09-18T10:59:15.126Z"
   },
   {
    "duration": 851,
    "start_time": "2021-09-18T10:59:23.935Z"
   },
   {
    "duration": 15,
    "start_time": "2021-09-18T10:59:24.789Z"
   },
   {
    "duration": 5,
    "start_time": "2021-09-18T10:59:24.807Z"
   },
   {
    "duration": 20,
    "start_time": "2021-09-18T10:59:24.815Z"
   },
   {
    "duration": 56,
    "start_time": "2021-09-18T10:59:24.837Z"
   },
   {
    "duration": 20,
    "start_time": "2021-09-18T10:59:24.896Z"
   },
   {
    "duration": 5,
    "start_time": "2021-09-18T10:59:24.919Z"
   },
   {
    "duration": 47,
    "start_time": "2021-09-18T10:59:24.927Z"
   },
   {
    "duration": 17,
    "start_time": "2021-09-18T10:59:24.976Z"
   },
   {
    "duration": 1383,
    "start_time": "2021-09-18T10:59:24.995Z"
   },
   {
    "duration": -248,
    "start_time": "2021-09-18T10:59:26.629Z"
   },
   {
    "duration": -252,
    "start_time": "2021-09-18T10:59:26.635Z"
   },
   {
    "duration": -264,
    "start_time": "2021-09-18T10:59:26.648Z"
   },
   {
    "duration": -268,
    "start_time": "2021-09-18T10:59:26.653Z"
   },
   {
    "duration": -278,
    "start_time": "2021-09-18T10:59:26.665Z"
   },
   {
    "duration": -347,
    "start_time": "2021-09-18T10:59:26.735Z"
   },
   {
    "duration": -377,
    "start_time": "2021-09-18T10:59:26.767Z"
   },
   {
    "duration": -411,
    "start_time": "2021-09-18T10:59:26.802Z"
   },
   {
    "duration": 885,
    "start_time": "2021-09-18T11:00:06.131Z"
   },
   {
    "duration": 15,
    "start_time": "2021-09-18T11:00:07.019Z"
   },
   {
    "duration": 5,
    "start_time": "2021-09-18T11:00:07.038Z"
   },
   {
    "duration": 17,
    "start_time": "2021-09-18T11:00:07.062Z"
   },
   {
    "duration": 27,
    "start_time": "2021-09-18T11:00:07.081Z"
   },
   {
    "duration": 6,
    "start_time": "2021-09-18T11:00:07.110Z"
   },
   {
    "duration": 47,
    "start_time": "2021-09-18T11:00:07.119Z"
   },
   {
    "duration": 46,
    "start_time": "2021-09-18T11:00:07.170Z"
   },
   {
    "duration": 4703,
    "start_time": "2021-09-18T11:00:07.219Z"
   },
   {
    "duration": 48,
    "start_time": "2021-09-18T11:00:11.925Z"
   },
   {
    "duration": 567,
    "start_time": "2021-09-18T11:00:11.977Z"
   },
   {
    "duration": -249,
    "start_time": "2021-09-18T11:00:12.795Z"
   },
   {
    "duration": -253,
    "start_time": "2021-09-18T11:00:12.801Z"
   },
   {
    "duration": -258,
    "start_time": "2021-09-18T11:00:12.808Z"
   },
   {
    "duration": -262,
    "start_time": "2021-09-18T11:00:12.813Z"
   },
   {
    "duration": -265,
    "start_time": "2021-09-18T11:00:12.818Z"
   },
   {
    "duration": -271,
    "start_time": "2021-09-18T11:00:12.825Z"
   },
   {
    "duration": 36,
    "start_time": "2021-09-18T11:02:47.557Z"
   },
   {
    "duration": 449,
    "start_time": "2021-09-18T11:03:09.515Z"
   },
   {
    "duration": 6658,
    "start_time": "2021-09-18T11:03:25.671Z"
   },
   {
    "duration": 16,
    "start_time": "2021-09-18T11:03:36.988Z"
   },
   {
    "duration": 16,
    "start_time": "2021-09-18T11:03:40.610Z"
   },
   {
    "duration": 42,
    "start_time": "2021-09-18T11:03:44.245Z"
   },
   {
    "duration": 1277,
    "start_time": "2021-09-18T11:04:18.886Z"
   },
   {
    "duration": 1019,
    "start_time": "2021-09-18T11:04:41.957Z"
   },
   {
    "duration": -254,
    "start_time": "2021-09-18T11:04:43.233Z"
   },
   {
    "duration": 11,
    "start_time": "2021-09-18T11:04:55.372Z"
   },
   {
    "duration": 30,
    "start_time": "2021-09-18T11:04:56.345Z"
   },
   {
    "duration": 1400,
    "start_time": "2021-09-18T11:05:24.448Z"
   },
   {
    "duration": 92,
    "start_time": "2021-09-18T11:07:53.059Z"
   },
   {
    "duration": 105,
    "start_time": "2021-09-18T11:08:00.693Z"
   },
   {
    "duration": 1644,
    "start_time": "2021-09-18T11:08:17.137Z"
   },
   {
    "duration": 1733,
    "start_time": "2021-09-18T11:08:36.045Z"
   },
   {
    "duration": 17,
    "start_time": "2021-09-18T11:08:50.110Z"
   },
   {
    "duration": 1040,
    "start_time": "2021-09-18T11:09:03.555Z"
   },
   {
    "duration": 994,
    "start_time": "2021-09-18T11:09:18.411Z"
   },
   {
    "duration": 16,
    "start_time": "2021-09-18T11:09:30.416Z"
   },
   {
    "duration": 420,
    "start_time": "2021-09-18T11:12:27.641Z"
   },
   {
    "duration": 1158,
    "start_time": "2021-09-18T11:12:46.158Z"
   },
   {
    "duration": 8,
    "start_time": "2021-09-18T11:12:52.735Z"
   },
   {
    "duration": 8,
    "start_time": "2021-09-18T11:13:10.264Z"
   },
   {
    "duration": 5074,
    "start_time": "2021-09-18T11:13:16.064Z"
   },
   {
    "duration": 1201,
    "start_time": "2021-09-18T11:13:31.578Z"
   },
   {
    "duration": 2012,
    "start_time": "2021-09-18T11:13:59.635Z"
   },
   {
    "duration": 2372,
    "start_time": "2021-09-18T11:14:09.770Z"
   },
   {
    "duration": 8,
    "start_time": "2021-09-18T11:14:17.446Z"
   },
   {
    "duration": 6,
    "start_time": "2021-09-18T11:14:32.087Z"
   },
   {
    "duration": 987,
    "start_time": "2021-09-18T11:15:15.644Z"
   },
   {
    "duration": 433,
    "start_time": "2021-09-18T11:16:32.436Z"
   },
   {
    "duration": 483,
    "start_time": "2021-09-18T11:16:40.683Z"
   },
   {
    "duration": 1651,
    "start_time": "2021-09-18T11:17:03.084Z"
   },
   {
    "duration": 11,
    "start_time": "2021-09-18T11:17:11.972Z"
   },
   {
    "duration": 3106,
    "start_time": "2021-09-18T11:17:14.825Z"
   },
   {
    "duration": -273,
    "start_time": "2021-09-18T11:17:18.207Z"
   },
   {
    "duration": 6,
    "start_time": "2021-09-18T11:17:32.839Z"
   },
   {
    "duration": 18,
    "start_time": "2021-09-18T11:17:34.133Z"
   },
   {
    "duration": 2111,
    "start_time": "2021-09-18T11:17:36.747Z"
   },
   {
    "duration": 772,
    "start_time": "2021-09-18T11:17:55.901Z"
   },
   {
    "duration": 15,
    "start_time": "2021-09-18T11:17:56.676Z"
   },
   {
    "duration": 4,
    "start_time": "2021-09-18T11:17:56.698Z"
   },
   {
    "duration": 32,
    "start_time": "2021-09-18T11:17:56.704Z"
   },
   {
    "duration": 33,
    "start_time": "2021-09-18T11:17:56.738Z"
   },
   {
    "duration": 6,
    "start_time": "2021-09-18T11:17:56.773Z"
   },
   {
    "duration": 21,
    "start_time": "2021-09-18T11:17:56.782Z"
   },
   {
    "duration": 71,
    "start_time": "2021-09-18T11:17:56.806Z"
   },
   {
    "duration": 4505,
    "start_time": "2021-09-18T11:17:56.879Z"
   },
   {
    "duration": 8,
    "start_time": "2021-09-18T11:18:01.387Z"
   },
   {
    "duration": 40,
    "start_time": "2021-09-18T11:18:01.397Z"
   },
   {
    "duration": 22,
    "start_time": "2021-09-18T11:18:01.440Z"
   },
   {
    "duration": 24,
    "start_time": "2021-09-18T11:18:01.464Z"
   },
   {
    "duration": 32,
    "start_time": "2021-09-18T11:18:01.490Z"
   },
   {
    "duration": 49,
    "start_time": "2021-09-18T11:18:01.525Z"
   },
   {
    "duration": 32,
    "start_time": "2021-09-18T11:18:01.577Z"
   },
   {
    "duration": 4499,
    "start_time": "2021-09-18T11:18:08.416Z"
   },
   {
    "duration": 4603,
    "start_time": "2021-09-18T11:18:18.594Z"
   },
   {
    "duration": 4727,
    "start_time": "2021-09-18T11:18:42.924Z"
   },
   {
    "duration": 4618,
    "start_time": "2021-09-18T11:18:59.013Z"
   },
   {
    "duration": 4621,
    "start_time": "2021-09-18T11:19:23.881Z"
   },
   {
    "duration": 26,
    "start_time": "2021-09-18T11:19:33.415Z"
   },
   {
    "duration": 829,
    "start_time": "2021-09-18T11:19:43.593Z"
   },
   {
    "duration": 16,
    "start_time": "2021-09-18T11:19:44.425Z"
   },
   {
    "duration": 17,
    "start_time": "2021-09-18T11:19:44.448Z"
   },
   {
    "duration": 21,
    "start_time": "2021-09-18T11:19:44.468Z"
   },
   {
    "duration": 24,
    "start_time": "2021-09-18T11:19:44.492Z"
   },
   {
    "duration": 6,
    "start_time": "2021-09-18T11:19:44.518Z"
   },
   {
    "duration": 45,
    "start_time": "2021-09-18T11:19:44.529Z"
   },
   {
    "duration": 48,
    "start_time": "2021-09-18T11:19:44.577Z"
   },
   {
    "duration": 4590,
    "start_time": "2021-09-18T11:19:44.628Z"
   },
   {
    "duration": 22,
    "start_time": "2021-09-18T11:19:49.220Z"
   },
   {
    "duration": 7605,
    "start_time": "2021-09-18T11:19:49.261Z"
   },
   {
    "duration": -262,
    "start_time": "2021-09-18T11:19:57.131Z"
   },
   {
    "duration": -265,
    "start_time": "2021-09-18T11:19:57.136Z"
   },
   {
    "duration": -269,
    "start_time": "2021-09-18T11:19:57.141Z"
   },
   {
    "duration": -272,
    "start_time": "2021-09-18T11:19:57.146Z"
   },
   {
    "duration": -279,
    "start_time": "2021-09-18T11:19:57.155Z"
   },
   {
    "duration": -283,
    "start_time": "2021-09-18T11:19:57.160Z"
   },
   {
    "duration": 9,
    "start_time": "2021-09-18T11:20:01.146Z"
   },
   {
    "duration": 1300,
    "start_time": "2021-09-18T11:20:18.356Z"
   },
   {
    "duration": 972,
    "start_time": "2021-09-18T11:20:31.360Z"
   },
   {
    "duration": 1386,
    "start_time": "2021-09-18T11:22:01.394Z"
   },
   {
    "duration": 2052,
    "start_time": "2021-09-18T11:52:23.165Z"
   },
   {
    "duration": 2160,
    "start_time": "2021-09-18T11:52:52.616Z"
   },
   {
    "duration": 33,
    "start_time": "2021-09-18T11:53:16.953Z"
   },
   {
    "duration": 1293,
    "start_time": "2021-09-18T11:53:50.526Z"
   },
   {
    "duration": 1182,
    "start_time": "2021-09-18T11:54:11.048Z"
   },
   {
    "duration": 1241,
    "start_time": "2021-09-18T11:54:20.522Z"
   },
   {
    "duration": 1287,
    "start_time": "2021-09-18T11:54:29.272Z"
   },
   {
    "duration": 3791,
    "start_time": "2021-09-18T11:54:49.693Z"
   },
   {
    "duration": 1311,
    "start_time": "2021-09-18T11:55:13.873Z"
   },
   {
    "duration": 15,
    "start_time": "2021-09-18T11:58:43.742Z"
   },
   {
    "duration": 4654,
    "start_time": "2021-09-18T11:59:17.037Z"
   },
   {
    "duration": 18,
    "start_time": "2021-09-18T11:59:21.694Z"
   },
   {
    "duration": 1022,
    "start_time": "2021-09-18T11:59:21.716Z"
   },
   {
    "duration": 1306,
    "start_time": "2021-09-18T11:59:29.972Z"
   },
   {
    "duration": 16,
    "start_time": "2021-09-18T12:02:36.325Z"
   },
   {
    "duration": 41,
    "start_time": "2021-09-18T12:02:42.119Z"
   },
   {
    "duration": 4689,
    "start_time": "2021-09-18T12:03:07.220Z"
   },
   {
    "duration": 17,
    "start_time": "2021-09-18T12:03:11.913Z"
   },
   {
    "duration": 67,
    "start_time": "2021-09-18T12:03:11.933Z"
   },
   {
    "duration": 91,
    "start_time": "2021-09-18T12:06:51.782Z"
   },
   {
    "duration": 422,
    "start_time": "2021-09-18T12:06:58.129Z"
   },
   {
    "duration": 973,
    "start_time": "2021-09-18T12:07:10.150Z"
   },
   {
    "duration": 44,
    "start_time": "2021-09-18T12:07:33.257Z"
   },
   {
    "duration": 47,
    "start_time": "2021-09-18T12:07:43.265Z"
   },
   {
    "duration": 1045,
    "start_time": "2021-09-18T12:07:53.450Z"
   },
   {
    "duration": 49,
    "start_time": "2021-09-18T12:07:59.081Z"
   },
   {
    "duration": 50,
    "start_time": "2021-09-18T12:08:38.871Z"
   },
   {
    "duration": 4819,
    "start_time": "2021-09-18T12:10:13.829Z"
   },
   {
    "duration": 394,
    "start_time": "2021-09-18T12:10:47.215Z"
   },
   {
    "duration": 5213,
    "start_time": "2021-09-18T12:12:22.591Z"
   },
   {
    "duration": 65,
    "start_time": "2021-09-18T12:12:28.640Z"
   },
   {
    "duration": 464,
    "start_time": "2021-09-18T12:12:31.762Z"
   },
   {
    "duration": 47,
    "start_time": "2021-09-18T12:12:42.696Z"
   },
   {
    "duration": 37,
    "start_time": "2021-09-18T12:13:11.727Z"
   },
   {
    "duration": 361,
    "start_time": "2021-09-18T12:13:41.019Z"
   },
   {
    "duration": 3,
    "start_time": "2021-09-18T12:14:56.336Z"
   },
   {
    "duration": 4,
    "start_time": "2021-09-18T12:15:19.129Z"
   },
   {
    "duration": 6,
    "start_time": "2021-09-18T12:15:28.702Z"
   },
   {
    "duration": 248,
    "start_time": "2021-09-18T12:15:40.202Z"
   },
   {
    "duration": 268,
    "start_time": "2021-09-18T12:15:51.942Z"
   },
   {
    "duration": 16,
    "start_time": "2021-09-18T12:15:58.807Z"
   },
   {
    "duration": 17,
    "start_time": "2021-09-18T12:16:01.589Z"
   },
   {
    "duration": 95,
    "start_time": "2021-09-18T12:17:27.483Z"
   },
   {
    "duration": 30,
    "start_time": "2021-09-18T12:17:37.529Z"
   },
   {
    "duration": 819,
    "start_time": "2021-09-18T12:17:45.784Z"
   },
   {
    "duration": 15,
    "start_time": "2021-09-18T12:17:46.605Z"
   },
   {
    "duration": 4,
    "start_time": "2021-09-18T12:17:46.624Z"
   },
   {
    "duration": 41,
    "start_time": "2021-09-18T12:17:46.631Z"
   },
   {
    "duration": 25,
    "start_time": "2021-09-18T12:17:46.674Z"
   },
   {
    "duration": 22,
    "start_time": "2021-09-18T12:17:46.701Z"
   },
   {
    "duration": 5,
    "start_time": "2021-09-18T12:17:46.726Z"
   },
   {
    "duration": 42,
    "start_time": "2021-09-18T12:17:46.735Z"
   },
   {
    "duration": 60,
    "start_time": "2021-09-18T12:17:46.780Z"
   },
   {
    "duration": 4602,
    "start_time": "2021-09-18T12:17:46.862Z"
   },
   {
    "duration": 6,
    "start_time": "2021-09-18T12:17:51.467Z"
   },
   {
    "duration": 54,
    "start_time": "2021-09-18T12:17:51.475Z"
   },
   {
    "duration": 54,
    "start_time": "2021-09-18T12:17:51.531Z"
   },
   {
    "duration": 10,
    "start_time": "2021-09-18T12:17:51.587Z"
   },
   {
    "duration": 26,
    "start_time": "2021-09-18T12:17:51.599Z"
   },
   {
    "duration": 40,
    "start_time": "2021-09-18T12:17:51.627Z"
   },
   {
    "duration": 18,
    "start_time": "2021-09-18T12:17:51.670Z"
   },
   {
    "duration": 19,
    "start_time": "2021-09-18T12:17:51.691Z"
   },
   {
    "duration": 52,
    "start_time": "2021-09-18T12:18:09.750Z"
   },
   {
    "duration": 866,
    "start_time": "2021-09-18T12:18:16.827Z"
   },
   {
    "duration": 16,
    "start_time": "2021-09-18T12:18:17.696Z"
   },
   {
    "duration": 5,
    "start_time": "2021-09-18T12:18:17.715Z"
   },
   {
    "duration": 21,
    "start_time": "2021-09-18T12:18:17.723Z"
   },
   {
    "duration": 35,
    "start_time": "2021-09-18T12:18:17.746Z"
   },
   {
    "duration": 31,
    "start_time": "2021-09-18T12:18:17.783Z"
   },
   {
    "duration": 6,
    "start_time": "2021-09-18T12:18:17.816Z"
   },
   {
    "duration": 18,
    "start_time": "2021-09-18T12:18:17.825Z"
   },
   {
    "duration": 17,
    "start_time": "2021-09-18T12:18:17.845Z"
   },
   {
    "duration": 1487,
    "start_time": "2021-09-18T12:18:17.865Z"
   },
   {
    "duration": 38,
    "start_time": "2021-09-18T12:18:19.317Z"
   },
   {
    "duration": 32,
    "start_time": "2021-09-18T12:18:19.324Z"
   },
   {
    "duration": 29,
    "start_time": "2021-09-18T12:18:19.329Z"
   },
   {
    "duration": 25,
    "start_time": "2021-09-18T12:18:19.334Z"
   },
   {
    "duration": 22,
    "start_time": "2021-09-18T12:18:19.339Z"
   },
   {
    "duration": 18,
    "start_time": "2021-09-18T12:18:19.344Z"
   },
   {
    "duration": 16,
    "start_time": "2021-09-18T12:18:19.348Z"
   },
   {
    "duration": 12,
    "start_time": "2021-09-18T12:18:19.353Z"
   },
   {
    "duration": 284,
    "start_time": "2021-09-18T12:18:25.664Z"
   },
   {
    "duration": 11,
    "start_time": "2021-09-18T12:18:31.982Z"
   },
   {
    "duration": 9,
    "start_time": "2021-09-18T12:18:34.540Z"
   },
   {
    "duration": 11,
    "start_time": "2021-09-18T12:18:37.760Z"
   },
   {
    "duration": 10,
    "start_time": "2021-09-18T12:18:51.011Z"
   },
   {
    "duration": 11,
    "start_time": "2021-09-18T12:18:52.483Z"
   },
   {
    "duration": 11,
    "start_time": "2021-09-18T12:18:57.896Z"
   },
   {
    "duration": 807,
    "start_time": "2021-09-18T12:19:05.475Z"
   },
   {
    "duration": 15,
    "start_time": "2021-09-18T12:19:06.284Z"
   },
   {
    "duration": 4,
    "start_time": "2021-09-18T12:19:06.302Z"
   },
   {
    "duration": 16,
    "start_time": "2021-09-18T12:19:06.309Z"
   },
   {
    "duration": 56,
    "start_time": "2021-09-18T12:19:06.328Z"
   },
   {
    "duration": 24,
    "start_time": "2021-09-18T12:19:06.386Z"
   },
   {
    "duration": 6,
    "start_time": "2021-09-18T12:19:06.413Z"
   },
   {
    "duration": 40,
    "start_time": "2021-09-18T12:19:06.422Z"
   },
   {
    "duration": 17,
    "start_time": "2021-09-18T12:19:06.465Z"
   },
   {
    "duration": 1237,
    "start_time": "2021-09-18T12:19:06.485Z"
   },
   {
    "duration": 36,
    "start_time": "2021-09-18T12:19:07.689Z"
   },
   {
    "duration": 32,
    "start_time": "2021-09-18T12:19:07.695Z"
   },
   {
    "duration": 29,
    "start_time": "2021-09-18T12:19:07.700Z"
   },
   {
    "duration": 27,
    "start_time": "2021-09-18T12:19:07.705Z"
   },
   {
    "duration": 24,
    "start_time": "2021-09-18T12:19:07.710Z"
   },
   {
    "duration": 21,
    "start_time": "2021-09-18T12:19:07.715Z"
   },
   {
    "duration": 18,
    "start_time": "2021-09-18T12:19:07.720Z"
   },
   {
    "duration": 13,
    "start_time": "2021-09-18T12:19:24.303Z"
   },
   {
    "duration": 848,
    "start_time": "2021-09-18T12:19:31.557Z"
   },
   {
    "duration": 15,
    "start_time": "2021-09-18T12:19:32.408Z"
   },
   {
    "duration": 10,
    "start_time": "2021-09-18T12:19:32.426Z"
   },
   {
    "duration": 31,
    "start_time": "2021-09-18T12:19:32.439Z"
   },
   {
    "duration": 61,
    "start_time": "2021-09-18T12:19:32.473Z"
   },
   {
    "duration": 6,
    "start_time": "2021-09-18T12:19:32.536Z"
   },
   {
    "duration": 20,
    "start_time": "2021-09-18T12:19:32.544Z"
   },
   {
    "duration": 17,
    "start_time": "2021-09-18T12:19:32.568Z"
   },
   {
    "duration": 1277,
    "start_time": "2021-09-18T12:19:32.588Z"
   },
   {
    "duration": -12,
    "start_time": "2021-09-18T12:19:33.880Z"
   },
   {
    "duration": -91,
    "start_time": "2021-09-18T12:19:33.960Z"
   },
   {
    "duration": -115,
    "start_time": "2021-09-18T12:19:33.986Z"
   },
   {
    "duration": -142,
    "start_time": "2021-09-18T12:19:34.014Z"
   },
   {
    "duration": -188,
    "start_time": "2021-09-18T12:19:34.061Z"
   },
   {
    "duration": -220,
    "start_time": "2021-09-18T12:19:34.094Z"
   },
   {
    "duration": -240,
    "start_time": "2021-09-18T12:19:34.116Z"
   },
   {
    "duration": 1502,
    "start_time": "2021-09-18T12:19:50.723Z"
   },
   {
    "duration": 25,
    "start_time": "2021-09-18T12:19:58.583Z"
   },
   {
    "duration": 13,
    "start_time": "2021-09-18T12:20:26.391Z"
   },
   {
    "duration": 844,
    "start_time": "2021-09-18T12:20:33.179Z"
   },
   {
    "duration": 15,
    "start_time": "2021-09-18T12:20:34.026Z"
   },
   {
    "duration": 5,
    "start_time": "2021-09-18T12:20:34.044Z"
   },
   {
    "duration": 16,
    "start_time": "2021-09-18T12:20:34.063Z"
   },
   {
    "duration": 37,
    "start_time": "2021-09-18T12:20:34.082Z"
   },
   {
    "duration": 5,
    "start_time": "2021-09-18T12:20:34.122Z"
   },
   {
    "duration": 34,
    "start_time": "2021-09-18T12:20:34.130Z"
   },
   {
    "duration": 46,
    "start_time": "2021-09-18T12:20:34.167Z"
   },
   {
    "duration": 54,
    "start_time": "2021-09-18T12:20:34.216Z"
   },
   {
    "duration": 5,
    "start_time": "2021-09-18T12:20:34.272Z"
   },
   {
    "duration": 8172,
    "start_time": "2021-09-18T12:20:34.279Z"
   },
   {
    "duration": 20,
    "start_time": "2021-09-18T12:20:42.434Z"
   },
   {
    "duration": -19,
    "start_time": "2021-09-18T12:20:42.474Z"
   },
   {
    "duration": -63,
    "start_time": "2021-09-18T12:20:42.521Z"
   },
   {
    "duration": -85,
    "start_time": "2021-09-18T12:20:42.545Z"
   },
   {
    "duration": -162,
    "start_time": "2021-09-18T12:20:42.623Z"
   },
   {
    "duration": 8,
    "start_time": "2021-09-18T12:21:17.618Z"
   },
   {
    "duration": 320,
    "start_time": "2021-09-18T12:27:13.691Z"
   },
   {
    "duration": 10,
    "start_time": "2021-09-18T12:28:22.525Z"
   },
   {
    "duration": 9,
    "start_time": "2021-09-18T12:28:27.746Z"
   },
   {
    "duration": 7,
    "start_time": "2021-09-18T12:29:04.879Z"
   },
   {
    "duration": 8,
    "start_time": "2021-09-18T12:29:15.866Z"
   },
   {
    "duration": 8,
    "start_time": "2021-09-18T12:29:52.019Z"
   },
   {
    "duration": 8,
    "start_time": "2021-09-18T12:30:27.131Z"
   },
   {
    "duration": 5,
    "start_time": "2021-09-18T12:30:45.526Z"
   },
   {
    "duration": 7,
    "start_time": "2021-09-18T12:30:46.710Z"
   },
   {
    "duration": 30,
    "start_time": "2021-09-18T12:36:06.309Z"
   },
   {
    "duration": 6,
    "start_time": "2021-09-18T12:36:19.080Z"
   },
   {
    "duration": 6862,
    "start_time": "2021-09-18T12:36:22.013Z"
   },
   {
    "duration": 243,
    "start_time": "2021-09-18T12:36:32.865Z"
   },
   {
    "duration": 12,
    "start_time": "2021-09-18T12:36:37.802Z"
   },
   {
    "duration": 12,
    "start_time": "2021-09-18T12:36:41.534Z"
   },
   {
    "duration": 5049,
    "start_time": "2021-09-18T12:37:45.780Z"
   },
   {
    "duration": 3,
    "start_time": "2021-09-18T12:37:50.832Z"
   },
   {
    "duration": 66,
    "start_time": "2021-09-18T12:37:50.838Z"
   },
   {
    "duration": 3,
    "start_time": "2021-09-18T12:37:57.884Z"
   },
   {
    "duration": 4,
    "start_time": "2021-09-18T12:38:21.868Z"
   },
   {
    "duration": 38,
    "start_time": "2021-09-18T12:38:41.566Z"
   },
   {
    "duration": 4,
    "start_time": "2021-09-18T12:38:54.456Z"
   },
   {
    "duration": 6,
    "start_time": "2021-09-18T12:39:04.926Z"
   },
   {
    "duration": 25,
    "start_time": "2021-09-18T12:39:14.531Z"
   },
   {
    "duration": 36,
    "start_time": "2021-09-18T12:41:44.500Z"
   },
   {
    "duration": 35,
    "start_time": "2021-09-18T12:42:30.596Z"
   },
   {
    "duration": 19,
    "start_time": "2021-09-18T12:42:38.633Z"
   },
   {
    "duration": 2594,
    "start_time": "2021-09-18T12:46:57.756Z"
   },
   {
    "duration": 862,
    "start_time": "2021-09-18T12:47:11.240Z"
   },
   {
    "duration": 14,
    "start_time": "2021-09-18T12:47:12.104Z"
   },
   {
    "duration": 5,
    "start_time": "2021-09-18T12:47:12.121Z"
   },
   {
    "duration": 38,
    "start_time": "2021-09-18T12:47:12.129Z"
   },
   {
    "duration": 29,
    "start_time": "2021-09-18T12:47:12.170Z"
   },
   {
    "duration": 6,
    "start_time": "2021-09-18T12:47:12.201Z"
   },
   {
    "duration": 33,
    "start_time": "2021-09-18T12:47:12.209Z"
   },
   {
    "duration": 36,
    "start_time": "2021-09-18T12:47:12.245Z"
   },
   {
    "duration": 10,
    "start_time": "2021-09-18T12:47:12.284Z"
   },
   {
    "duration": 12,
    "start_time": "2021-09-18T12:47:12.297Z"
   },
   {
    "duration": 18,
    "start_time": "2021-09-18T12:47:12.312Z"
   },
   {
    "duration": 43,
    "start_time": "2021-09-18T12:47:12.333Z"
   },
   {
    "duration": 4548,
    "start_time": "2021-09-18T12:47:12.379Z"
   },
   {
    "duration": 50,
    "start_time": "2021-09-18T12:47:16.930Z"
   },
   {
    "duration": 49,
    "start_time": "2021-09-18T12:47:16.982Z"
   },
   {
    "duration": 11,
    "start_time": "2021-09-18T12:47:17.033Z"
   },
   {
    "duration": 22,
    "start_time": "2021-09-18T12:47:17.046Z"
   },
   {
    "duration": 16,
    "start_time": "2021-09-18T12:47:17.070Z"
   },
   {
    "duration": 18,
    "start_time": "2021-09-18T12:47:17.088Z"
   },
   {
    "duration": 20,
    "start_time": "2021-09-18T12:47:17.108Z"
   },
   {
    "duration": 336,
    "start_time": "2021-09-18T12:54:04.054Z"
   },
   {
    "duration": 16,
    "start_time": "2021-09-18T12:54:09.600Z"
   },
   {
    "duration": 15,
    "start_time": "2021-09-18T12:54:41.315Z"
   },
   {
    "duration": 14,
    "start_time": "2021-09-18T12:54:54.779Z"
   },
   {
    "duration": 362,
    "start_time": "2021-09-18T12:55:57.090Z"
   },
   {
    "duration": 21,
    "start_time": "2021-09-18T12:57:20.931Z"
   },
   {
    "duration": 4816,
    "start_time": "2021-09-18T13:10:53.134Z"
   },
   {
    "duration": 1153,
    "start_time": "2021-09-18T13:18:57.630Z"
   },
   {
    "duration": 45,
    "start_time": "2021-09-18T13:21:48.825Z"
   },
   {
    "duration": 40,
    "start_time": "2021-09-18T13:25:21.470Z"
   },
   {
    "duration": 19,
    "start_time": "2021-09-18T13:25:27.733Z"
   },
   {
    "duration": 11,
    "start_time": "2021-09-18T13:27:13.772Z"
   },
   {
    "duration": 10,
    "start_time": "2021-09-18T13:27:19.817Z"
   },
   {
    "duration": 11,
    "start_time": "2021-09-18T13:27:28.109Z"
   },
   {
    "duration": 12,
    "start_time": "2021-09-18T13:27:45.019Z"
   },
   {
    "duration": 310,
    "start_time": "2021-09-18T13:36:06.460Z"
   },
   {
    "duration": 10,
    "start_time": "2021-09-18T13:37:25.877Z"
   },
   {
    "duration": 10,
    "start_time": "2021-09-18T13:37:53.891Z"
   },
   {
    "duration": 395,
    "start_time": "2021-09-18T13:38:07.783Z"
   },
   {
    "duration": 6,
    "start_time": "2021-09-18T13:38:16.640Z"
   },
   {
    "duration": 313,
    "start_time": "2021-09-18T21:16:53.584Z"
   },
   {
    "duration": 259,
    "start_time": "2021-09-18T21:16:59.831Z"
   },
   {
    "duration": 841,
    "start_time": "2021-09-18T21:17:06.985Z"
   },
   {
    "duration": 16,
    "start_time": "2021-09-18T21:17:07.829Z"
   },
   {
    "duration": 13,
    "start_time": "2021-09-18T21:17:07.856Z"
   },
   {
    "duration": 32,
    "start_time": "2021-09-18T21:17:07.872Z"
   },
   {
    "duration": 29,
    "start_time": "2021-09-18T21:17:07.906Z"
   },
   {
    "duration": 7,
    "start_time": "2021-09-18T21:17:07.937Z"
   },
   {
    "duration": 40,
    "start_time": "2021-09-18T21:17:07.946Z"
   },
   {
    "duration": 27,
    "start_time": "2021-09-18T21:17:07.990Z"
   },
   {
    "duration": 10,
    "start_time": "2021-09-18T21:17:08.019Z"
   },
   {
    "duration": 20,
    "start_time": "2021-09-18T21:17:08.031Z"
   },
   {
    "duration": 41,
    "start_time": "2021-09-18T21:17:08.054Z"
   },
   {
    "duration": 32,
    "start_time": "2021-09-18T21:17:08.097Z"
   },
   {
    "duration": 4452,
    "start_time": "2021-09-18T21:17:08.132Z"
   },
   {
    "duration": 42,
    "start_time": "2021-09-18T21:17:12.587Z"
   },
   {
    "duration": 38,
    "start_time": "2021-09-18T21:17:12.632Z"
   },
   {
    "duration": 10,
    "start_time": "2021-09-18T21:17:12.673Z"
   },
   {
    "duration": 12,
    "start_time": "2021-09-18T21:17:12.685Z"
   },
   {
    "duration": 25,
    "start_time": "2021-09-18T21:17:12.699Z"
   },
   {
    "duration": 31,
    "start_time": "2021-09-18T21:17:12.726Z"
   },
   {
    "duration": 11,
    "start_time": "2021-09-18T21:18:33.360Z"
   },
   {
    "duration": 88,
    "start_time": "2021-09-18T21:19:13.202Z"
   },
   {
    "duration": 91,
    "start_time": "2021-09-18T21:19:20.249Z"
   },
   {
    "duration": 370,
    "start_time": "2021-09-18T21:20:04.447Z"
   },
   {
    "duration": 262,
    "start_time": "2021-09-18T21:20:13.298Z"
   },
   {
    "duration": 2023,
    "start_time": "2021-09-18T21:20:20.761Z"
   },
   {
    "duration": 11,
    "start_time": "2021-09-18T21:21:00.682Z"
   },
   {
    "duration": 11,
    "start_time": "2021-09-18T21:21:26.980Z"
   },
   {
    "duration": 262,
    "start_time": "2021-09-18T21:23:14.178Z"
   },
   {
    "duration": 294,
    "start_time": "2021-09-18T21:23:30.616Z"
   },
   {
    "duration": 10,
    "start_time": "2021-09-18T21:24:16.712Z"
   },
   {
    "duration": 10,
    "start_time": "2021-09-18T21:24:26.767Z"
   },
   {
    "duration": 286,
    "start_time": "2021-09-18T21:24:39.411Z"
   },
   {
    "duration": 283,
    "start_time": "2021-09-18T21:24:54.658Z"
   },
   {
    "duration": 10,
    "start_time": "2021-09-18T21:25:05.239Z"
   },
   {
    "duration": 268,
    "start_time": "2021-09-18T21:27:00.789Z"
   },
   {
    "duration": 302,
    "start_time": "2021-09-18T21:27:27.089Z"
   },
   {
    "duration": 304,
    "start_time": "2021-09-18T21:27:39.340Z"
   },
   {
    "duration": 255,
    "start_time": "2021-09-18T21:28:03.828Z"
   },
   {
    "duration": 84,
    "start_time": "2021-09-18T21:28:18.600Z"
   },
   {
    "duration": 262,
    "start_time": "2021-09-18T21:28:26.599Z"
   },
   {
    "duration": 250,
    "start_time": "2021-09-18T21:28:48.974Z"
   },
   {
    "duration": 7,
    "start_time": "2021-09-18T21:29:01.583Z"
   },
   {
    "duration": 15,
    "start_time": "2021-09-18T21:29:30.643Z"
   },
   {
    "duration": 11,
    "start_time": "2021-09-18T21:30:38.646Z"
   },
   {
    "duration": 10,
    "start_time": "2021-09-18T21:30:51.577Z"
   },
   {
    "duration": 12,
    "start_time": "2021-09-18T21:31:35.600Z"
   },
   {
    "duration": 12,
    "start_time": "2021-09-18T21:32:39.939Z"
   },
   {
    "duration": 24,
    "start_time": "2021-09-18T21:33:11.248Z"
   },
   {
    "duration": 18,
    "start_time": "2021-09-18T21:33:18.984Z"
   },
   {
    "duration": 278,
    "start_time": "2021-09-18T21:33:48.424Z"
   },
   {
    "duration": 758,
    "start_time": "2021-09-19T10:00:16.534Z"
   },
   {
    "duration": 65,
    "start_time": "2021-09-19T10:00:57.869Z"
   },
   {
    "duration": 16,
    "start_time": "2021-09-19T10:00:59.397Z"
   },
   {
    "duration": 4,
    "start_time": "2021-09-19T10:01:02.822Z"
   },
   {
    "duration": 17,
    "start_time": "2021-09-19T10:01:03.134Z"
   },
   {
    "duration": 59,
    "start_time": "2021-09-19T10:01:08.629Z"
   },
   {
    "duration": 30,
    "start_time": "2021-09-19T10:01:29.135Z"
   },
   {
    "duration": 22,
    "start_time": "2021-09-19T10:01:37.367Z"
   },
   {
    "duration": 24,
    "start_time": "2021-09-19T10:01:41.590Z"
   },
   {
    "duration": 32,
    "start_time": "2021-09-19T10:01:53.454Z"
   },
   {
    "duration": 23,
    "start_time": "2021-09-19T10:02:44.296Z"
   },
   {
    "duration": 16,
    "start_time": "2021-09-19T10:03:19.567Z"
   },
   {
    "duration": 6,
    "start_time": "2021-09-19T10:03:23.422Z"
   },
   {
    "duration": 16,
    "start_time": "2021-09-19T10:03:24.199Z"
   },
   {
    "duration": 29,
    "start_time": "2021-09-19T10:04:00.403Z"
   },
   {
    "duration": 10,
    "start_time": "2021-09-19T10:04:01.079Z"
   },
   {
    "duration": 6,
    "start_time": "2021-09-19T10:04:01.671Z"
   },
   {
    "duration": 8,
    "start_time": "2021-09-19T10:04:02.294Z"
   },
   {
    "duration": 23,
    "start_time": "2021-09-19T10:04:04.597Z"
   },
   {
    "duration": 4856,
    "start_time": "2021-09-19T10:04:06.495Z"
   },
   {
    "duration": 53,
    "start_time": "2021-09-19T10:04:11.363Z"
   },
   {
    "duration": 419,
    "start_time": "2021-09-19T10:10:53.075Z"
   },
   {
    "duration": 19,
    "start_time": "2021-09-19T10:10:56.115Z"
   },
   {
    "duration": 10,
    "start_time": "2021-09-19T10:10:56.772Z"
   },
   {
    "duration": 266,
    "start_time": "2021-09-19T10:29:32.841Z"
   },
   {
    "duration": 103,
    "start_time": "2021-09-19T10:30:02.538Z"
   },
   {
    "duration": 50,
    "start_time": "2021-09-19T10:30:18.052Z"
   },
   {
    "duration": 331,
    "start_time": "2021-09-19T10:30:28.506Z"
   },
   {
    "duration": 67,
    "start_time": "2021-09-19T10:30:32.059Z"
   },
   {
    "duration": 338,
    "start_time": "2021-09-19T10:32:06.061Z"
   },
   {
    "duration": 288,
    "start_time": "2021-09-19T10:32:13.181Z"
   },
   {
    "duration": 379,
    "start_time": "2021-09-19T10:33:05.170Z"
   },
   {
    "duration": 1175,
    "start_time": "2021-09-19T10:33:12.237Z"
   },
   {
    "duration": 48,
    "start_time": "2021-09-19T10:33:20.484Z"
   },
   {
    "duration": 40,
    "start_time": "2021-09-19T10:34:07.125Z"
   },
   {
    "duration": 241,
    "start_time": "2021-09-19T10:38:27.000Z"
   },
   {
    "duration": 2590,
    "start_time": "2021-09-19T10:39:06.744Z"
   },
   {
    "duration": 47,
    "start_time": "2021-09-19T10:39:27.889Z"
   },
   {
    "duration": 40,
    "start_time": "2021-09-19T10:40:59.593Z"
   },
   {
    "duration": 84,
    "start_time": "2021-09-19T10:41:17.522Z"
   },
   {
    "duration": 39,
    "start_time": "2021-09-19T10:41:24.684Z"
   },
   {
    "duration": 36,
    "start_time": "2021-09-19T11:07:15.994Z"
   },
   {
    "duration": 44,
    "start_time": "2021-09-19T11:07:26.485Z"
   },
   {
    "duration": 12,
    "start_time": "2021-09-19T11:07:35.984Z"
   },
   {
    "duration": 7,
    "start_time": "2021-09-19T11:07:43.944Z"
   },
   {
    "duration": 7,
    "start_time": "2021-09-19T11:08:24.953Z"
   },
   {
    "duration": 6,
    "start_time": "2021-09-19T11:09:33.096Z"
   },
   {
    "duration": 301,
    "start_time": "2021-09-19T11:09:50.785Z"
   },
   {
    "duration": 720,
    "start_time": "2021-09-19T11:09:54.434Z"
   },
   {
    "duration": 280,
    "start_time": "2021-09-19T11:10:05.841Z"
   },
   {
    "duration": 86,
    "start_time": "2021-09-19T11:10:30.673Z"
   },
   {
    "duration": 1226,
    "start_time": "2021-09-19T11:10:34.562Z"
   },
   {
    "duration": 6,
    "start_time": "2021-09-19T11:11:06.659Z"
   },
   {
    "duration": 288,
    "start_time": "2021-09-19T11:11:32.266Z"
   },
   {
    "duration": 8,
    "start_time": "2021-09-19T11:11:41.290Z"
   },
   {
    "duration": 6,
    "start_time": "2021-09-19T11:12:29.106Z"
   },
   {
    "duration": 7,
    "start_time": "2021-09-19T11:12:40.932Z"
   },
   {
    "duration": 854,
    "start_time": "2021-09-19T11:32:46.843Z"
   },
   {
    "duration": 39,
    "start_time": "2021-09-19T11:32:52.935Z"
   },
   {
    "duration": 316,
    "start_time": "2021-09-19T11:37:34.561Z"
   },
   {
    "duration": 34,
    "start_time": "2021-09-19T11:37:41.418Z"
   },
   {
    "duration": 28,
    "start_time": "2021-09-19T12:42:32.703Z"
   },
   {
    "duration": 767,
    "start_time": "2021-09-19T12:42:48.752Z"
   },
   {
    "duration": 65,
    "start_time": "2021-09-19T12:42:49.521Z"
   },
   {
    "duration": 15,
    "start_time": "2021-09-19T12:42:49.589Z"
   },
   {
    "duration": 4,
    "start_time": "2021-09-19T12:42:49.607Z"
   },
   {
    "duration": 61,
    "start_time": "2021-09-19T12:42:49.614Z"
   },
   {
    "duration": 23,
    "start_time": "2021-09-19T12:42:49.678Z"
   },
   {
    "duration": 6,
    "start_time": "2021-09-19T12:42:49.703Z"
   },
   {
    "duration": 16,
    "start_time": "2021-09-19T12:42:49.714Z"
   },
   {
    "duration": 52,
    "start_time": "2021-09-19T12:42:49.733Z"
   },
   {
    "duration": 10,
    "start_time": "2021-09-19T12:42:49.787Z"
   },
   {
    "duration": 32,
    "start_time": "2021-09-19T12:42:49.799Z"
   },
   {
    "duration": 17,
    "start_time": "2021-09-19T12:42:49.835Z"
   },
   {
    "duration": 34,
    "start_time": "2021-09-19T12:42:49.863Z"
   },
   {
    "duration": 4941,
    "start_time": "2021-09-19T12:42:49.900Z"
   },
   {
    "duration": 58,
    "start_time": "2021-09-19T12:42:54.844Z"
   },
   {
    "duration": 11,
    "start_time": "2021-09-19T12:42:54.904Z"
   },
   {
    "duration": 63,
    "start_time": "2021-09-19T12:42:54.917Z"
   },
   {
    "duration": 38,
    "start_time": "2021-09-19T12:42:54.983Z"
   },
   {
    "duration": 73,
    "start_time": "2021-09-19T12:42:55.024Z"
   },
   {
    "duration": 1593,
    "start_time": "2021-09-19T12:43:35.976Z"
   },
   {
    "duration": 21,
    "start_time": "2021-09-19T12:43:41.590Z"
   },
   {
    "duration": 35,
    "start_time": "2021-09-19T12:43:55.976Z"
   },
   {
    "duration": 16,
    "start_time": "2021-09-19T12:44:06.950Z"
   },
   {
    "duration": 7,
    "start_time": "2021-09-19T12:44:08.862Z"
   },
   {
    "duration": 17,
    "start_time": "2021-09-19T12:44:09.423Z"
   },
   {
    "duration": 2586,
    "start_time": "2021-09-19T12:44:12.278Z"
   },
   {
    "duration": -1539,
    "start_time": "2021-09-19T12:44:16.406Z"
   },
   {
    "duration": -1544,
    "start_time": "2021-09-19T12:44:16.412Z"
   },
   {
    "duration": -1551,
    "start_time": "2021-09-19T12:44:16.421Z"
   },
   {
    "duration": 2476,
    "start_time": "2021-09-19T12:44:14.893Z"
   },
   {
    "duration": 8,
    "start_time": "2021-09-19T12:44:18.711Z"
   },
   {
    "duration": 2322,
    "start_time": "2021-09-19T12:44:21.654Z"
   },
   {
    "duration": 4275,
    "start_time": "2021-09-19T12:44:41.767Z"
   },
   {
    "duration": 1139,
    "start_time": "2021-09-19T12:44:58.350Z"
   },
   {
    "duration": 70,
    "start_time": "2021-09-19T12:44:59.492Z"
   },
   {
    "duration": 17,
    "start_time": "2021-09-19T12:44:59.566Z"
   },
   {
    "duration": 5,
    "start_time": "2021-09-19T12:44:59.586Z"
   },
   {
    "duration": 35,
    "start_time": "2021-09-19T12:44:59.593Z"
   },
   {
    "duration": 45,
    "start_time": "2021-09-19T12:44:59.630Z"
   },
   {
    "duration": 6,
    "start_time": "2021-09-19T12:44:59.677Z"
   },
   {
    "duration": 32,
    "start_time": "2021-09-19T12:44:59.688Z"
   },
   {
    "duration": 69,
    "start_time": "2021-09-19T12:44:59.724Z"
   },
   {
    "duration": 13,
    "start_time": "2021-09-19T12:44:59.796Z"
   },
   {
    "duration": 8,
    "start_time": "2021-09-19T12:44:59.812Z"
   },
   {
    "duration": 15,
    "start_time": "2021-09-19T12:44:59.822Z"
   },
   {
    "duration": 49,
    "start_time": "2021-09-19T12:44:59.840Z"
   },
   {
    "duration": 5103,
    "start_time": "2021-09-19T12:44:59.892Z"
   },
   {
    "duration": 86,
    "start_time": "2021-09-19T12:45:04.998Z"
   },
   {
    "duration": 14,
    "start_time": "2021-09-19T12:45:05.087Z"
   },
   {
    "duration": 78,
    "start_time": "2021-09-19T12:45:05.105Z"
   },
   {
    "duration": 76,
    "start_time": "2021-09-19T12:45:05.186Z"
   },
   {
    "duration": 67,
    "start_time": "2021-09-19T12:45:05.265Z"
   },
   {
    "duration": 35,
    "start_time": "2021-09-19T12:45:57.212Z"
   },
   {
    "duration": 39,
    "start_time": "2021-09-19T12:51:33.535Z"
   },
   {
    "duration": 23,
    "start_time": "2021-09-19T12:52:07.576Z"
   },
   {
    "duration": 20,
    "start_time": "2021-09-19T12:53:19.337Z"
   },
   {
    "duration": 104,
    "start_time": "2021-09-19T12:59:53.479Z"
   },
   {
    "duration": 30,
    "start_time": "2021-09-19T13:07:58.713Z"
   },
   {
    "duration": 38,
    "start_time": "2021-09-19T13:08:19.722Z"
   },
   {
    "duration": 807,
    "start_time": "2021-09-19T13:08:26.637Z"
   },
   {
    "duration": 99,
    "start_time": "2021-09-19T13:08:27.452Z"
   },
   {
    "duration": 30,
    "start_time": "2021-09-19T13:08:27.555Z"
   },
   {
    "duration": 6,
    "start_time": "2021-09-19T13:08:27.589Z"
   },
   {
    "duration": 64,
    "start_time": "2021-09-19T13:08:27.597Z"
   },
   {
    "duration": 25,
    "start_time": "2021-09-19T13:08:27.663Z"
   },
   {
    "duration": 6,
    "start_time": "2021-09-19T13:08:27.690Z"
   },
   {
    "duration": 20,
    "start_time": "2021-09-19T13:08:27.701Z"
   },
   {
    "duration": 62,
    "start_time": "2021-09-19T13:08:27.723Z"
   },
   {
    "duration": 11,
    "start_time": "2021-09-19T13:08:27.787Z"
   },
   {
    "duration": 7,
    "start_time": "2021-09-19T13:08:27.800Z"
   },
   {
    "duration": 16,
    "start_time": "2021-09-19T13:08:27.810Z"
   },
   {
    "duration": 47,
    "start_time": "2021-09-19T13:08:27.828Z"
   },
   {
    "duration": 5066,
    "start_time": "2021-09-19T13:08:27.878Z"
   },
   {
    "duration": 62,
    "start_time": "2021-09-19T13:08:32.947Z"
   },
   {
    "duration": 11,
    "start_time": "2021-09-19T13:08:33.011Z"
   },
   {
    "duration": 68,
    "start_time": "2021-09-19T13:08:33.024Z"
   },
   {
    "duration": 41,
    "start_time": "2021-09-19T13:08:33.095Z"
   },
   {
    "duration": 37,
    "start_time": "2021-09-19T13:08:33.139Z"
   },
   {
    "duration": 46,
    "start_time": "2021-09-19T13:08:33.178Z"
   },
   {
    "duration": 841,
    "start_time": "2021-09-19T14:01:26.250Z"
   },
   {
    "duration": 73,
    "start_time": "2021-09-19T14:01:27.094Z"
   },
   {
    "duration": 16,
    "start_time": "2021-09-19T14:01:27.170Z"
   },
   {
    "duration": 8,
    "start_time": "2021-09-19T14:01:27.190Z"
   },
   {
    "duration": 65,
    "start_time": "2021-09-19T14:01:27.201Z"
   },
   {
    "duration": 24,
    "start_time": "2021-09-19T14:01:27.269Z"
   },
   {
    "duration": 6,
    "start_time": "2021-09-19T14:01:27.296Z"
   },
   {
    "duration": 17,
    "start_time": "2021-09-19T14:01:27.307Z"
   },
   {
    "duration": 71,
    "start_time": "2021-09-19T14:01:27.326Z"
   },
   {
    "duration": 13,
    "start_time": "2021-09-19T14:01:27.400Z"
   },
   {
    "duration": 18,
    "start_time": "2021-09-19T14:01:27.416Z"
   },
   {
    "duration": 31,
    "start_time": "2021-09-19T14:01:27.437Z"
   },
   {
    "duration": 36,
    "start_time": "2021-09-19T14:01:27.471Z"
   },
   {
    "duration": 5198,
    "start_time": "2021-09-19T14:01:27.511Z"
   },
   {
    "duration": 93,
    "start_time": "2021-09-19T14:01:32.713Z"
   },
   {
    "duration": 16,
    "start_time": "2021-09-19T14:01:32.809Z"
   },
   {
    "duration": 62,
    "start_time": "2021-09-19T14:01:32.861Z"
   },
   {
    "duration": 90,
    "start_time": "2021-09-19T14:01:32.927Z"
   },
   {
    "duration": 46,
    "start_time": "2021-09-19T14:01:33.021Z"
   },
   {
    "duration": 72,
    "start_time": "2021-09-19T14:01:33.071Z"
   },
   {
    "duration": 989,
    "start_time": "2021-09-20T10:09:48.501Z"
   },
   {
    "duration": 91,
    "start_time": "2021-09-20T10:09:49.494Z"
   },
   {
    "duration": 24,
    "start_time": "2021-09-20T10:09:49.589Z"
   },
   {
    "duration": 5,
    "start_time": "2021-09-20T10:09:49.617Z"
   },
   {
    "duration": 84,
    "start_time": "2021-09-20T10:09:49.625Z"
   },
   {
    "duration": 28,
    "start_time": "2021-09-20T10:09:49.712Z"
   },
   {
    "duration": 24,
    "start_time": "2021-09-20T10:09:49.743Z"
   },
   {
    "duration": 17,
    "start_time": "2021-09-20T10:09:49.773Z"
   },
   {
    "duration": 39,
    "start_time": "2021-09-20T10:09:49.794Z"
   },
   {
    "duration": 39,
    "start_time": "2021-09-20T10:09:49.836Z"
   },
   {
    "duration": 23,
    "start_time": "2021-09-20T10:09:49.878Z"
   },
   {
    "duration": 23,
    "start_time": "2021-09-20T10:09:49.904Z"
   },
   {
    "duration": 47,
    "start_time": "2021-09-20T10:09:49.930Z"
   },
   {
    "duration": 5076,
    "start_time": "2021-09-20T10:09:49.980Z"
   },
   {
    "duration": 49,
    "start_time": "2021-09-20T10:09:55.067Z"
   },
   {
    "duration": 10,
    "start_time": "2021-09-20T10:09:55.119Z"
   },
   {
    "duration": 70,
    "start_time": "2021-09-20T10:09:55.131Z"
   },
   {
    "duration": 41,
    "start_time": "2021-09-20T10:09:55.203Z"
   },
   {
    "duration": 36,
    "start_time": "2021-09-20T10:09:55.247Z"
   },
   {
    "duration": 44,
    "start_time": "2021-09-20T10:09:55.285Z"
   },
   {
    "duration": 12,
    "start_time": "2021-09-20T10:20:35.748Z"
   },
   {
    "duration": 14,
    "start_time": "2021-09-20T10:20:35.884Z"
   },
   {
    "duration": 117,
    "start_time": "2021-09-20T10:21:05.277Z"
   },
   {
    "duration": 14,
    "start_time": "2021-09-20T10:22:37.589Z"
   },
   {
    "duration": 406,
    "start_time": "2021-09-23T09:44:14.100Z"
   },
   {
    "duration": 573,
    "start_time": "2021-09-23T09:44:20.084Z"
   },
   {
    "duration": 56,
    "start_time": "2021-09-23T09:44:20.659Z"
   },
   {
    "duration": 13,
    "start_time": "2021-09-23T09:44:20.717Z"
   },
   {
    "duration": 4,
    "start_time": "2021-09-23T09:44:20.743Z"
   },
   {
    "duration": 25,
    "start_time": "2021-09-23T09:44:20.853Z"
   },
   {
    "duration": 19,
    "start_time": "2021-09-23T09:44:22.303Z"
   },
   {
    "duration": 14,
    "start_time": "2021-09-23T09:44:22.532Z"
   },
   {
    "duration": 33,
    "start_time": "2021-09-23T09:44:23.000Z"
   },
   {
    "duration": 33,
    "start_time": "2021-09-23T09:44:23.212Z"
   },
   {
    "duration": 10,
    "start_time": "2021-09-23T09:44:23.875Z"
   },
   {
    "duration": 9,
    "start_time": "2021-09-23T09:44:24.933Z"
   },
   {
    "duration": 5,
    "start_time": "2021-09-23T09:44:26.512Z"
   },
   {
    "duration": 13,
    "start_time": "2021-09-23T09:44:26.973Z"
   },
   {
    "duration": 19,
    "start_time": "2021-09-23T09:44:28.806Z"
   },
   {
    "duration": 7,
    "start_time": "2021-09-23T09:44:29.050Z"
   },
   {
    "duration": 4,
    "start_time": "2021-09-23T09:44:29.254Z"
   },
   {
    "duration": 6,
    "start_time": "2021-09-23T09:44:29.591Z"
   },
   {
    "duration": 15,
    "start_time": "2021-09-23T09:44:29.732Z"
   },
   {
    "duration": 3788,
    "start_time": "2021-09-23T09:44:31.588Z"
   },
   {
    "duration": 3761,
    "start_time": "2021-09-23T09:44:42.033Z"
   },
   {
    "duration": 3641,
    "start_time": "2021-09-23T09:44:57.482Z"
   },
   {
    "duration": 22,
    "start_time": "2021-09-23T09:45:47.178Z"
   },
   {
    "duration": 11,
    "start_time": "2021-09-23T09:46:46.140Z"
   },
   {
    "duration": 3680,
    "start_time": "2021-09-23T09:47:03.474Z"
   },
   {
    "duration": 3787,
    "start_time": "2021-09-23T09:50:08.762Z"
   },
   {
    "duration": 3380,
    "start_time": "2021-09-23T09:50:35.903Z"
   },
   {
    "duration": 3553,
    "start_time": "2021-09-23T09:50:43.110Z"
   },
   {
    "duration": 3895,
    "start_time": "2021-09-23T09:51:19.575Z"
   },
   {
    "duration": 5,
    "start_time": "2021-09-23T09:51:38.995Z"
   },
   {
    "duration": 19,
    "start_time": "2021-09-23T09:53:05.267Z"
   },
   {
    "duration": 274,
    "start_time": "2021-09-23T09:56:11.821Z"
   },
   {
    "duration": 88,
    "start_time": "2021-09-23T09:57:15.556Z"
   },
   {
    "duration": 30,
    "start_time": "2021-09-23T10:00:50.149Z"
   },
   {
    "duration": 6,
    "start_time": "2021-09-23T10:00:58.351Z"
   },
   {
    "duration": 9,
    "start_time": "2021-09-23T10:01:17.762Z"
   },
   {
    "duration": 9,
    "start_time": "2021-09-23T10:01:34.627Z"
   },
   {
    "duration": 9,
    "start_time": "2021-09-23T10:01:57.286Z"
   },
   {
    "duration": 649,
    "start_time": "2021-09-23T10:03:13.052Z"
   },
   {
    "duration": 54,
    "start_time": "2021-09-23T10:03:13.703Z"
   },
   {
    "duration": 11,
    "start_time": "2021-09-23T10:03:13.759Z"
   },
   {
    "duration": 27,
    "start_time": "2021-09-23T10:03:13.772Z"
   },
   {
    "duration": 32,
    "start_time": "2021-09-23T10:03:13.800Z"
   },
   {
    "duration": 16,
    "start_time": "2021-09-23T10:03:13.834Z"
   },
   {
    "duration": 9,
    "start_time": "2021-09-23T10:03:13.852Z"
   },
   {
    "duration": 32,
    "start_time": "2021-09-23T10:03:13.863Z"
   },
   {
    "duration": 30,
    "start_time": "2021-09-23T10:03:13.897Z"
   },
   {
    "duration": 24,
    "start_time": "2021-09-23T10:03:13.928Z"
   },
   {
    "duration": 10,
    "start_time": "2021-09-23T10:03:13.954Z"
   },
   {
    "duration": 5,
    "start_time": "2021-09-23T10:03:13.966Z"
   },
   {
    "duration": 32,
    "start_time": "2021-09-23T10:03:13.972Z"
   },
   {
    "duration": 22,
    "start_time": "2021-09-23T10:03:14.006Z"
   },
   {
    "duration": 8,
    "start_time": "2021-09-23T10:03:14.044Z"
   },
   {
    "duration": 7,
    "start_time": "2021-09-23T10:03:14.054Z"
   },
   {
    "duration": 12,
    "start_time": "2021-09-23T10:03:14.063Z"
   },
   {
    "duration": 16,
    "start_time": "2021-09-23T10:03:14.077Z"
   },
   {
    "duration": 3775,
    "start_time": "2021-09-23T10:03:14.095Z"
   },
   {
    "duration": 253,
    "start_time": "2021-09-23T10:03:17.872Z"
   },
   {
    "duration": 38,
    "start_time": "2021-09-23T10:03:18.126Z"
   },
   {
    "duration": 4,
    "start_time": "2021-09-23T10:03:18.166Z"
   },
   {
    "duration": 11,
    "start_time": "2021-09-23T10:03:18.173Z"
   },
   {
    "duration": 307,
    "start_time": "2021-09-23T10:03:18.186Z"
   },
   {
    "duration": 780,
    "start_time": "2021-09-23T10:03:17.715Z"
   },
   {
    "duration": 771,
    "start_time": "2021-09-23T10:03:17.725Z"
   },
   {
    "duration": 733,
    "start_time": "2021-09-23T10:03:17.764Z"
   },
   {
    "duration": 26,
    "start_time": "2021-09-23T10:03:31.449Z"
   },
   {
    "duration": 27,
    "start_time": "2021-09-23T10:03:53.669Z"
   },
   {
    "duration": 30,
    "start_time": "2021-09-23T10:04:44.267Z"
   },
   {
    "duration": 447,
    "start_time": "2021-09-23T10:06:47.324Z"
   },
   {
    "duration": 5,
    "start_time": "2021-09-23T10:06:58.957Z"
   },
   {
    "duration": 503,
    "start_time": "2021-09-23T10:07:27.109Z"
   },
   {
    "duration": 8,
    "start_time": "2021-09-23T10:08:21.819Z"
   },
   {
    "duration": 6,
    "start_time": "2021-09-23T10:08:53.045Z"
   },
   {
    "duration": 5,
    "start_time": "2021-09-23T10:08:53.437Z"
   },
   {
    "duration": 5,
    "start_time": "2021-09-23T10:08:53.979Z"
   },
   {
    "duration": 422,
    "start_time": "2021-09-23T10:13:31.370Z"
   },
   {
    "duration": 490,
    "start_time": "2021-09-23T10:13:44.981Z"
   },
   {
    "duration": 451,
    "start_time": "2021-09-23T10:14:30.656Z"
   },
   {
    "duration": 94,
    "start_time": "2021-09-23T10:24:53.293Z"
   },
   {
    "duration": 414,
    "start_time": "2021-09-23T10:24:58.581Z"
   },
   {
    "duration": 449,
    "start_time": "2021-09-23T10:25:16.227Z"
   },
   {
    "duration": 741,
    "start_time": "2021-09-23T10:25:43.185Z"
   },
   {
    "duration": 122,
    "start_time": "2021-09-23T10:27:17.803Z"
   },
   {
    "duration": 406,
    "start_time": "2021-09-23T10:27:30.953Z"
   },
   {
    "duration": 84,
    "start_time": "2021-09-23T10:28:10.372Z"
   },
   {
    "duration": 433,
    "start_time": "2021-09-23T10:28:26.317Z"
   },
   {
    "duration": 757,
    "start_time": "2021-09-23T10:28:34.171Z"
   },
   {
    "duration": 72,
    "start_time": "2021-09-23T10:28:34.930Z"
   },
   {
    "duration": 15,
    "start_time": "2021-09-23T10:28:35.004Z"
   },
   {
    "duration": 6,
    "start_time": "2021-09-23T10:28:35.021Z"
   },
   {
    "duration": 51,
    "start_time": "2021-09-23T10:28:35.031Z"
   },
   {
    "duration": 25,
    "start_time": "2021-09-23T10:28:35.084Z"
   },
   {
    "duration": 11,
    "start_time": "2021-09-23T10:28:35.112Z"
   },
   {
    "duration": 53,
    "start_time": "2021-09-23T10:28:35.125Z"
   },
   {
    "duration": 31,
    "start_time": "2021-09-23T10:28:35.180Z"
   },
   {
    "duration": 12,
    "start_time": "2021-09-23T10:28:35.213Z"
   },
   {
    "duration": 28,
    "start_time": "2021-09-23T10:28:35.226Z"
   },
   {
    "duration": 17,
    "start_time": "2021-09-23T10:28:35.256Z"
   },
   {
    "duration": 33,
    "start_time": "2021-09-23T10:28:35.275Z"
   },
   {
    "duration": 32,
    "start_time": "2021-09-23T10:28:35.309Z"
   },
   {
    "duration": 13,
    "start_time": "2021-09-23T10:28:35.342Z"
   },
   {
    "duration": 14,
    "start_time": "2021-09-23T10:28:35.357Z"
   },
   {
    "duration": 27,
    "start_time": "2021-09-23T10:28:35.373Z"
   },
   {
    "duration": 34,
    "start_time": "2021-09-23T10:28:35.402Z"
   },
   {
    "duration": 3767,
    "start_time": "2021-09-23T10:28:35.438Z"
   },
   {
    "duration": 277,
    "start_time": "2021-09-23T10:28:39.207Z"
   },
   {
    "duration": 34,
    "start_time": "2021-09-23T10:28:39.486Z"
   },
   {
    "duration": 5,
    "start_time": "2021-09-23T10:28:39.522Z"
   },
   {
    "duration": 13,
    "start_time": "2021-09-23T10:28:39.547Z"
   },
   {
    "duration": 7,
    "start_time": "2021-09-23T10:28:39.562Z"
   },
   {
    "duration": 13,
    "start_time": "2021-09-23T10:28:39.570Z"
   },
   {
    "duration": 17,
    "start_time": "2021-09-23T10:28:39.584Z"
   },
   {
    "duration": 481,
    "start_time": "2021-09-23T10:28:39.603Z"
   },
   {
    "duration": 749,
    "start_time": "2021-09-23T10:28:39.338Z"
   },
   {
    "duration": 721,
    "start_time": "2021-09-23T10:28:39.368Z"
   },
   {
    "duration": 683,
    "start_time": "2021-09-23T10:28:39.407Z"
   },
   {
    "duration": 660,
    "start_time": "2021-09-23T10:28:39.432Z"
   },
   {
    "duration": 446,
    "start_time": "2021-09-23T10:29:00.233Z"
   },
   {
    "duration": 4,
    "start_time": "2021-09-23T10:30:47.314Z"
   },
   {
    "duration": 318,
    "start_time": "2021-09-23T10:31:40.682Z"
   },
   {
    "duration": 257,
    "start_time": "2021-09-23T10:32:26.082Z"
   },
   {
    "duration": 557,
    "start_time": "2021-09-23T10:32:46.084Z"
   },
   {
    "duration": 52,
    "start_time": "2021-09-23T10:32:46.642Z"
   },
   {
    "duration": 10,
    "start_time": "2021-09-23T10:32:46.696Z"
   },
   {
    "duration": 5,
    "start_time": "2021-09-23T10:32:46.707Z"
   },
   {
    "duration": 25,
    "start_time": "2021-09-23T10:32:46.714Z"
   },
   {
    "duration": 16,
    "start_time": "2021-09-23T10:32:46.744Z"
   },
   {
    "duration": 13,
    "start_time": "2021-09-23T10:32:46.762Z"
   },
   {
    "duration": 33,
    "start_time": "2021-09-23T10:32:46.778Z"
   },
   {
    "duration": 52,
    "start_time": "2021-09-23T10:32:46.813Z"
   },
   {
    "duration": 8,
    "start_time": "2021-09-23T10:32:46.867Z"
   },
   {
    "duration": 21,
    "start_time": "2021-09-23T10:32:46.877Z"
   },
   {
    "duration": 16,
    "start_time": "2021-09-23T10:32:46.899Z"
   },
   {
    "duration": 13,
    "start_time": "2021-09-23T10:32:46.917Z"
   },
   {
    "duration": 29,
    "start_time": "2021-09-23T10:32:46.931Z"
   },
   {
    "duration": 7,
    "start_time": "2021-09-23T10:32:46.962Z"
   },
   {
    "duration": 15,
    "start_time": "2021-09-23T10:32:46.970Z"
   },
   {
    "duration": 14,
    "start_time": "2021-09-23T10:32:46.986Z"
   },
   {
    "duration": 24,
    "start_time": "2021-09-23T10:32:47.002Z"
   },
   {
    "duration": 3549,
    "start_time": "2021-09-23T10:32:47.028Z"
   },
   {
    "duration": 267,
    "start_time": "2021-09-23T10:32:50.579Z"
   },
   {
    "duration": 32,
    "start_time": "2021-09-23T10:32:50.847Z"
   },
   {
    "duration": 13,
    "start_time": "2021-09-23T10:32:50.881Z"
   },
   {
    "duration": 16,
    "start_time": "2021-09-23T10:32:50.897Z"
   },
   {
    "duration": 6,
    "start_time": "2021-09-23T10:32:50.915Z"
   },
   {
    "duration": 23,
    "start_time": "2021-09-23T10:32:50.922Z"
   },
   {
    "duration": 8,
    "start_time": "2021-09-23T10:32:50.947Z"
   },
   {
    "duration": 342,
    "start_time": "2021-09-23T10:32:50.956Z"
   },
   {
    "duration": 372,
    "start_time": "2021-09-23T10:32:50.928Z"
   },
   {
    "duration": 358,
    "start_time": "2021-09-23T10:32:50.942Z"
   },
   {
    "duration": 311,
    "start_time": "2021-09-23T10:32:50.990Z"
   },
   {
    "duration": 300,
    "start_time": "2021-09-23T10:32:51.002Z"
   },
   {
    "duration": 214,
    "start_time": "2021-09-23T10:33:15.031Z"
   },
   {
    "duration": 25,
    "start_time": "2021-09-23T10:33:35.084Z"
   },
   {
    "duration": 7,
    "start_time": "2021-09-23T10:34:39.554Z"
   },
   {
    "duration": 977,
    "start_time": "2021-09-23T10:35:17.496Z"
   },
   {
    "duration": 788,
    "start_time": "2021-09-23T10:35:17.687Z"
   },
   {
    "duration": 237,
    "start_time": "2021-09-23T10:35:32.488Z"
   },
   {
    "duration": 7,
    "start_time": "2021-09-23T10:35:33.688Z"
   },
   {
    "duration": 219,
    "start_time": "2021-09-23T10:36:26.892Z"
   },
   {
    "duration": 8,
    "start_time": "2021-09-23T10:36:27.575Z"
   },
   {
    "duration": 551,
    "start_time": "2021-09-23T10:36:38.383Z"
   },
   {
    "duration": 53,
    "start_time": "2021-09-23T10:36:38.939Z"
   },
   {
    "duration": 11,
    "start_time": "2021-09-23T10:36:38.994Z"
   },
   {
    "duration": 3,
    "start_time": "2021-09-23T10:36:39.007Z"
   },
   {
    "duration": 34,
    "start_time": "2021-09-23T10:36:39.011Z"
   },
   {
    "duration": 17,
    "start_time": "2021-09-23T10:36:39.047Z"
   },
   {
    "duration": 9,
    "start_time": "2021-09-23T10:36:39.066Z"
   },
   {
    "duration": 32,
    "start_time": "2021-09-23T10:36:39.077Z"
   },
   {
    "duration": 55,
    "start_time": "2021-09-23T10:36:39.111Z"
   },
   {
    "duration": 9,
    "start_time": "2021-09-23T10:36:39.167Z"
   },
   {
    "duration": 9,
    "start_time": "2021-09-23T10:36:39.178Z"
   },
   {
    "duration": 14,
    "start_time": "2021-09-23T10:36:39.188Z"
   },
   {
    "duration": 13,
    "start_time": "2021-09-23T10:36:39.203Z"
   },
   {
    "duration": 35,
    "start_time": "2021-09-23T10:36:39.218Z"
   },
   {
    "duration": 7,
    "start_time": "2021-09-23T10:36:39.255Z"
   },
   {
    "duration": 6,
    "start_time": "2021-09-23T10:36:39.263Z"
   },
   {
    "duration": 7,
    "start_time": "2021-09-23T10:36:39.270Z"
   },
   {
    "duration": 16,
    "start_time": "2021-09-23T10:36:39.279Z"
   },
   {
    "duration": 3901,
    "start_time": "2021-09-23T10:36:39.297Z"
   },
   {
    "duration": 272,
    "start_time": "2021-09-23T10:36:43.200Z"
   },
   {
    "duration": 35,
    "start_time": "2021-09-23T10:36:43.474Z"
   },
   {
    "duration": 5,
    "start_time": "2021-09-23T10:36:43.513Z"
   },
   {
    "duration": 12,
    "start_time": "2021-09-23T10:36:43.544Z"
   },
   {
    "duration": 5,
    "start_time": "2021-09-23T10:36:43.558Z"
   },
   {
    "duration": 7,
    "start_time": "2021-09-23T10:36:43.565Z"
   },
   {
    "duration": 5,
    "start_time": "2021-09-23T10:36:43.574Z"
   },
   {
    "duration": 241,
    "start_time": "2021-09-23T10:36:43.580Z"
   },
   {
    "duration": 7,
    "start_time": "2021-09-23T10:36:43.823Z"
   },
   {
    "duration": 41,
    "start_time": "2021-09-23T10:36:43.831Z"
   },
   {
    "duration": 27,
    "start_time": "2021-09-23T10:36:43.874Z"
   },
   {
    "duration": 13,
    "start_time": "2021-09-23T10:36:43.903Z"
   },
   {
    "duration": 50,
    "start_time": "2021-09-23T10:36:43.917Z"
   },
   {
    "duration": 1055,
    "start_time": "2021-09-23T10:36:57.766Z"
   },
   {
    "duration": 271,
    "start_time": "2021-09-23T10:37:16.409Z"
   },
   {
    "duration": 209,
    "start_time": "2021-09-23T10:37:24.806Z"
   },
   {
    "duration": 6,
    "start_time": "2021-09-23T10:38:15.247Z"
   },
   {
    "duration": 456,
    "start_time": "2021-09-24T07:22:25.691Z"
   },
   {
    "duration": 593,
    "start_time": "2021-09-24T07:22:33.515Z"
   },
   {
    "duration": 51,
    "start_time": "2021-09-24T07:22:34.110Z"
   },
   {
    "duration": 13,
    "start_time": "2021-09-24T07:22:34.163Z"
   },
   {
    "duration": 3,
    "start_time": "2021-09-24T07:22:34.178Z"
   },
   {
    "duration": 25,
    "start_time": "2021-09-24T07:22:34.183Z"
   },
   {
    "duration": 17,
    "start_time": "2021-09-24T07:22:34.210Z"
   },
   {
    "duration": 10,
    "start_time": "2021-09-24T07:22:34.229Z"
   },
   {
    "duration": 58,
    "start_time": "2021-09-24T07:22:34.242Z"
   },
   {
    "duration": 31,
    "start_time": "2021-09-24T07:22:34.303Z"
   },
   {
    "duration": 9,
    "start_time": "2021-09-24T07:22:34.336Z"
   },
   {
    "duration": 34,
    "start_time": "2021-09-24T07:22:34.347Z"
   },
   {
    "duration": 5,
    "start_time": "2021-09-24T07:22:34.383Z"
   },
   {
    "duration": 11,
    "start_time": "2021-09-24T07:22:34.390Z"
   },
   {
    "duration": 19,
    "start_time": "2021-09-24T07:22:34.403Z"
   },
   {
    "duration": 7,
    "start_time": "2021-09-24T07:22:34.423Z"
   },
   {
    "duration": 5,
    "start_time": "2021-09-24T07:22:34.431Z"
   },
   {
    "duration": 6,
    "start_time": "2021-09-24T07:22:34.438Z"
   },
   {
    "duration": 16,
    "start_time": "2021-09-24T07:22:34.477Z"
   },
   {
    "duration": 3738,
    "start_time": "2021-09-24T07:22:34.494Z"
   },
   {
    "duration": 287,
    "start_time": "2021-09-24T07:22:38.234Z"
   },
   {
    "duration": 31,
    "start_time": "2021-09-24T07:22:38.523Z"
   },
   {
    "duration": 22,
    "start_time": "2021-09-24T07:22:38.555Z"
   },
   {
    "duration": 13,
    "start_time": "2021-09-24T07:22:38.580Z"
   },
   {
    "duration": 6,
    "start_time": "2021-09-24T07:22:38.595Z"
   },
   {
    "duration": 6,
    "start_time": "2021-09-24T07:22:38.603Z"
   },
   {
    "duration": 6,
    "start_time": "2021-09-24T07:22:38.611Z"
   },
   {
    "duration": 251,
    "start_time": "2021-09-24T07:22:38.619Z"
   },
   {
    "duration": 6,
    "start_time": "2021-09-24T07:22:38.871Z"
   },
   {
    "duration": 30,
    "start_time": "2021-09-24T07:22:38.879Z"
   },
   {
    "duration": 28,
    "start_time": "2021-09-24T07:22:38.911Z"
   },
   {
    "duration": 37,
    "start_time": "2021-09-24T07:22:38.941Z"
   },
   {
    "duration": 28,
    "start_time": "2021-09-24T07:22:38.980Z"
   },
   {
    "duration": 16,
    "start_time": "2021-09-24T07:22:50.169Z"
   },
   {
    "duration": 229,
    "start_time": "2021-09-24T07:23:27.239Z"
   },
   {
    "duration": 6,
    "start_time": "2021-09-24T07:23:27.764Z"
   },
   {
    "duration": 10,
    "start_time": "2021-09-24T07:23:41.142Z"
   },
   {
    "duration": 6,
    "start_time": "2021-09-24T07:23:41.759Z"
   },
   {
    "duration": 27,
    "start_time": "2021-09-24T07:23:55.352Z"
   },
   {
    "duration": 29,
    "start_time": "2021-09-24T07:23:56.870Z"
   },
   {
    "duration": 410,
    "start_time": "2021-09-24T07:23:58.624Z"
   },
   {
    "duration": 21,
    "start_time": "2021-09-24T07:26:00.184Z"
   },
   {
    "duration": 6,
    "start_time": "2021-09-24T07:31:12.543Z"
   },
   {
    "duration": 26,
    "start_time": "2021-09-24T07:31:16.846Z"
   },
   {
    "duration": 22,
    "start_time": "2021-09-24T07:33:01.809Z"
   },
   {
    "duration": 27,
    "start_time": "2021-09-24T07:33:11.355Z"
   },
   {
    "duration": 328,
    "start_time": "2021-09-24T18:07:31.815Z"
   },
   {
    "duration": 813,
    "start_time": "2021-09-24T18:07:34.102Z"
   },
   {
    "duration": 85,
    "start_time": "2021-09-24T18:07:34.918Z"
   },
   {
    "duration": 43,
    "start_time": "2021-09-24T18:07:35.005Z"
   },
   {
    "duration": 35,
    "start_time": "2021-09-24T18:07:42.651Z"
   },
   {
    "duration": 1202,
    "start_time": "2021-09-24T18:08:19.889Z"
   },
   {
    "duration": 15,
    "start_time": "2021-09-24T18:08:51.402Z"
   },
   {
    "duration": 35,
    "start_time": "2021-09-24T18:09:14.356Z"
   },
   {
    "duration": 6,
    "start_time": "2021-09-24T18:09:21.634Z"
   },
   {
    "duration": 35,
    "start_time": "2021-09-24T18:09:29.694Z"
   },
   {
    "duration": 679,
    "start_time": "2021-09-24T18:10:24.071Z"
   },
   {
    "duration": 62,
    "start_time": "2021-09-24T18:10:24.752Z"
   },
   {
    "duration": 22,
    "start_time": "2021-09-24T18:10:24.820Z"
   },
   {
    "duration": 92,
    "start_time": "2021-09-24T18:10:24.845Z"
   },
   {
    "duration": -166,
    "start_time": "2021-09-24T18:10:25.109Z"
   },
   {
    "duration": -168,
    "start_time": "2021-09-24T18:10:25.113Z"
   },
   {
    "duration": -168,
    "start_time": "2021-09-24T18:10:25.114Z"
   },
   {
    "duration": -168,
    "start_time": "2021-09-24T18:10:25.116Z"
   },
   {
    "duration": -169,
    "start_time": "2021-09-24T18:10:25.118Z"
   },
   {
    "duration": -170,
    "start_time": "2021-09-24T18:10:25.121Z"
   },
   {
    "duration": -170,
    "start_time": "2021-09-24T18:10:25.122Z"
   },
   {
    "duration": -170,
    "start_time": "2021-09-24T18:10:25.124Z"
   },
   {
    "duration": -170,
    "start_time": "2021-09-24T18:10:25.125Z"
   },
   {
    "duration": -170,
    "start_time": "2021-09-24T18:10:25.127Z"
   },
   {
    "duration": -172,
    "start_time": "2021-09-24T18:10:25.130Z"
   },
   {
    "duration": -172,
    "start_time": "2021-09-24T18:10:25.132Z"
   },
   {
    "duration": -171,
    "start_time": "2021-09-24T18:10:25.133Z"
   },
   {
    "duration": -171,
    "start_time": "2021-09-24T18:10:25.134Z"
   },
   {
    "duration": -172,
    "start_time": "2021-09-24T18:10:25.137Z"
   },
   {
    "duration": -173,
    "start_time": "2021-09-24T18:10:25.139Z"
   },
   {
    "duration": -173,
    "start_time": "2021-09-24T18:10:25.141Z"
   },
   {
    "duration": -173,
    "start_time": "2021-09-24T18:10:25.142Z"
   },
   {
    "duration": -172,
    "start_time": "2021-09-24T18:10:25.143Z"
   },
   {
    "duration": -205,
    "start_time": "2021-09-24T18:10:25.177Z"
   },
   {
    "duration": -207,
    "start_time": "2021-09-24T18:10:25.181Z"
   },
   {
    "duration": -211,
    "start_time": "2021-09-24T18:10:25.187Z"
   },
   {
    "duration": -212,
    "start_time": "2021-09-24T18:10:25.189Z"
   },
   {
    "duration": -170,
    "start_time": "2021-09-24T18:10:25.192Z"
   },
   {
    "duration": -172,
    "start_time": "2021-09-24T18:10:25.196Z"
   },
   {
    "duration": -175,
    "start_time": "2021-09-24T18:10:25.200Z"
   },
   {
    "duration": -174,
    "start_time": "2021-09-24T18:10:25.201Z"
   },
   {
    "duration": -173,
    "start_time": "2021-09-24T18:10:25.202Z"
   },
   {
    "duration": 5,
    "start_time": "2021-09-24T18:10:37.104Z"
   },
   {
    "duration": 32,
    "start_time": "2021-09-24T18:10:38.367Z"
   },
   {
    "duration": 306,
    "start_time": "2021-09-26T10:11:14.878Z"
   },
   {
    "duration": 783,
    "start_time": "2021-09-26T10:11:23.973Z"
   },
   {
    "duration": 67,
    "start_time": "2021-09-26T10:11:24.759Z"
   },
   {
    "duration": 18,
    "start_time": "2021-09-26T10:11:24.830Z"
   },
   {
    "duration": 6,
    "start_time": "2021-09-26T10:11:24.866Z"
   },
   {
    "duration": 35,
    "start_time": "2021-09-26T10:11:24.875Z"
   },
   {
    "duration": 23,
    "start_time": "2021-09-26T10:11:24.913Z"
   },
   {
    "duration": 38,
    "start_time": "2021-09-26T10:11:24.938Z"
   },
   {
    "duration": 47,
    "start_time": "2021-09-26T10:11:24.980Z"
   },
   {
    "duration": 72,
    "start_time": "2021-09-26T10:11:25.030Z"
   },
   {
    "duration": 12,
    "start_time": "2021-09-26T10:11:25.105Z"
   },
   {
    "duration": 20,
    "start_time": "2021-09-26T10:11:25.119Z"
   },
   {
    "duration": 27,
    "start_time": "2021-09-26T10:11:25.141Z"
   },
   {
    "duration": 16,
    "start_time": "2021-09-26T10:11:25.171Z"
   },
   {
    "duration": 30,
    "start_time": "2021-09-26T10:11:25.189Z"
   },
   {
    "duration": 9,
    "start_time": "2021-09-26T10:11:25.221Z"
   },
   {
    "duration": 39,
    "start_time": "2021-09-26T10:11:25.232Z"
   },
   {
    "duration": 10,
    "start_time": "2021-09-26T10:11:25.273Z"
   },
   {
    "duration": 23,
    "start_time": "2021-09-26T10:11:25.286Z"
   },
   {
    "duration": 4809,
    "start_time": "2021-09-26T10:11:25.311Z"
   },
   {
    "duration": 522,
    "start_time": "2021-09-26T10:11:30.123Z"
   },
   {
    "duration": 58,
    "start_time": "2021-09-26T10:11:30.647Z"
   },
   {
    "duration": 7,
    "start_time": "2021-09-26T10:11:30.707Z"
   },
   {
    "duration": 21,
    "start_time": "2021-09-26T10:11:30.719Z"
   },
   {
    "duration": 8,
    "start_time": "2021-09-26T10:11:30.767Z"
   },
   {
    "duration": 9,
    "start_time": "2021-09-26T10:11:30.778Z"
   },
   {
    "duration": 9,
    "start_time": "2021-09-26T10:11:30.790Z"
   },
   {
    "duration": 18,
    "start_time": "2021-09-26T10:11:30.802Z"
   },
   {
    "duration": 50,
    "start_time": "2021-09-26T10:11:30.823Z"
   },
   {
    "duration": 55,
    "start_time": "2021-09-26T10:11:30.876Z"
   },
   {
    "duration": 60,
    "start_time": "2021-09-26T10:11:30.934Z"
   },
   {
    "duration": 34,
    "start_time": "2021-09-26T10:11:30.996Z"
   },
   {
    "duration": 75,
    "start_time": "2021-09-26T10:11:31.032Z"
   },
   {
    "duration": 35,
    "start_time": "2021-09-26T10:11:34.506Z"
   },
   {
    "duration": 3,
    "start_time": "2021-09-26T10:11:51.915Z"
   },
   {
    "duration": 60,
    "start_time": "2021-09-26T10:11:52.323Z"
   },
   {
    "duration": 771,
    "start_time": "2021-09-26T10:13:24.769Z"
   },
   {
    "duration": 65,
    "start_time": "2021-09-26T10:13:25.543Z"
   },
   {
    "duration": 58,
    "start_time": "2021-09-26T10:13:25.611Z"
   },
   {
    "duration": 16,
    "start_time": "2021-09-26T10:14:27.947Z"
   },
   {
    "duration": 447,
    "start_time": "2021-09-28T12:52:35.899Z"
   },
   {
    "duration": 619,
    "start_time": "2021-09-28T12:52:41.599Z"
   },
   {
    "duration": 53,
    "start_time": "2021-09-28T12:52:42.221Z"
   },
   {
    "duration": 11,
    "start_time": "2021-09-28T12:52:42.276Z"
   },
   {
    "duration": 26,
    "start_time": "2021-09-28T12:52:42.289Z"
   },
   {
    "duration": 57,
    "start_time": "2021-09-28T12:52:42.317Z"
   },
   {
    "duration": 17,
    "start_time": "2021-09-28T12:52:45.468Z"
   },
   {
    "duration": 9,
    "start_time": "2021-09-28T12:52:45.486Z"
   },
   {
    "duration": 37,
    "start_time": "2021-09-28T12:52:45.524Z"
   },
   {
    "duration": 32,
    "start_time": "2021-09-28T12:52:45.867Z"
   },
   {
    "duration": 11,
    "start_time": "2021-09-28T12:52:46.938Z"
   }
  ],
  "kernelspec": {
   "display_name": "Python 3",
   "language": "python",
   "name": "python3"
  },
  "language_info": {
   "codemirror_mode": {
    "name": "ipython",
    "version": 3
   },
   "file_extension": ".py",
   "mimetype": "text/x-python",
   "name": "python",
   "nbconvert_exporter": "python",
   "pygments_lexer": "ipython3",
   "version": "3.7.8"
  },
  "toc": {
   "base_numbering": 1,
   "nav_menu": {},
   "number_sections": true,
   "sideBar": true,
   "skip_h1_title": true,
   "title_cell": "Table of Contents",
   "title_sidebar": "Contents",
   "toc_cell": false,
   "toc_position": {
    "height": "calc(100% - 180px)",
    "left": "10px",
    "top": "150px",
    "width": "225px"
   },
   "toc_section_display": true,
   "toc_window_display": true
  }
 },
 "nbformat": 4,
 "nbformat_minor": 5
}
